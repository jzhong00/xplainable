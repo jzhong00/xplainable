{
 "cells": [
  {
   "cell_type": "markdown",
   "metadata": {},
   "source": [
    "# Example: A Dive Into Term Deposit Prediction\n",
    "\n",
    "To showcase xplainable, we’ll walk through an example using a Portuguese banking institution's open-source bank marketing dataset. The dataset can be found in the UCI Machine Learning Repository.\n",
    "\n",
    "You can read more about the dataset via the link, but at a high level, it consists of phone marketing campaign information used to predict whether a person will purchase a term deposit following a campaign.\n",
    "\n",
    "Generally, the intention is to develop a model to predict customers who will purchase a term deposit. But, by taking the approach I outlined earlier, we can frame the objective as follows:\n",
    "\n",
    "*Identify customers who are more likely to purchase a term deposit and learn the underlying factors that drive purchasing decisions for improved campaign design.*"
   ]
  },
  {
   "cell_type": "markdown",
   "metadata": {},
   "source": [
    "# Package Imports"
   ]
  },
  {
   "cell_type": "code",
   "execution_count": 1,
   "metadata": {},
   "outputs": [],
   "source": [
    "from ucimlrepo import fetch_ucirepo\n",
    "from sklearn.model_selection import train_test_split\n",
    "\n",
    "# fetch dataset \n",
    "bank_marketing = fetch_ucirepo(id=222) \n",
    "  \n",
    "# data (as pandas dataframes) \n",
    "X = bank_marketing.data.features \n",
    "y = bank_marketing.data.targets['y']\n",
    "\n",
    "# Create a training and test set\n",
    "X_train, X_test, y_train, y_test = train_test_split(X, y, test_size=0.2)"
   ]
  },
  {
   "cell_type": "code",
   "execution_count": 2,
   "metadata": {},
   "outputs": [
    {
     "data": {
      "text/html": [
       "<div>\n",
       "<style scoped>\n",
       "    .dataframe tbody tr th:only-of-type {\n",
       "        vertical-align: middle;\n",
       "    }\n",
       "\n",
       "    .dataframe tbody tr th {\n",
       "        vertical-align: top;\n",
       "    }\n",
       "\n",
       "    .dataframe thead th {\n",
       "        text-align: right;\n",
       "    }\n",
       "</style>\n",
       "<table border=\"1\" class=\"dataframe\">\n",
       "  <thead>\n",
       "    <tr style=\"text-align: right;\">\n",
       "      <th></th>\n",
       "      <th>age</th>\n",
       "      <th>job</th>\n",
       "      <th>marital</th>\n",
       "      <th>education</th>\n",
       "      <th>default</th>\n",
       "      <th>balance</th>\n",
       "      <th>housing</th>\n",
       "      <th>loan</th>\n",
       "      <th>contact</th>\n",
       "      <th>day_of_week</th>\n",
       "      <th>month</th>\n",
       "      <th>duration</th>\n",
       "      <th>campaign</th>\n",
       "      <th>pdays</th>\n",
       "      <th>previous</th>\n",
       "      <th>poutcome</th>\n",
       "    </tr>\n",
       "  </thead>\n",
       "  <tbody>\n",
       "    <tr>\n",
       "      <th>19738</th>\n",
       "      <td>32</td>\n",
       "      <td>management</td>\n",
       "      <td>married</td>\n",
       "      <td>tertiary</td>\n",
       "      <td>no</td>\n",
       "      <td>183</td>\n",
       "      <td>yes</td>\n",
       "      <td>no</td>\n",
       "      <td>cellular</td>\n",
       "      <td>7</td>\n",
       "      <td>aug</td>\n",
       "      <td>112</td>\n",
       "      <td>3</td>\n",
       "      <td>-1</td>\n",
       "      <td>0</td>\n",
       "      <td>NaN</td>\n",
       "    </tr>\n",
       "    <tr>\n",
       "      <th>31173</th>\n",
       "      <td>30</td>\n",
       "      <td>management</td>\n",
       "      <td>single</td>\n",
       "      <td>tertiary</td>\n",
       "      <td>no</td>\n",
       "      <td>5561</td>\n",
       "      <td>yes</td>\n",
       "      <td>no</td>\n",
       "      <td>cellular</td>\n",
       "      <td>27</td>\n",
       "      <td>feb</td>\n",
       "      <td>195</td>\n",
       "      <td>1</td>\n",
       "      <td>100</td>\n",
       "      <td>1</td>\n",
       "      <td>success</td>\n",
       "    </tr>\n",
       "    <tr>\n",
       "      <th>20792</th>\n",
       "      <td>49</td>\n",
       "      <td>blue-collar</td>\n",
       "      <td>married</td>\n",
       "      <td>primary</td>\n",
       "      <td>no</td>\n",
       "      <td>67</td>\n",
       "      <td>no</td>\n",
       "      <td>yes</td>\n",
       "      <td>cellular</td>\n",
       "      <td>13</td>\n",
       "      <td>aug</td>\n",
       "      <td>269</td>\n",
       "      <td>4</td>\n",
       "      <td>-1</td>\n",
       "      <td>0</td>\n",
       "      <td>NaN</td>\n",
       "    </tr>\n",
       "    <tr>\n",
       "      <th>38400</th>\n",
       "      <td>29</td>\n",
       "      <td>blue-collar</td>\n",
       "      <td>single</td>\n",
       "      <td>primary</td>\n",
       "      <td>no</td>\n",
       "      <td>722</td>\n",
       "      <td>yes</td>\n",
       "      <td>no</td>\n",
       "      <td>cellular</td>\n",
       "      <td>15</td>\n",
       "      <td>may</td>\n",
       "      <td>78</td>\n",
       "      <td>1</td>\n",
       "      <td>359</td>\n",
       "      <td>1</td>\n",
       "      <td>failure</td>\n",
       "    </tr>\n",
       "    <tr>\n",
       "      <th>35007</th>\n",
       "      <td>50</td>\n",
       "      <td>admin.</td>\n",
       "      <td>married</td>\n",
       "      <td>primary</td>\n",
       "      <td>no</td>\n",
       "      <td>458</td>\n",
       "      <td>yes</td>\n",
       "      <td>no</td>\n",
       "      <td>cellular</td>\n",
       "      <td>6</td>\n",
       "      <td>may</td>\n",
       "      <td>116</td>\n",
       "      <td>2</td>\n",
       "      <td>363</td>\n",
       "      <td>1</td>\n",
       "      <td>failure</td>\n",
       "    </tr>\n",
       "  </tbody>\n",
       "</table>\n",
       "</div>"
      ],
      "text/plain": [
       "       age          job  marital education default  balance housing loan  \\\n",
       "19738   32   management  married  tertiary      no      183     yes   no   \n",
       "31173   30   management   single  tertiary      no     5561     yes   no   \n",
       "20792   49  blue-collar  married   primary      no       67      no  yes   \n",
       "38400   29  blue-collar   single   primary      no      722     yes   no   \n",
       "35007   50       admin.  married   primary      no      458     yes   no   \n",
       "\n",
       "        contact  day_of_week month  duration  campaign  pdays  previous  \\\n",
       "19738  cellular            7   aug       112         3     -1         0   \n",
       "31173  cellular           27   feb       195         1    100         1   \n",
       "20792  cellular           13   aug       269         4     -1         0   \n",
       "38400  cellular           15   may        78         1    359         1   \n",
       "35007  cellular            6   may       116         2    363         1   \n",
       "\n",
       "      poutcome  \n",
       "19738      NaN  \n",
       "31173  success  \n",
       "20792      NaN  \n",
       "38400  failure  \n",
       "35007  failure  "
      ]
     },
     "execution_count": 2,
     "metadata": {},
     "output_type": "execute_result"
    }
   ],
   "source": [
    "X_train.head()"
   ]
  },
  {
   "cell_type": "markdown",
   "metadata": {},
   "source": []
  },
  {
   "cell_type": "markdown",
   "metadata": {},
   "source": [
    "## 1. Data Preprocessing"
   ]
  },
  {
   "cell_type": "code",
   "execution_count": 3,
   "metadata": {},
   "outputs": [
    {
     "ename": "KeyError",
     "evalue": "'city'",
     "output_type": "error",
     "traceback": [
      "\u001b[0;31m---------------------------------------------------------------------------\u001b[0m",
      "\u001b[0;31mKeyError\u001b[0m                                  Traceback (most recent call last)",
      "File \u001b[0;32m~/miniforge3/envs/xplainable-dev/lib/python3.10/site-packages/pandas/core/indexes/base.py:3802\u001b[0m, in \u001b[0;36mIndex.get_loc\u001b[0;34m(self, key, method, tolerance)\u001b[0m\n\u001b[1;32m   3801\u001b[0m \u001b[38;5;28;01mtry\u001b[39;00m:\n\u001b[0;32m-> 3802\u001b[0m     \u001b[38;5;28;01mreturn\u001b[39;00m \u001b[38;5;28;43mself\u001b[39;49m\u001b[38;5;241;43m.\u001b[39;49m\u001b[43m_engine\u001b[49m\u001b[38;5;241;43m.\u001b[39;49m\u001b[43mget_loc\u001b[49m\u001b[43m(\u001b[49m\u001b[43mcasted_key\u001b[49m\u001b[43m)\u001b[49m\n\u001b[1;32m   3803\u001b[0m \u001b[38;5;28;01mexcept\u001b[39;00m \u001b[38;5;167;01mKeyError\u001b[39;00m \u001b[38;5;28;01mas\u001b[39;00m err:\n",
      "File \u001b[0;32m~/miniforge3/envs/xplainable-dev/lib/python3.10/site-packages/pandas/_libs/index.pyx:138\u001b[0m, in \u001b[0;36mpandas._libs.index.IndexEngine.get_loc\u001b[0;34m()\u001b[0m\n",
      "File \u001b[0;32m~/miniforge3/envs/xplainable-dev/lib/python3.10/site-packages/pandas/_libs/index.pyx:165\u001b[0m, in \u001b[0;36mpandas._libs.index.IndexEngine.get_loc\u001b[0;34m()\u001b[0m\n",
      "File \u001b[0;32mpandas/_libs/hashtable_class_helper.pxi:5745\u001b[0m, in \u001b[0;36mpandas._libs.hashtable.PyObjectHashTable.get_item\u001b[0;34m()\u001b[0m\n",
      "File \u001b[0;32mpandas/_libs/hashtable_class_helper.pxi:5753\u001b[0m, in \u001b[0;36mpandas._libs.hashtable.PyObjectHashTable.get_item\u001b[0;34m()\u001b[0m\n",
      "\u001b[0;31mKeyError\u001b[0m: 'city'",
      "\nThe above exception was the direct cause of the following exception:\n",
      "\u001b[0;31mKeyError\u001b[0m                                  Traceback (most recent call last)",
      "Cell \u001b[0;32mIn[3], line 4\u001b[0m\n\u001b[1;32m      1\u001b[0m \u001b[38;5;28;01mfrom\u001b[39;00m \u001b[38;5;21;01mxplainable\u001b[39;00m\u001b[38;5;21;01m.\u001b[39;00m\u001b[38;5;21;01mpreprocessing\u001b[39;00m\u001b[38;5;21;01m.\u001b[39;00m\u001b[38;5;21;01mpipeline\u001b[39;00m \u001b[38;5;28;01mimport\u001b[39;00m XPipeline\n\u001b[1;32m      2\u001b[0m \u001b[38;5;28;01mimport\u001b[39;00m \u001b[38;5;21;01mxplainable\u001b[39;00m\u001b[38;5;21;01m.\u001b[39;00m\u001b[38;5;21;01mpreprocessing\u001b[39;00m\u001b[38;5;21;01m.\u001b[39;00m\u001b[38;5;21;01mtransformers\u001b[39;00m \u001b[38;5;28;01mas\u001b[39;00m \u001b[38;5;21;01mxtf\u001b[39;00m\n\u001b[0;32m----> 4\u001b[0m \u001b[43mX_train\u001b[49m\u001b[43m[\u001b[49m\u001b[38;5;124;43m'\u001b[39;49m\u001b[38;5;124;43mcity\u001b[39;49m\u001b[38;5;124;43m'\u001b[39;49m\u001b[43m]\u001b[49m\u001b[38;5;241m.\u001b[39mnunique()\n\u001b[1;32m      5\u001b[0m \u001b[38;5;66;03m# Result: 1127\u001b[39;00m\n\u001b[1;32m      7\u001b[0m pipeline \u001b[38;5;241m=\u001b[39m XPipeline()\n",
      "File \u001b[0;32m~/miniforge3/envs/xplainable-dev/lib/python3.10/site-packages/pandas/core/frame.py:3807\u001b[0m, in \u001b[0;36mDataFrame.__getitem__\u001b[0;34m(self, key)\u001b[0m\n\u001b[1;32m   3805\u001b[0m \u001b[38;5;28;01mif\u001b[39;00m \u001b[38;5;28mself\u001b[39m\u001b[38;5;241m.\u001b[39mcolumns\u001b[38;5;241m.\u001b[39mnlevels \u001b[38;5;241m>\u001b[39m \u001b[38;5;241m1\u001b[39m:\n\u001b[1;32m   3806\u001b[0m     \u001b[38;5;28;01mreturn\u001b[39;00m \u001b[38;5;28mself\u001b[39m\u001b[38;5;241m.\u001b[39m_getitem_multilevel(key)\n\u001b[0;32m-> 3807\u001b[0m indexer \u001b[38;5;241m=\u001b[39m \u001b[38;5;28;43mself\u001b[39;49m\u001b[38;5;241;43m.\u001b[39;49m\u001b[43mcolumns\u001b[49m\u001b[38;5;241;43m.\u001b[39;49m\u001b[43mget_loc\u001b[49m\u001b[43m(\u001b[49m\u001b[43mkey\u001b[49m\u001b[43m)\u001b[49m\n\u001b[1;32m   3808\u001b[0m \u001b[38;5;28;01mif\u001b[39;00m is_integer(indexer):\n\u001b[1;32m   3809\u001b[0m     indexer \u001b[38;5;241m=\u001b[39m [indexer]\n",
      "File \u001b[0;32m~/miniforge3/envs/xplainable-dev/lib/python3.10/site-packages/pandas/core/indexes/base.py:3804\u001b[0m, in \u001b[0;36mIndex.get_loc\u001b[0;34m(self, key, method, tolerance)\u001b[0m\n\u001b[1;32m   3802\u001b[0m     \u001b[38;5;28;01mreturn\u001b[39;00m \u001b[38;5;28mself\u001b[39m\u001b[38;5;241m.\u001b[39m_engine\u001b[38;5;241m.\u001b[39mget_loc(casted_key)\n\u001b[1;32m   3803\u001b[0m \u001b[38;5;28;01mexcept\u001b[39;00m \u001b[38;5;167;01mKeyError\u001b[39;00m \u001b[38;5;28;01mas\u001b[39;00m err:\n\u001b[0;32m-> 3804\u001b[0m     \u001b[38;5;28;01mraise\u001b[39;00m \u001b[38;5;167;01mKeyError\u001b[39;00m(key) \u001b[38;5;28;01mfrom\u001b[39;00m \u001b[38;5;21;01merr\u001b[39;00m\n\u001b[1;32m   3805\u001b[0m \u001b[38;5;28;01mexcept\u001b[39;00m \u001b[38;5;167;01mTypeError\u001b[39;00m:\n\u001b[1;32m   3806\u001b[0m     \u001b[38;5;66;03m# If we have a listlike key, _check_indexing_error will raise\u001b[39;00m\n\u001b[1;32m   3807\u001b[0m     \u001b[38;5;66;03m#  InvalidIndexError. Otherwise we fall through and re-raise\u001b[39;00m\n\u001b[1;32m   3808\u001b[0m     \u001b[38;5;66;03m#  the TypeError.\u001b[39;00m\n\u001b[1;32m   3809\u001b[0m     \u001b[38;5;28mself\u001b[39m\u001b[38;5;241m.\u001b[39m_check_indexing_error(key)\n",
      "\u001b[0;31mKeyError\u001b[0m: 'city'"
     ]
    }
   ],
   "source": [
    "from xplainable.preprocessing.pipeline import XPipeline\n",
    "import xplainable.preprocessing.transformers as xtf\n",
    "\n",
    "X_train['city'].nunique()\n",
    "# Result: 1127\n",
    "\n",
    "pipeline = XPipeline()\n",
    "\n",
    "stages = [\n",
    "    # <-- your other stages here, \n",
    "    {\"feature\": \"city\", \"transformer\": xtf.Condense(pct=0.5)}\n",
    "]\n",
    "\n",
    "pipeline.add_stages(stages)\n",
    "\n",
    "X_train_transformed = pipeline.fit_transform(X_train)\n",
    "\n",
    "X_train_transformed['city'].nunique()\n",
    "# Result: 256"
   ]
  },
  {
   "cell_type": "markdown",
   "metadata": {},
   "source": [
    "## 2. Feature Selection\n",
    "\n",
    "Feature selection is a critical process in model development, impacting both model performance and interpretability.\n",
    "\n",
    "### Issues:\n",
    "\n",
    "- **Multicollinearity**: High inter-feature correlation can degrade the interpretability of a model. It's important to identify and address multicollinearity to improve the utility of individual features.\n",
    "\n",
    "- **Feature Overload**: Excessive features can make a model complex and difficult to interpret without any additional increase in accuracy. Pruning less important features can aid in maintaining model performance while improving clarity.\n",
    "\n",
    "### Implementation:\n",
    "\n",
    "#### GraphSelector Class\n",
    "\n",
    "`GraphSelector` mitigates multicollinearity by pruning correlated features. It employs a correlation matrix and network graphs to evaluate the relationships between features.\n",
    "\n",
    "- **Process**: Analyses feature correlations using a matrix and `NetworkX` graph to determine redundancy.\n",
    "- **Result**: Isolates and removes features with high multicollinearity.\n",
    "\n"
   ]
  },
  {
   "cell_type": "code",
   "execution_count": 4,
   "metadata": {},
   "outputs": [
    {
     "data": {
      "application/vnd.jupyter.widget-view+json": {
       "model_id": "809d0d6bc9824d3a96bb661c07837c8a",
       "version_major": 2,
       "version_minor": 0
      },
      "text/plain": [
       "  0%|          | 0/25 [00:00<?, ?it/s]"
      ]
     },
     "metadata": {},
     "output_type": "display_data"
    },
    {
     "data": {
      "text/plain": [
       "['age',\n",
       " 'job',\n",
       " 'marital',\n",
       " 'education',\n",
       " 'default',\n",
       " 'balance',\n",
       " 'housing',\n",
       " 'loan',\n",
       " 'contact',\n",
       " 'day_of_week',\n",
       " 'month',\n",
       " 'duration',\n",
       " 'campaign',\n",
       " 'previous',\n",
       " 'poutcome']"
      ]
     },
     "execution_count": 4,
     "metadata": {},
     "output_type": "execute_result"
    }
   ],
   "source": [
    "from xplainable.feature_selection.graph import GraphSelector\n",
    "\n",
    "# Fit the network\n",
    "graph_selector = GraphSelector(min_feature_corr=0.5, min_target_corr=0.01)\n",
    "graph_selector.fit(X_train, y_train, start_threshold=0.75)\n",
    "\n",
    "# Access the remaining features\n",
    "graph_selector.selected"
   ]
  },
  {
   "cell_type": "code",
   "execution_count": 9,
   "metadata": {},
   "outputs": [
    {
     "data": {
      "application/vnd.plotly.v1+json": {
       "config": {
        "plotlyServerURL": "https://plot.ly"
       },
       "data": [
        {
         "mode": "lines",
         "type": "scatter3d",
         "x": [
          -0.7994127557156036,
          -0.8093820527500939,
          null
         ],
         "y": [
          -0.19250585324301328,
          -0.2842865980315338,
          null
         ],
         "z": [
          -0.3944592025895773,
          -0.3803765141712397,
          null
         ]
        },
        {
         "marker": {
          "color": "rgb(22, 96, 167)",
          "size": 6
         },
         "mode": "markers+text",
         "text": [
          "age",
          "job",
          "marital",
          "education",
          "default",
          "balance",
          "housing",
          "loan",
          "contact",
          "day_of_week",
          "month",
          "duration",
          "campaign",
          "pdays",
          "previous",
          "poutcome"
         ],
         "textposition": "top center",
         "type": "scatter3d",
         "x": [
          -0.5746570753208018,
          -0.6260939794839363,
          -0.7805519389234695,
          -0.20603409793359487,
          0.9458501141691497,
          0.6604914338598539,
          0.46768016442402993,
          0.5312936274902328,
          -0.04164970281735016,
          -0.18895164642754422,
          -0.13363847251973948,
          0.8520789482806936,
          0.19634326193193866,
          -0.7994127557156036,
          0.5066341717362361,
          -0.8093820527500939
         ],
         "y": [
          0.5689952249095348,
          -0.6588452650234452,
          0.5537231377427818,
          -0.012763103157779815,
          0.2395742052818567,
          -0.37747226971948883,
          0.7310008232020931,
          -0.134835827454385,
          -0.8647855362554177,
          1,
          0.21044407106342436,
          -0.5841356570111768,
          -0.9534891928361685,
          -0.19250585324301328,
          0.7593818405327178,
          -0.2842865980315338
         ],
         "z": [
          0.6877434843261079,
          0.5558426881280052,
          -0.43404739758413646,
          0.9598201663846356,
          0.46233620369914813,
          0.5811619066080257,
          0.5423019342629549,
          -0.8566588353889552,
          0.4042207922795791,
          0.03091061378166599,
          -0.9915264120171927,
          -0.39646030949150907,
          -0.22459452001047192,
          -0.3944592025895773,
          -0.5462145982170398,
          -0.3803765141712397
         ]
        }
       ],
       "frames": [
        {
         "data": [
          {
           "mode": "lines",
           "type": "scatter3d",
           "x": [
            -0.7994127557156036,
            -0.8093820527500939,
            null
           ],
           "y": [
            -0.19250585324301328,
            -0.2842865980315338,
            null
           ],
           "z": [
            -0.3944592025895773,
            -0.3803765141712397,
            null
           ]
          },
          {
           "marker": {
            "color": "rgb(22, 96, 167)",
            "size": 6
           },
           "mode": "markers+text",
           "text": [
            "age",
            "job",
            "marital",
            "education",
            "default",
            "balance",
            "housing",
            "loan",
            "contact",
            "day_of_week",
            "month",
            "duration",
            "campaign",
            "pdays",
            "previous",
            "poutcome"
           ],
           "textposition": "top center",
           "type": "scatter3d",
           "x": [
            -0.5746570753208018,
            -0.6260939794839363,
            -0.7805519389234695,
            -0.20603409793359487,
            0.9458501141691497,
            0.6604914338598539,
            0.46768016442402993,
            0.5312936274902328,
            -0.04164970281735016,
            -0.18895164642754422,
            -0.13363847251973948,
            0.8520789482806936,
            0.19634326193193866,
            -0.7994127557156036,
            0.5066341717362361,
            -0.8093820527500939
           ],
           "y": [
            0.5689952249095348,
            -0.6588452650234452,
            0.5537231377427818,
            -0.012763103157779815,
            0.2395742052818567,
            -0.37747226971948883,
            0.7310008232020931,
            -0.134835827454385,
            -0.8647855362554177,
            1,
            0.21044407106342436,
            -0.5841356570111768,
            -0.9534891928361685,
            -0.19250585324301328,
            0.7593818405327178,
            -0.2842865980315338
           ],
           "z": [
            0.6877434843261079,
            0.5558426881280052,
            -0.43404739758413646,
            0.9598201663846356,
            0.46233620369914813,
            0.5811619066080257,
            0.5423019342629549,
            -0.8566588353889552,
            0.4042207922795791,
            0.03091061378166599,
            -0.9915264120171927,
            -0.39646030949150907,
            -0.22459452001047192,
            -0.3944592025895773,
            -0.5462145982170398,
            -0.3803765141712397
           ]
          }
         ],
         "name": "frame0"
        }
       ],
       "layout": {
        "margin": {
         "b": 0,
         "l": 0,
         "r": 0,
         "t": 0
        },
        "scene": {
         "aspectmode": "cube",
         "xaxis": {
          "showticklabels": false
         },
         "yaxis": {
          "showticklabels": false
         },
         "zaxis": {
          "showticklabels": false
         }
        },
        "showlegend": false,
        "template": {
         "data": {
          "bar": [
           {
            "error_x": {
             "color": "#2a3f5f"
            },
            "error_y": {
             "color": "#2a3f5f"
            },
            "marker": {
             "line": {
              "color": "#E5ECF6",
              "width": 0.5
             },
             "pattern": {
              "fillmode": "overlay",
              "size": 10,
              "solidity": 0.2
             }
            },
            "type": "bar"
           }
          ],
          "barpolar": [
           {
            "marker": {
             "line": {
              "color": "#E5ECF6",
              "width": 0.5
             },
             "pattern": {
              "fillmode": "overlay",
              "size": 10,
              "solidity": 0.2
             }
            },
            "type": "barpolar"
           }
          ],
          "carpet": [
           {
            "aaxis": {
             "endlinecolor": "#2a3f5f",
             "gridcolor": "white",
             "linecolor": "white",
             "minorgridcolor": "white",
             "startlinecolor": "#2a3f5f"
            },
            "baxis": {
             "endlinecolor": "#2a3f5f",
             "gridcolor": "white",
             "linecolor": "white",
             "minorgridcolor": "white",
             "startlinecolor": "#2a3f5f"
            },
            "type": "carpet"
           }
          ],
          "choropleth": [
           {
            "colorbar": {
             "outlinewidth": 0,
             "ticks": ""
            },
            "type": "choropleth"
           }
          ],
          "contour": [
           {
            "colorbar": {
             "outlinewidth": 0,
             "ticks": ""
            },
            "colorscale": [
             [
              0,
              "#0d0887"
             ],
             [
              0.1111111111111111,
              "#46039f"
             ],
             [
              0.2222222222222222,
              "#7201a8"
             ],
             [
              0.3333333333333333,
              "#9c179e"
             ],
             [
              0.4444444444444444,
              "#bd3786"
             ],
             [
              0.5555555555555556,
              "#d8576b"
             ],
             [
              0.6666666666666666,
              "#ed7953"
             ],
             [
              0.7777777777777778,
              "#fb9f3a"
             ],
             [
              0.8888888888888888,
              "#fdca26"
             ],
             [
              1,
              "#f0f921"
             ]
            ],
            "type": "contour"
           }
          ],
          "contourcarpet": [
           {
            "colorbar": {
             "outlinewidth": 0,
             "ticks": ""
            },
            "type": "contourcarpet"
           }
          ],
          "heatmap": [
           {
            "colorbar": {
             "outlinewidth": 0,
             "ticks": ""
            },
            "colorscale": [
             [
              0,
              "#0d0887"
             ],
             [
              0.1111111111111111,
              "#46039f"
             ],
             [
              0.2222222222222222,
              "#7201a8"
             ],
             [
              0.3333333333333333,
              "#9c179e"
             ],
             [
              0.4444444444444444,
              "#bd3786"
             ],
             [
              0.5555555555555556,
              "#d8576b"
             ],
             [
              0.6666666666666666,
              "#ed7953"
             ],
             [
              0.7777777777777778,
              "#fb9f3a"
             ],
             [
              0.8888888888888888,
              "#fdca26"
             ],
             [
              1,
              "#f0f921"
             ]
            ],
            "type": "heatmap"
           }
          ],
          "heatmapgl": [
           {
            "colorbar": {
             "outlinewidth": 0,
             "ticks": ""
            },
            "colorscale": [
             [
              0,
              "#0d0887"
             ],
             [
              0.1111111111111111,
              "#46039f"
             ],
             [
              0.2222222222222222,
              "#7201a8"
             ],
             [
              0.3333333333333333,
              "#9c179e"
             ],
             [
              0.4444444444444444,
              "#bd3786"
             ],
             [
              0.5555555555555556,
              "#d8576b"
             ],
             [
              0.6666666666666666,
              "#ed7953"
             ],
             [
              0.7777777777777778,
              "#fb9f3a"
             ],
             [
              0.8888888888888888,
              "#fdca26"
             ],
             [
              1,
              "#f0f921"
             ]
            ],
            "type": "heatmapgl"
           }
          ],
          "histogram": [
           {
            "marker": {
             "pattern": {
              "fillmode": "overlay",
              "size": 10,
              "solidity": 0.2
             }
            },
            "type": "histogram"
           }
          ],
          "histogram2d": [
           {
            "colorbar": {
             "outlinewidth": 0,
             "ticks": ""
            },
            "colorscale": [
             [
              0,
              "#0d0887"
             ],
             [
              0.1111111111111111,
              "#46039f"
             ],
             [
              0.2222222222222222,
              "#7201a8"
             ],
             [
              0.3333333333333333,
              "#9c179e"
             ],
             [
              0.4444444444444444,
              "#bd3786"
             ],
             [
              0.5555555555555556,
              "#d8576b"
             ],
             [
              0.6666666666666666,
              "#ed7953"
             ],
             [
              0.7777777777777778,
              "#fb9f3a"
             ],
             [
              0.8888888888888888,
              "#fdca26"
             ],
             [
              1,
              "#f0f921"
             ]
            ],
            "type": "histogram2d"
           }
          ],
          "histogram2dcontour": [
           {
            "colorbar": {
             "outlinewidth": 0,
             "ticks": ""
            },
            "colorscale": [
             [
              0,
              "#0d0887"
             ],
             [
              0.1111111111111111,
              "#46039f"
             ],
             [
              0.2222222222222222,
              "#7201a8"
             ],
             [
              0.3333333333333333,
              "#9c179e"
             ],
             [
              0.4444444444444444,
              "#bd3786"
             ],
             [
              0.5555555555555556,
              "#d8576b"
             ],
             [
              0.6666666666666666,
              "#ed7953"
             ],
             [
              0.7777777777777778,
              "#fb9f3a"
             ],
             [
              0.8888888888888888,
              "#fdca26"
             ],
             [
              1,
              "#f0f921"
             ]
            ],
            "type": "histogram2dcontour"
           }
          ],
          "mesh3d": [
           {
            "colorbar": {
             "outlinewidth": 0,
             "ticks": ""
            },
            "type": "mesh3d"
           }
          ],
          "parcoords": [
           {
            "line": {
             "colorbar": {
              "outlinewidth": 0,
              "ticks": ""
             }
            },
            "type": "parcoords"
           }
          ],
          "pie": [
           {
            "automargin": true,
            "type": "pie"
           }
          ],
          "scatter": [
           {
            "fillpattern": {
             "fillmode": "overlay",
             "size": 10,
             "solidity": 0.2
            },
            "type": "scatter"
           }
          ],
          "scatter3d": [
           {
            "line": {
             "colorbar": {
              "outlinewidth": 0,
              "ticks": ""
             }
            },
            "marker": {
             "colorbar": {
              "outlinewidth": 0,
              "ticks": ""
             }
            },
            "type": "scatter3d"
           }
          ],
          "scattercarpet": [
           {
            "marker": {
             "colorbar": {
              "outlinewidth": 0,
              "ticks": ""
             }
            },
            "type": "scattercarpet"
           }
          ],
          "scattergeo": [
           {
            "marker": {
             "colorbar": {
              "outlinewidth": 0,
              "ticks": ""
             }
            },
            "type": "scattergeo"
           }
          ],
          "scattergl": [
           {
            "marker": {
             "colorbar": {
              "outlinewidth": 0,
              "ticks": ""
             }
            },
            "type": "scattergl"
           }
          ],
          "scattermapbox": [
           {
            "marker": {
             "colorbar": {
              "outlinewidth": 0,
              "ticks": ""
             }
            },
            "type": "scattermapbox"
           }
          ],
          "scatterpolar": [
           {
            "marker": {
             "colorbar": {
              "outlinewidth": 0,
              "ticks": ""
             }
            },
            "type": "scatterpolar"
           }
          ],
          "scatterpolargl": [
           {
            "marker": {
             "colorbar": {
              "outlinewidth": 0,
              "ticks": ""
             }
            },
            "type": "scatterpolargl"
           }
          ],
          "scatterternary": [
           {
            "marker": {
             "colorbar": {
              "outlinewidth": 0,
              "ticks": ""
             }
            },
            "type": "scatterternary"
           }
          ],
          "surface": [
           {
            "colorbar": {
             "outlinewidth": 0,
             "ticks": ""
            },
            "colorscale": [
             [
              0,
              "#0d0887"
             ],
             [
              0.1111111111111111,
              "#46039f"
             ],
             [
              0.2222222222222222,
              "#7201a8"
             ],
             [
              0.3333333333333333,
              "#9c179e"
             ],
             [
              0.4444444444444444,
              "#bd3786"
             ],
             [
              0.5555555555555556,
              "#d8576b"
             ],
             [
              0.6666666666666666,
              "#ed7953"
             ],
             [
              0.7777777777777778,
              "#fb9f3a"
             ],
             [
              0.8888888888888888,
              "#fdca26"
             ],
             [
              1,
              "#f0f921"
             ]
            ],
            "type": "surface"
           }
          ],
          "table": [
           {
            "cells": {
             "fill": {
              "color": "#EBF0F8"
             },
             "line": {
              "color": "white"
             }
            },
            "header": {
             "fill": {
              "color": "#C8D4E3"
             },
             "line": {
              "color": "white"
             }
            },
            "type": "table"
           }
          ]
         },
         "layout": {
          "annotationdefaults": {
           "arrowcolor": "#2a3f5f",
           "arrowhead": 0,
           "arrowwidth": 1
          },
          "autotypenumbers": "strict",
          "coloraxis": {
           "colorbar": {
            "outlinewidth": 0,
            "ticks": ""
           }
          },
          "colorscale": {
           "diverging": [
            [
             0,
             "#8e0152"
            ],
            [
             0.1,
             "#c51b7d"
            ],
            [
             0.2,
             "#de77ae"
            ],
            [
             0.3,
             "#f1b6da"
            ],
            [
             0.4,
             "#fde0ef"
            ],
            [
             0.5,
             "#f7f7f7"
            ],
            [
             0.6,
             "#e6f5d0"
            ],
            [
             0.7,
             "#b8e186"
            ],
            [
             0.8,
             "#7fbc41"
            ],
            [
             0.9,
             "#4d9221"
            ],
            [
             1,
             "#276419"
            ]
           ],
           "sequential": [
            [
             0,
             "#0d0887"
            ],
            [
             0.1111111111111111,
             "#46039f"
            ],
            [
             0.2222222222222222,
             "#7201a8"
            ],
            [
             0.3333333333333333,
             "#9c179e"
            ],
            [
             0.4444444444444444,
             "#bd3786"
            ],
            [
             0.5555555555555556,
             "#d8576b"
            ],
            [
             0.6666666666666666,
             "#ed7953"
            ],
            [
             0.7777777777777778,
             "#fb9f3a"
            ],
            [
             0.8888888888888888,
             "#fdca26"
            ],
            [
             1,
             "#f0f921"
            ]
           ],
           "sequentialminus": [
            [
             0,
             "#0d0887"
            ],
            [
             0.1111111111111111,
             "#46039f"
            ],
            [
             0.2222222222222222,
             "#7201a8"
            ],
            [
             0.3333333333333333,
             "#9c179e"
            ],
            [
             0.4444444444444444,
             "#bd3786"
            ],
            [
             0.5555555555555556,
             "#d8576b"
            ],
            [
             0.6666666666666666,
             "#ed7953"
            ],
            [
             0.7777777777777778,
             "#fb9f3a"
            ],
            [
             0.8888888888888888,
             "#fdca26"
            ],
            [
             1,
             "#f0f921"
            ]
           ]
          },
          "colorway": [
           "#636efa",
           "#EF553B",
           "#00cc96",
           "#ab63fa",
           "#FFA15A",
           "#19d3f3",
           "#FF6692",
           "#B6E880",
           "#FF97FF",
           "#FECB52"
          ],
          "font": {
           "color": "#2a3f5f"
          },
          "geo": {
           "bgcolor": "white",
           "lakecolor": "white",
           "landcolor": "#E5ECF6",
           "showlakes": true,
           "showland": true,
           "subunitcolor": "white"
          },
          "hoverlabel": {
           "align": "left"
          },
          "hovermode": "closest",
          "mapbox": {
           "style": "light"
          },
          "paper_bgcolor": "white",
          "plot_bgcolor": "#E5ECF6",
          "polar": {
           "angularaxis": {
            "gridcolor": "white",
            "linecolor": "white",
            "ticks": ""
           },
           "bgcolor": "#E5ECF6",
           "radialaxis": {
            "gridcolor": "white",
            "linecolor": "white",
            "ticks": ""
           }
          },
          "scene": {
           "xaxis": {
            "backgroundcolor": "#E5ECF6",
            "gridcolor": "white",
            "gridwidth": 2,
            "linecolor": "white",
            "showbackground": true,
            "ticks": "",
            "zerolinecolor": "white"
           },
           "yaxis": {
            "backgroundcolor": "#E5ECF6",
            "gridcolor": "white",
            "gridwidth": 2,
            "linecolor": "white",
            "showbackground": true,
            "ticks": "",
            "zerolinecolor": "white"
           },
           "zaxis": {
            "backgroundcolor": "#E5ECF6",
            "gridcolor": "white",
            "gridwidth": 2,
            "linecolor": "white",
            "showbackground": true,
            "ticks": "",
            "zerolinecolor": "white"
           }
          },
          "shapedefaults": {
           "line": {
            "color": "#2a3f5f"
           }
          },
          "ternary": {
           "aaxis": {
            "gridcolor": "white",
            "linecolor": "white",
            "ticks": ""
           },
           "baxis": {
            "gridcolor": "white",
            "linecolor": "white",
            "ticks": ""
           },
           "bgcolor": "#E5ECF6",
           "caxis": {
            "gridcolor": "white",
            "linecolor": "white",
            "ticks": ""
           }
          },
          "title": {
           "x": 0.05
          },
          "xaxis": {
           "automargin": true,
           "gridcolor": "white",
           "linecolor": "white",
           "ticks": "",
           "title": {
            "standoff": 15
           },
           "zerolinecolor": "white",
           "zerolinewidth": 2
          },
          "yaxis": {
           "automargin": true,
           "gridcolor": "white",
           "linecolor": "white",
           "ticks": "",
           "title": {
            "standoff": 15
           },
           "zerolinecolor": "white",
           "zerolinewidth": 2
          }
         }
        },
        "updatemenus": [
         {
          "buttons": [
           {
            "args": [
             null,
             {
              "frame": {
               "duration": 500,
               "redraw": true
              },
              "fromcurrent": true,
              "transition": {
               "duration": 0
              }
             }
            ],
            "label": "Play",
            "method": "animate"
           }
          ],
          "showactive": false,
          "type": "buttons"
         }
        ]
       }
      },
      "text/html": [
       "<div>                            <div id=\"4deed038-9bcb-45aa-a271-1796001d36f8\" class=\"plotly-graph-div\" style=\"height:525px; width:100%;\"></div>            <script type=\"text/javascript\">                require([\"plotly\"], function(Plotly) {                    window.PLOTLYENV=window.PLOTLYENV || {};                                    if (document.getElementById(\"4deed038-9bcb-45aa-a271-1796001d36f8\")) {                    Plotly.newPlot(                        \"4deed038-9bcb-45aa-a271-1796001d36f8\",                        [{\"mode\":\"lines\",\"x\":[-0.7994127557156036,-0.8093820527500939,null],\"y\":[-0.19250585324301328,-0.2842865980315338,null],\"z\":[-0.3944592025895773,-0.3803765141712397,null],\"type\":\"scatter3d\"},{\"marker\":{\"color\":\"rgb(22, 96, 167)\",\"size\":6},\"mode\":\"markers+text\",\"text\":[\"age\",\"job\",\"marital\",\"education\",\"default\",\"balance\",\"housing\",\"loan\",\"contact\",\"day_of_week\",\"month\",\"duration\",\"campaign\",\"pdays\",\"previous\",\"poutcome\"],\"textposition\":\"top center\",\"x\":[-0.5746570753208018,-0.6260939794839363,-0.7805519389234695,-0.20603409793359487,0.9458501141691497,0.6604914338598539,0.46768016442402993,0.5312936274902328,-0.04164970281735016,-0.18895164642754422,-0.13363847251973948,0.8520789482806936,0.19634326193193866,-0.7994127557156036,0.5066341717362361,-0.8093820527500939],\"y\":[0.5689952249095348,-0.6588452650234452,0.5537231377427818,-0.012763103157779815,0.2395742052818567,-0.37747226971948883,0.7310008232020931,-0.134835827454385,-0.8647855362554177,1.0,0.21044407106342436,-0.5841356570111768,-0.9534891928361685,-0.19250585324301328,0.7593818405327178,-0.2842865980315338],\"z\":[0.6877434843261079,0.5558426881280052,-0.43404739758413646,0.9598201663846356,0.46233620369914813,0.5811619066080257,0.5423019342629549,-0.8566588353889552,0.4042207922795791,0.03091061378166599,-0.9915264120171927,-0.39646030949150907,-0.22459452001047192,-0.3944592025895773,-0.5462145982170398,-0.3803765141712397],\"type\":\"scatter3d\"}],                        {\"margin\":{\"b\":0,\"l\":0,\"r\":0,\"t\":0},\"scene\":{\"aspectmode\":\"cube\",\"xaxis\":{\"showticklabels\":false},\"yaxis\":{\"showticklabels\":false},\"zaxis\":{\"showticklabels\":false}},\"showlegend\":false,\"updatemenus\":[{\"buttons\":[{\"args\":[null,{\"frame\":{\"duration\":500,\"redraw\":true},\"fromcurrent\":true,\"transition\":{\"duration\":0}}],\"label\":\"Play\",\"method\":\"animate\"}],\"showactive\":false,\"type\":\"buttons\"}],\"template\":{\"data\":{\"histogram2dcontour\":[{\"type\":\"histogram2dcontour\",\"colorbar\":{\"outlinewidth\":0,\"ticks\":\"\"},\"colorscale\":[[0.0,\"#0d0887\"],[0.1111111111111111,\"#46039f\"],[0.2222222222222222,\"#7201a8\"],[0.3333333333333333,\"#9c179e\"],[0.4444444444444444,\"#bd3786\"],[0.5555555555555556,\"#d8576b\"],[0.6666666666666666,\"#ed7953\"],[0.7777777777777778,\"#fb9f3a\"],[0.8888888888888888,\"#fdca26\"],[1.0,\"#f0f921\"]]}],\"choropleth\":[{\"type\":\"choropleth\",\"colorbar\":{\"outlinewidth\":0,\"ticks\":\"\"}}],\"histogram2d\":[{\"type\":\"histogram2d\",\"colorbar\":{\"outlinewidth\":0,\"ticks\":\"\"},\"colorscale\":[[0.0,\"#0d0887\"],[0.1111111111111111,\"#46039f\"],[0.2222222222222222,\"#7201a8\"],[0.3333333333333333,\"#9c179e\"],[0.4444444444444444,\"#bd3786\"],[0.5555555555555556,\"#d8576b\"],[0.6666666666666666,\"#ed7953\"],[0.7777777777777778,\"#fb9f3a\"],[0.8888888888888888,\"#fdca26\"],[1.0,\"#f0f921\"]]}],\"heatmap\":[{\"type\":\"heatmap\",\"colorbar\":{\"outlinewidth\":0,\"ticks\":\"\"},\"colorscale\":[[0.0,\"#0d0887\"],[0.1111111111111111,\"#46039f\"],[0.2222222222222222,\"#7201a8\"],[0.3333333333333333,\"#9c179e\"],[0.4444444444444444,\"#bd3786\"],[0.5555555555555556,\"#d8576b\"],[0.6666666666666666,\"#ed7953\"],[0.7777777777777778,\"#fb9f3a\"],[0.8888888888888888,\"#fdca26\"],[1.0,\"#f0f921\"]]}],\"heatmapgl\":[{\"type\":\"heatmapgl\",\"colorbar\":{\"outlinewidth\":0,\"ticks\":\"\"},\"colorscale\":[[0.0,\"#0d0887\"],[0.1111111111111111,\"#46039f\"],[0.2222222222222222,\"#7201a8\"],[0.3333333333333333,\"#9c179e\"],[0.4444444444444444,\"#bd3786\"],[0.5555555555555556,\"#d8576b\"],[0.6666666666666666,\"#ed7953\"],[0.7777777777777778,\"#fb9f3a\"],[0.8888888888888888,\"#fdca26\"],[1.0,\"#f0f921\"]]}],\"contourcarpet\":[{\"type\":\"contourcarpet\",\"colorbar\":{\"outlinewidth\":0,\"ticks\":\"\"}}],\"contour\":[{\"type\":\"contour\",\"colorbar\":{\"outlinewidth\":0,\"ticks\":\"\"},\"colorscale\":[[0.0,\"#0d0887\"],[0.1111111111111111,\"#46039f\"],[0.2222222222222222,\"#7201a8\"],[0.3333333333333333,\"#9c179e\"],[0.4444444444444444,\"#bd3786\"],[0.5555555555555556,\"#d8576b\"],[0.6666666666666666,\"#ed7953\"],[0.7777777777777778,\"#fb9f3a\"],[0.8888888888888888,\"#fdca26\"],[1.0,\"#f0f921\"]]}],\"surface\":[{\"type\":\"surface\",\"colorbar\":{\"outlinewidth\":0,\"ticks\":\"\"},\"colorscale\":[[0.0,\"#0d0887\"],[0.1111111111111111,\"#46039f\"],[0.2222222222222222,\"#7201a8\"],[0.3333333333333333,\"#9c179e\"],[0.4444444444444444,\"#bd3786\"],[0.5555555555555556,\"#d8576b\"],[0.6666666666666666,\"#ed7953\"],[0.7777777777777778,\"#fb9f3a\"],[0.8888888888888888,\"#fdca26\"],[1.0,\"#f0f921\"]]}],\"mesh3d\":[{\"type\":\"mesh3d\",\"colorbar\":{\"outlinewidth\":0,\"ticks\":\"\"}}],\"scatter\":[{\"fillpattern\":{\"fillmode\":\"overlay\",\"size\":10,\"solidity\":0.2},\"type\":\"scatter\"}],\"parcoords\":[{\"type\":\"parcoords\",\"line\":{\"colorbar\":{\"outlinewidth\":0,\"ticks\":\"\"}}}],\"scatterpolargl\":[{\"type\":\"scatterpolargl\",\"marker\":{\"colorbar\":{\"outlinewidth\":0,\"ticks\":\"\"}}}],\"bar\":[{\"error_x\":{\"color\":\"#2a3f5f\"},\"error_y\":{\"color\":\"#2a3f5f\"},\"marker\":{\"line\":{\"color\":\"#E5ECF6\",\"width\":0.5},\"pattern\":{\"fillmode\":\"overlay\",\"size\":10,\"solidity\":0.2}},\"type\":\"bar\"}],\"scattergeo\":[{\"type\":\"scattergeo\",\"marker\":{\"colorbar\":{\"outlinewidth\":0,\"ticks\":\"\"}}}],\"scatterpolar\":[{\"type\":\"scatterpolar\",\"marker\":{\"colorbar\":{\"outlinewidth\":0,\"ticks\":\"\"}}}],\"histogram\":[{\"marker\":{\"pattern\":{\"fillmode\":\"overlay\",\"size\":10,\"solidity\":0.2}},\"type\":\"histogram\"}],\"scattergl\":[{\"type\":\"scattergl\",\"marker\":{\"colorbar\":{\"outlinewidth\":0,\"ticks\":\"\"}}}],\"scatter3d\":[{\"type\":\"scatter3d\",\"line\":{\"colorbar\":{\"outlinewidth\":0,\"ticks\":\"\"}},\"marker\":{\"colorbar\":{\"outlinewidth\":0,\"ticks\":\"\"}}}],\"scattermapbox\":[{\"type\":\"scattermapbox\",\"marker\":{\"colorbar\":{\"outlinewidth\":0,\"ticks\":\"\"}}}],\"scatterternary\":[{\"type\":\"scatterternary\",\"marker\":{\"colorbar\":{\"outlinewidth\":0,\"ticks\":\"\"}}}],\"scattercarpet\":[{\"type\":\"scattercarpet\",\"marker\":{\"colorbar\":{\"outlinewidth\":0,\"ticks\":\"\"}}}],\"carpet\":[{\"aaxis\":{\"endlinecolor\":\"#2a3f5f\",\"gridcolor\":\"white\",\"linecolor\":\"white\",\"minorgridcolor\":\"white\",\"startlinecolor\":\"#2a3f5f\"},\"baxis\":{\"endlinecolor\":\"#2a3f5f\",\"gridcolor\":\"white\",\"linecolor\":\"white\",\"minorgridcolor\":\"white\",\"startlinecolor\":\"#2a3f5f\"},\"type\":\"carpet\"}],\"table\":[{\"cells\":{\"fill\":{\"color\":\"#EBF0F8\"},\"line\":{\"color\":\"white\"}},\"header\":{\"fill\":{\"color\":\"#C8D4E3\"},\"line\":{\"color\":\"white\"}},\"type\":\"table\"}],\"barpolar\":[{\"marker\":{\"line\":{\"color\":\"#E5ECF6\",\"width\":0.5},\"pattern\":{\"fillmode\":\"overlay\",\"size\":10,\"solidity\":0.2}},\"type\":\"barpolar\"}],\"pie\":[{\"automargin\":true,\"type\":\"pie\"}]},\"layout\":{\"autotypenumbers\":\"strict\",\"colorway\":[\"#636efa\",\"#EF553B\",\"#00cc96\",\"#ab63fa\",\"#FFA15A\",\"#19d3f3\",\"#FF6692\",\"#B6E880\",\"#FF97FF\",\"#FECB52\"],\"font\":{\"color\":\"#2a3f5f\"},\"hovermode\":\"closest\",\"hoverlabel\":{\"align\":\"left\"},\"paper_bgcolor\":\"white\",\"plot_bgcolor\":\"#E5ECF6\",\"polar\":{\"bgcolor\":\"#E5ECF6\",\"angularaxis\":{\"gridcolor\":\"white\",\"linecolor\":\"white\",\"ticks\":\"\"},\"radialaxis\":{\"gridcolor\":\"white\",\"linecolor\":\"white\",\"ticks\":\"\"}},\"ternary\":{\"bgcolor\":\"#E5ECF6\",\"aaxis\":{\"gridcolor\":\"white\",\"linecolor\":\"white\",\"ticks\":\"\"},\"baxis\":{\"gridcolor\":\"white\",\"linecolor\":\"white\",\"ticks\":\"\"},\"caxis\":{\"gridcolor\":\"white\",\"linecolor\":\"white\",\"ticks\":\"\"}},\"coloraxis\":{\"colorbar\":{\"outlinewidth\":0,\"ticks\":\"\"}},\"colorscale\":{\"sequential\":[[0.0,\"#0d0887\"],[0.1111111111111111,\"#46039f\"],[0.2222222222222222,\"#7201a8\"],[0.3333333333333333,\"#9c179e\"],[0.4444444444444444,\"#bd3786\"],[0.5555555555555556,\"#d8576b\"],[0.6666666666666666,\"#ed7953\"],[0.7777777777777778,\"#fb9f3a\"],[0.8888888888888888,\"#fdca26\"],[1.0,\"#f0f921\"]],\"sequentialminus\":[[0.0,\"#0d0887\"],[0.1111111111111111,\"#46039f\"],[0.2222222222222222,\"#7201a8\"],[0.3333333333333333,\"#9c179e\"],[0.4444444444444444,\"#bd3786\"],[0.5555555555555556,\"#d8576b\"],[0.6666666666666666,\"#ed7953\"],[0.7777777777777778,\"#fb9f3a\"],[0.8888888888888888,\"#fdca26\"],[1.0,\"#f0f921\"]],\"diverging\":[[0,\"#8e0152\"],[0.1,\"#c51b7d\"],[0.2,\"#de77ae\"],[0.3,\"#f1b6da\"],[0.4,\"#fde0ef\"],[0.5,\"#f7f7f7\"],[0.6,\"#e6f5d0\"],[0.7,\"#b8e186\"],[0.8,\"#7fbc41\"],[0.9,\"#4d9221\"],[1,\"#276419\"]]},\"xaxis\":{\"gridcolor\":\"white\",\"linecolor\":\"white\",\"ticks\":\"\",\"title\":{\"standoff\":15},\"zerolinecolor\":\"white\",\"automargin\":true,\"zerolinewidth\":2},\"yaxis\":{\"gridcolor\":\"white\",\"linecolor\":\"white\",\"ticks\":\"\",\"title\":{\"standoff\":15},\"zerolinecolor\":\"white\",\"automargin\":true,\"zerolinewidth\":2},\"scene\":{\"xaxis\":{\"backgroundcolor\":\"#E5ECF6\",\"gridcolor\":\"white\",\"linecolor\":\"white\",\"showbackground\":true,\"ticks\":\"\",\"zerolinecolor\":\"white\",\"gridwidth\":2},\"yaxis\":{\"backgroundcolor\":\"#E5ECF6\",\"gridcolor\":\"white\",\"linecolor\":\"white\",\"showbackground\":true,\"ticks\":\"\",\"zerolinecolor\":\"white\",\"gridwidth\":2},\"zaxis\":{\"backgroundcolor\":\"#E5ECF6\",\"gridcolor\":\"white\",\"linecolor\":\"white\",\"showbackground\":true,\"ticks\":\"\",\"zerolinecolor\":\"white\",\"gridwidth\":2}},\"shapedefaults\":{\"line\":{\"color\":\"#2a3f5f\"}},\"annotationdefaults\":{\"arrowcolor\":\"#2a3f5f\",\"arrowhead\":0,\"arrowwidth\":1},\"geo\":{\"bgcolor\":\"white\",\"landcolor\":\"#E5ECF6\",\"subunitcolor\":\"white\",\"showland\":true,\"showlakes\":true,\"lakecolor\":\"white\"},\"title\":{\"x\":0.05},\"mapbox\":{\"style\":\"light\"}}}},                        {\"responsive\": true}                    ).then(function(){\n",
       "                            Plotly.addFrames('4deed038-9bcb-45aa-a271-1796001d36f8', [{\"data\":[{\"mode\":\"lines\",\"x\":[-0.7994127557156036,-0.8093820527500939,null],\"y\":[-0.19250585324301328,-0.2842865980315338,null],\"z\":[-0.3944592025895773,-0.3803765141712397,null],\"type\":\"scatter3d\"},{\"marker\":{\"color\":\"rgb(22, 96, 167)\",\"size\":6},\"mode\":\"markers+text\",\"text\":[\"age\",\"job\",\"marital\",\"education\",\"default\",\"balance\",\"housing\",\"loan\",\"contact\",\"day_of_week\",\"month\",\"duration\",\"campaign\",\"pdays\",\"previous\",\"poutcome\"],\"textposition\":\"top center\",\"x\":[-0.5746570753208018,-0.6260939794839363,-0.7805519389234695,-0.20603409793359487,0.9458501141691497,0.6604914338598539,0.46768016442402993,0.5312936274902328,-0.04164970281735016,-0.18895164642754422,-0.13363847251973948,0.8520789482806936,0.19634326193193866,-0.7994127557156036,0.5066341717362361,-0.8093820527500939],\"y\":[0.5689952249095348,-0.6588452650234452,0.5537231377427818,-0.012763103157779815,0.2395742052818567,-0.37747226971948883,0.7310008232020931,-0.134835827454385,-0.8647855362554177,1.0,0.21044407106342436,-0.5841356570111768,-0.9534891928361685,-0.19250585324301328,0.7593818405327178,-0.2842865980315338],\"z\":[0.6877434843261079,0.5558426881280052,-0.43404739758413646,0.9598201663846356,0.46233620369914813,0.5811619066080257,0.5423019342629549,-0.8566588353889552,0.4042207922795791,0.03091061378166599,-0.9915264120171927,-0.39646030949150907,-0.22459452001047192,-0.3944592025895773,-0.5462145982170398,-0.3803765141712397],\"type\":\"scatter3d\"}],\"name\":\"frame0\"}]);\n",
       "                        }).then(function(){\n",
       "                            \n",
       "var gd = document.getElementById('4deed038-9bcb-45aa-a271-1796001d36f8');\n",
       "var x = new MutationObserver(function (mutations, observer) {{\n",
       "        var display = window.getComputedStyle(gd).display;\n",
       "        if (!display || display === 'none') {{\n",
       "            console.log([gd, 'removed!']);\n",
       "            Plotly.purge(gd);\n",
       "            observer.disconnect();\n",
       "        }}\n",
       "}});\n",
       "\n",
       "// Listen for the removal of the full notebook cells\n",
       "var notebookContainer = gd.closest('#notebook-container');\n",
       "if (notebookContainer) {{\n",
       "    x.observe(notebookContainer, {childList: true});\n",
       "}}\n",
       "\n",
       "// Listen for the clearing of the current output cell\n",
       "var outputEl = gd.closest('.output');\n",
       "if (outputEl) {{\n",
       "    x.observe(outputEl, {childList: true});\n",
       "}}\n",
       "\n",
       "                        })                };                });            </script>        </div>"
      ]
     },
     "metadata": {},
     "output_type": "display_data"
    }
   ],
   "source": [
    "graph_selector.plot_graph()"
   ]
  },
  {
   "cell_type": "code",
   "execution_count": 10,
   "metadata": {},
   "outputs": [
    {
     "name": "stdout",
     "output_type": "stream",
     "text": [
      "Dropped pdays because of high chance of multicollinearity with ['previous']\n"
     ]
    }
   ],
   "source": [
    "for feature in graph_selector.dropped:\n",
    "    print(f\"Dropped {feature['feature']} because of {feature['reason']}\")"
   ]
  },
  {
   "cell_type": "markdown",
   "metadata": {},
   "source": [
    "To visualise how `GraphSelector` chose our features, we can run the following line:"
   ]
  },
  {
   "cell_type": "markdown",
   "metadata": {},
   "source": [
    "\n",
    "The feature selector's decision process can be visualized to identify features contributing to multicollinearity. By examining these visual cues, we can adjust the selector's parameters to preserve essential features. For demonstration purposes, the identified features will remain in the dataset.\n",
    "\n",
    "\n"
   ]
  },
  {
   "cell_type": "markdown",
   "metadata": {},
   "source": [
    "## XClfFeatureSelector\n",
    "\n",
    "`XClfFeatureSelector` is designed for optimizing feature sets in classification models (`XClassifier`). It employs a systematic approach to evaluate feature importance by conducting iterative model training sessions on different feature combinations. In each iteration, it assesses feature importance by integrating the feature's importance scores with a chosen performance metric. This iterative training and scoring cycle continues through all iterations, culminating in a ranking of features by their aggregated significance scores. This methodology facilitates an empirical process for feature elimination.\n",
    "\n",
    "Output example after executing `XClfFeatureSelector` on the Term Deposit dataset (prior to `GraphSelector` application):\n"
   ]
  },
  {
   "cell_type": "code",
   "execution_count": 16,
   "metadata": {},
   "outputs": [
    {
     "data": {
      "application/vnd.jupyter.widget-view+json": {
       "model_id": "ae522f2015a84391a2b56ebe36760356",
       "version_major": 2,
       "version_minor": 0
      },
      "text/plain": [
       "  0%|          | 0/100 [00:00<?, ?it/s]"
      ]
     },
     "metadata": {},
     "output_type": "display_data"
    }
   ],
   "source": [
    "from xplainable.feature_selection.classification import XClfFeatureSelector\n",
    "\n",
    "#Instantiate Feature Selection\n",
    "fs = XClfFeatureSelector(n_samples=100)\n",
    "feature_info = fs.fit(X_train, y_train)"
   ]
  },
  {
   "cell_type": "code",
   "execution_count": 17,
   "metadata": {},
   "outputs": [
    {
     "data": {
      "text/plain": [
       "{'duration': 37.61680550938488,\n",
       " 'month': 22.255739583751215,\n",
       " 'day_of_week': 16.90108510634383,\n",
       " 'previous': 16.532536675821518,\n",
       " 'pdays': 15.558511863314113,\n",
       " 'age': 15.006034002008477,\n",
       " 'balance': 14.122991891964837,\n",
       " 'job': 12.918155039018012,\n",
       " 'housing': 6.479637358859719,\n",
       " 'campaign': 6.274581901520477,\n",
       " 'education': 4.200964945450758,\n",
       " 'marital': 3.4861488914254233,\n",
       " 'loan': 2.8278915787843144,\n",
       " 'poutcome': 2.5384148144188505,\n",
       " 'contact': 1.1456148289911092,\n",
       " 'default': 0.502623281801677}"
      ]
     },
     "execution_count": 17,
     "metadata": {},
     "output_type": "execute_result"
    }
   ],
   "source": [
    "feature_info"
   ]
  },
  {
   "cell_type": "markdown",
   "metadata": {},
   "source": [
    "# 3. Modelling"
   ]
  },
  {
   "cell_type": "markdown",
   "metadata": {},
   "source": [
    "## Model Implementation in xplainable\n",
    "\n",
    "Utilising xplainable for modelling adheres to the conventional `fit`/`transform` paradigm prevalent in Python's machine learning ecosystem, akin to the established patterns in scikit-learn. However, parameter optimisation within xplainable distinguishes itself by its streamlined efficiency and expedited execution, which are especially evident during the rapid refitting process.\n",
    "\n",
    "For practitioners familiar with the interfaces of open-source Python packages, the API of xplainable will be intuitively recognisable, ensuring a minimal learning curve and ease of integration into existing workflows.\n"
   ]
  },
  {
   "cell_type": "code",
   "execution_count": 18,
   "metadata": {},
   "outputs": [
    {
     "name": "stdout",
     "output_type": "stream",
     "text": [
      "100%|████████| 30/30 [00:05<00:00,  5.69trial/s, best loss: -0.8835904325047984]\n"
     ]
    },
    {
     "data": {
      "text/plain": [
       "<xplainable.core.ml.classification.XClassifier at 0x28c55caf0>"
      ]
     },
     "execution_count": 18,
     "metadata": {},
     "output_type": "execute_result"
    }
   ],
   "source": [
    "from xplainable.core.models import XClassifier\n",
    "from xplainable.core.optimisation.bayesian import XParamOptimiser\n",
    "\n",
    "# Optimise hyperparameters\n",
    "opt = XParamOptimiser(metric='roc-auc')\n",
    "params = opt.optimise(X_train, y_train)\n",
    "\n",
    "# Train model\n",
    "model = XClassifier(**params)\n",
    "model.fit(X_train, y_train)"
   ]
  },
  {
   "cell_type": "code",
   "execution_count": 24,
   "metadata": {},
   "outputs": [
    {
     "data": {
      "text/plain": [
       "{'confusion_matrix': [[7979, 53], [954, 57]],\n",
       " 'classification_report': {'0': {'precision': 0.893204970334714,\n",
       "   'recall': 0.9934013944223108,\n",
       "   'f1-score': 0.9406424992631889,\n",
       "   'support': 8032.0},\n",
       "  '1': {'precision': 0.5181818181818182,\n",
       "   'recall': 0.05637982195845697,\n",
       "   'f1-score': 0.1016949152542373,\n",
       "   'support': 1011.0},\n",
       "  'accuracy': 0.8886431493973239,\n",
       "  'macro avg': {'precision': 0.7056933942582662,\n",
       "   'recall': 0.5248906081903839,\n",
       "   'f1-score': 0.5211687072587131,\n",
       "   'support': 9043.0},\n",
       "  'weighted avg': {'precision': 0.851277688810156,\n",
       "   'recall': 0.8886431493973239,\n",
       "   'f1-score': 0.8468488458922887,\n",
       "   'support': 9043.0}},\n",
       " 'roc_auc': 0.8862701395210454,\n",
       " 'neg_brier_loss': 0.9175745435164223,\n",
       " 'log_loss': 4.013707725626559,\n",
       " 'cohen_kappa': 0.08154308571352509}"
      ]
     },
     "execution_count": 24,
     "metadata": {},
     "output_type": "execute_result"
    }
   ],
   "source": [
    "model.evaluate(X_test, y_test, threshold=0.5)"
   ]
  },
  {
   "cell_type": "markdown",
   "metadata": {},
   "source": [
    "## Model Explainability and Data Leakage Detection\n",
    "\n",
    "The feature importance and contribution charts generated by `model.explain()` function provide insight into the predictive power of each feature within the model. Specifically, they can highlight issues such as data leakage. \n",
    "\n",
    "For instance, the `duration` feature exhibits a strong positive correlation with the target variable, as indicated by its prominent importance score. This suggests that a longer duration is associated with an increased likelihood of a positive outcome. However, such a characteristic of `duration` may be indicative of data leakage, especially if the `duration` pertains to the length of calls or interactions that occur only after the target event has happened.\n",
    "\n",
    "In practice, the `duration` should not be available at the time of prediction, and its presence in the dataset could lead to overly optimistic model performance during validation, which is unlikely to generalize to new, unseen data. \n",
    "\n",
    "The immediate visibility of `duration` as a significant feature in the explainability charts underscores its potential role in data leakage and necessitates further investigation to ensure that the model is not inadvertently learning from features that would not be available in a real-world scenario."
   ]
  },
  {
   "cell_type": "code",
   "execution_count": 20,
   "metadata": {},
   "outputs": [
    {
     "data": {
      "text/html": [
       "\n",
       "    <style>\n",
       "    .vega-bind {\n",
       "      text-align:right;\n",
       "    }\n",
       "    </style>\n",
       "    "
      ],
      "text/plain": [
       "<IPython.core.display.HTML object>"
      ]
     },
     "metadata": {},
     "output_type": "display_data"
    },
    {
     "data": {
      "text/html": [
       "\n",
       "<style>\n",
       "  #altair-viz-8b3fb93da01f45f69093bd510ece0dba.vega-embed {\n",
       "    width: 100%;\n",
       "    display: flex;\n",
       "  }\n",
       "\n",
       "  #altair-viz-8b3fb93da01f45f69093bd510ece0dba.vega-embed details,\n",
       "  #altair-viz-8b3fb93da01f45f69093bd510ece0dba.vega-embed details summary {\n",
       "    position: relative;\n",
       "  }\n",
       "</style>\n",
       "<div id=\"altair-viz-8b3fb93da01f45f69093bd510ece0dba\"></div>\n",
       "<script type=\"text/javascript\">\n",
       "  var VEGA_DEBUG = (typeof VEGA_DEBUG == \"undefined\") ? {} : VEGA_DEBUG;\n",
       "  (function(spec, embedOpt){\n",
       "    let outputDiv = document.currentScript.previousElementSibling;\n",
       "    if (outputDiv.id !== \"altair-viz-8b3fb93da01f45f69093bd510ece0dba\") {\n",
       "      outputDiv = document.getElementById(\"altair-viz-8b3fb93da01f45f69093bd510ece0dba\");\n",
       "    }\n",
       "    const paths = {\n",
       "      \"vega\": \"https://cdn.jsdelivr.net/npm/vega@5?noext\",\n",
       "      \"vega-lib\": \"https://cdn.jsdelivr.net/npm/vega-lib?noext\",\n",
       "      \"vega-lite\": \"https://cdn.jsdelivr.net/npm/vega-lite@5.16.3?noext\",\n",
       "      \"vega-embed\": \"https://cdn.jsdelivr.net/npm/vega-embed@6?noext\",\n",
       "    };\n",
       "\n",
       "    function maybeLoadScript(lib, version) {\n",
       "      var key = `${lib.replace(\"-\", \"\")}_version`;\n",
       "      return (VEGA_DEBUG[key] == version) ?\n",
       "        Promise.resolve(paths[lib]) :\n",
       "        new Promise(function(resolve, reject) {\n",
       "          var s = document.createElement('script');\n",
       "          document.getElementsByTagName(\"head\")[0].appendChild(s);\n",
       "          s.async = true;\n",
       "          s.onload = () => {\n",
       "            VEGA_DEBUG[key] = version;\n",
       "            return resolve(paths[lib]);\n",
       "          };\n",
       "          s.onerror = () => reject(`Error loading script: ${paths[lib]}`);\n",
       "          s.src = paths[lib];\n",
       "        });\n",
       "    }\n",
       "\n",
       "    function showError(err) {\n",
       "      outputDiv.innerHTML = `<div class=\"error\" style=\"color:red;\">${err}</div>`;\n",
       "      throw err;\n",
       "    }\n",
       "\n",
       "    function displayChart(vegaEmbed) {\n",
       "      vegaEmbed(outputDiv, spec, embedOpt)\n",
       "        .catch(err => showError(`Javascript Error: ${err.message}<br>This usually means there's a typo in your chart specification. See the javascript console for the full traceback.`));\n",
       "    }\n",
       "\n",
       "    if(typeof define === \"function\" && define.amd) {\n",
       "      requirejs.config({paths});\n",
       "      require([\"vega-embed\"], displayChart, err => showError(`Error loading script: ${err.message}`));\n",
       "    } else {\n",
       "      maybeLoadScript(\"vega\", \"5\")\n",
       "        .then(() => maybeLoadScript(\"vega-lite\", \"5.16.3\"))\n",
       "        .then(() => maybeLoadScript(\"vega-embed\", \"6\"))\n",
       "        .catch(showError)\n",
       "        .then(() => displayChart(vegaEmbed));\n",
       "    }\n",
       "  })({\"config\": {\"view\": {\"continuousWidth\": 300, \"continuousHeight\": 300}}, \"hconcat\": [{\"mark\": {\"type\": \"bar\", \"color\": \"#0080ea\"}, \"encoding\": {\"color\": {\"condition\": {\"param\": \"param_1\", \"value\": \"lightgray\"}, \"value\": \"#0080ea\"}, \"tooltip\": {\"field\": \"importance_label\", \"type\": \"nominal\"}, \"x\": {\"field\": \"importance\", \"type\": \"quantitative\"}, \"y\": {\"field\": \"feature\", \"sort\": {\"field\": \"importance\", \"order\": \"descending\"}, \"type\": \"nominal\"}}, \"height\": 400, \"name\": \"view_1\", \"title\": \"Feature Importances\", \"transform\": [{\"filter\": {\"param\": \"param_2\"}}], \"width\": 330}, {\"mark\": {\"type\": \"bar\", \"color\": \"#0080ea\"}, \"encoding\": {\"x\": {\"axis\": {\"labels\": false, \"title\": null}, \"field\": \"importance\", \"type\": \"quantitative\"}, \"y\": {\"axis\": {\"labels\": false, \"title\": null}, \"field\": \"feature\", \"sort\": \"-x\", \"type\": \"nominal\"}}, \"height\": 400, \"name\": \"view_2\", \"width\": 25}, {\"data\": {\"name\": \"data-f602956f5d211d95b3cfeb928f28f5eb\"}, \"mark\": {\"type\": \"bar\", \"color\": \"#e14067\"}, \"encoding\": {\"color\": {\"condition\": {\"test\": \"(datum.contribution < 0)\", \"value\": \"#e14067\"}, \"value\": \"#12b980\"}, \"tooltip\": {\"field\": \"score_label\", \"type\": \"nominal\"}, \"x\": {\"field\": \"val\", \"type\": \"quantitative\"}, \"y\": {\"field\": \"value\", \"sort\": {\"field\": \"index\", \"order\": \"descending\"}, \"type\": \"nominal\"}}, \"height\": 400, \"name\": \"view_3\", \"title\": \"Contributions\", \"transform\": [{\"fold\": [\"contribution\", \"mean\", \"frequency\"], \"as\": [\"column\", \"val\"]}, {\"filter\": {\"param\": \"Select\"}}, {\"filter\": {\"param\": \"param_1\"}}, {\"filter\": {\"param\": \"param_3\"}}], \"width\": 330}, {\"data\": {\"name\": \"data-f602956f5d211d95b3cfeb928f28f5eb\"}, \"mark\": {\"type\": \"bar\", \"color\": \"#e14067\"}, \"encoding\": {\"color\": {\"condition\": {\"test\": \"(datum.contribution < 0)\", \"value\": \"#e14067\"}, \"value\": \"#12b980\"}, \"x\": {\"axis\": {\"labels\": false, \"title\": null}, \"field\": \"contribution\", \"type\": \"quantitative\"}, \"y\": {\"axis\": {\"labels\": false, \"title\": null}, \"field\": \"value\", \"sort\": {\"field\": \"index\", \"order\": \"descending\"}, \"type\": \"nominal\"}}, \"height\": 400, \"name\": \"view_4\", \"transform\": [{\"filter\": {\"param\": \"param_1\"}}], \"width\": 25}], \"data\": {\"name\": \"data-85b8cc428736f0ad1802101dd3f26224\"}, \"params\": [{\"name\": \"param_1\", \"select\": {\"type\": \"point\", \"fields\": [\"feature\"]}, \"value\": \"duration\", \"views\": [\"view_1\"]}, {\"name\": \"Select\", \"select\": {\"type\": \"point\", \"fields\": [\"column\"]}, \"bind\": {\"input\": \"select\", \"options\": [\"contribution\", \"mean\", \"frequency\"]}, \"value\": \"contribution\", \"views\": [\"view_1\", \"view_3\"]}, {\"name\": \"param_2\", \"select\": {\"type\": \"interval\", \"encodings\": [\"y\"]}, \"views\": [\"view_2\"]}, {\"name\": \"param_3\", \"select\": {\"type\": \"interval\", \"encodings\": [\"y\"]}, \"views\": [\"view_4\"]}], \"$schema\": \"https://vega.github.io/schema/vega-lite/v5.16.3.json\", \"datasets\": {\"data-85b8cc428736f0ad1802101dd3f26224\": [{\"feature\": \"contact\", \"importance\": 0.0, \"importance_label\": \"0.0%\"}, {\"feature\": \"poutcome\", \"importance\": 0.0, \"importance_label\": \"0.0%\"}, {\"feature\": \"default\", \"importance\": 0.0027504671202607683, \"importance_label\": \"0.3%\"}, {\"feature\": \"loan\", \"importance\": 0.016366934181430596, \"importance_label\": \"1.6%\"}, {\"feature\": \"marital\", \"importance\": 0.021563132532394603, \"importance_label\": \"2.2%\"}, {\"feature\": \"education\", \"importance\": 0.025256680413549074, \"importance_label\": \"2.5%\"}, {\"feature\": \"campaign\", \"importance\": 0.03619143075319335, \"importance_label\": \"3.6%\"}, {\"feature\": \"housing\", \"importance\": 0.0413130673007022, \"importance_label\": \"4.1%\"}, {\"feature\": \"day_of_week\", \"importance\": 0.04240961906809324, \"importance_label\": \"4.2%\"}, {\"feature\": \"job\", \"importance\": 0.07796768529328867, \"importance_label\": \"7.8%\"}, {\"feature\": \"age\", \"importance\": 0.0798181214136307, \"importance_label\": \"8.0%\"}, {\"feature\": \"balance\", \"importance\": 0.09914686530790698, \"importance_label\": \"9.9%\"}, {\"feature\": \"month\", \"importance\": 0.11174900530056239, \"importance_label\": \"11.2%\"}, {\"feature\": \"previous\", \"importance\": 0.11330440831897029, \"importance_label\": \"11.3%\"}, {\"feature\": \"pdays\", \"importance\": 0.11715947851346008, \"importance_label\": \"11.7%\"}, {\"feature\": \"duration\", \"importance\": 0.21500310448255705, \"importance_label\": \"21.5%\"}], \"data-f602956f5d211d95b3cfeb928f28f5eb\": [{\"index\": 0, \"value\": \"-inf - 24.5\", \"contribution\": 0.05880445297336881, \"mean\": 0.26506024096385544, \"frequency\": 0.0183587701835877, \"feature\": \"age\", \"score_label\": \"5.9\"}, {\"index\": 1, \"value\": \"24.5 - 25.5\", \"contribution\": 0.039367655602739485, \"mean\": 0.21654501216545013, \"frequency\": 0.011363636363636364, \"feature\": \"age\", \"score_label\": \"3.9\"}, {\"index\": 2, \"value\": \"25.5 - 27.5\", \"contribution\": 0.015994551260020737, \"mean\": 0.1582045621780721, \"frequency\": 0.03757465162574652, \"feature\": \"age\", \"score_label\": \"1.6\"}, {\"index\": 3, \"value\": \"27.5 - 29.5\", \"contribution\": 0.015658624269695432, \"mean\": 0.15736607142857142, \"frequency\": 0.0495465604954656, \"feature\": \"age\", \"score_label\": \"1.6\"}, {\"index\": 4, \"value\": \"29.5 - 38.5\", \"contribution\": -0.0017300899308945665, \"mean\": 0.1084735576923077, \"frequency\": 0.3680601636806016, \"feature\": \"age\", \"score_label\": \"-0.2\"}, {\"index\": 5, \"value\": \"38.5 - 43.5\", \"contribution\": -0.0051476909921978975, \"mean\": 0.08909934286818709, \"frequency\": 0.14305463393054635, \"feature\": \"age\", \"score_label\": \"-0.5\"}, {\"index\": 6, \"value\": \"43.5 - 48.5\", \"contribution\": -0.005216740903403698, \"mean\": 0.0887079022672243, \"frequency\": 0.12560827250608272, \"feature\": \"age\", \"score_label\": \"-0.5\"}, {\"index\": 7, \"value\": \"48.5 - 59.5\", \"contribution\": -0.003943955439705064, \"mean\": 0.09592326139088729, \"frequency\": 0.20753151957531518, \"feature\": \"age\", \"score_label\": \"-0.4\"}, {\"index\": 8, \"value\": \"59.5 - 60.5\", \"contribution\": 0.019527729872973697, \"mean\": 0.1670235546038544, \"frequency\": 0.012911966379119663, \"feature\": \"age\", \"score_label\": \"2.0\"}, {\"index\": 9, \"value\": \"60.5 - 67.5\", \"contribution\": 0.12038335849544281, \"mean\": 0.41876430205949655, \"frequency\": 0.012082503870825038, \"feature\": \"age\", \"score_label\": \"12.0\"}, {\"index\": 10, \"value\": \"67.5 - inf\", \"contribution\": 0.13341512359349125, \"mean\": 0.45129224652087474, \"frequency\": 0.013907321389073213, \"feature\": \"age\", \"score_label\": \"13.3\"}, {\"index\": 0, \"value\": \"blue-collar\", \"contribution\": -0.007667121304618298, \"mean\": 0.07481681450057848, \"frequency\": 0.21507962840079628, \"feature\": \"job\", \"score_label\": \"-0.8\"}, {\"index\": 1, \"value\": \"entrepreneur\", \"contribution\": -0.005749482065085715, \"mean\": 0.08354646206308611, \"frequency\": 0.03243198407431984, \"feature\": \"job\", \"score_label\": \"-0.6\"}, {\"index\": 1, \"value\": \"housemaid\", \"contribution\": -0.005749482065085715, \"mean\": 0.08823529411764706, \"frequency\": 0.02726166777261668, \"feature\": \"job\", \"score_label\": \"-0.6\"}, {\"index\": 2, \"value\": \"services\", \"contribution\": -0.002533647586134496, \"mean\": 0.09359012940114354, \"frequency\": 0.09187679716876797, \"feature\": \"job\", \"score_label\": \"-0.3\"}, {\"index\": 2, \"value\": \"technician\", \"contribution\": -0.002533647586134496, \"mean\": 0.10957324106113034, \"frequency\": 0.16780026542800267, \"feature\": \"job\", \"score_label\": \"-0.3\"}, {\"index\": 3, \"value\": \"admin.\", \"contribution\": 0.005584005265695917, \"mean\": 0.12158869395711501, \"frequency\": 0.11347047113470471, \"feature\": \"job\", \"score_label\": \"0.6\"}, {\"index\": 3, \"value\": \"self-employed\", \"contribution\": 0.005584005265695917, \"mean\": 0.12273800157356413, \"frequency\": 0.03514156160141561, \"feature\": \"job\", \"score_label\": \"0.6\"}, {\"index\": 3, \"value\": \"management\", \"contribution\": 0.005584005265695917, \"mean\": 0.13953488372093023, \"frequency\": 0.2104346383543464, \"feature\": \"job\", \"score_label\": \"0.6\"}, {\"index\": 4, \"value\": \"unemployed\", \"contribution\": 0.010648205575885472, \"mean\": 0.14485981308411214, \"frequency\": 0.02958416279584163, \"feature\": \"job\", \"score_label\": \"1.1\"}, {\"index\": 5, \"value\": \"retired\", \"contribution\": 0.04542330999846423, \"mean\": 0.23166023166023167, \"frequency\": 0.05012718425127184, \"feature\": \"job\", \"score_label\": \"4.5\"}, {\"index\": 6, \"value\": \"student\", \"contribution\": 0.05308091217944688, \"mean\": 0.29010695187165775, \"frequency\": 0.02068126520681265, \"feature\": \"job\", \"score_label\": \"5.3\"}, {\"index\": 0, \"value\": \"married\", \"contribution\": -0.0023425855628763583, \"mean\": 0.1017144437275325, \"frequency\": 0.5999225834992258, \"feature\": \"marital\", \"score_label\": \"-0.2\"}, {\"index\": 0, \"value\": \"divorced\", \"contribution\": -0.0023425855628763583, \"mean\": 0.1218417945690673, \"frequency\": 0.11709245742092457, \"feature\": \"marital\", \"score_label\": \"-0.2\"}, {\"index\": 1, \"value\": \"single\", \"contribution\": 0.013480616186436927, \"mean\": 0.1519296531509526, \"frequency\": 0.2829849590798496, \"feature\": \"marital\", \"score_label\": \"1.3\"}, {\"index\": 0, \"value\": \"primary\", \"contribution\": -0.005458135227301307, \"mean\": 0.0873394495412844, \"frequency\": 0.1506856890068569, \"feature\": \"education\", \"score_label\": \"-0.5\"}, {\"index\": 1, \"value\": \"secondary\", \"contribution\": -0.001873461654297307, \"mean\": 0.10766079033910184, \"frequency\": 0.5128566688785667, \"feature\": \"education\", \"score_label\": \"-0.2\"}, {\"index\": 2, \"value\": \"tertiary\", \"contribution\": 0.012037562408243272, \"mean\": 0.15101582248853104, \"frequency\": 0.29531630170316303, \"feature\": \"education\", \"score_label\": \"1.2\"}, {\"index\": 0, \"value\": \"yes\", \"contribution\": -0.008978739059722981, \"mean\": 0.06738131699846861, \"frequency\": 0.01805463393054634, \"feature\": \"default\", \"score_label\": \"-0.9\"}, {\"index\": 1, \"value\": \"no\", \"contribution\": 0.0003749437173905595, \"mean\": 0.11921723215542729, \"frequency\": 0.9819453660694537, \"feature\": \"default\", \"score_label\": \"0.0\"}, {\"index\": 0, \"value\": \"-inf - -426.5\", \"contribution\": -0.010275986320995141, \"mean\": 0.06002728512960437, \"frequency\": 0.02026653395266534, \"feature\": \"balance\", \"score_label\": \"-1.0\"}, {\"index\": 1, \"value\": \"-426.5 - -228.5\", \"contribution\": -0.011335942426952681, \"mean\": 0.05401844532279315, \"frequency\": 0.020985401459854013, \"feature\": \"balance\", \"score_label\": \"-1.1\"}, {\"index\": 2, \"value\": \"-228.5 - -90.5\", \"contribution\": -0.011431640809519736, \"mean\": 0.053475935828877004, \"frequency\": 0.02068126520681265, \"feature\": \"balance\", \"score_label\": \"-1.1\"}, {\"index\": 3, \"value\": \"-90.5 - -0.5\", \"contribution\": -0.010361957477450898, \"mean\": 0.05953991880920163, \"frequency\": 0.020432426454324266, \"feature\": \"balance\", \"score_label\": \"-1.0\"}, {\"index\": 4, \"value\": \"-0.5 - 2.5\", \"contribution\": -0.005687540698753999, \"mean\": 0.08603896103896104, \"frequency\": 0.0851581508515815, \"feature\": \"balance\", \"score_label\": \"-0.6\"}, {\"index\": 5, \"value\": \"2.5 - 39.5\", \"contribution\": -0.00909842557251207, \"mean\": 0.0667028199566163, \"frequency\": 0.05098429550984296, \"feature\": \"balance\", \"score_label\": \"-0.9\"}, {\"index\": 6, \"value\": \"39.5 - 105.5\", \"contribution\": -0.005350302582237682, \"mean\": 0.08795074758135439, \"frequency\": 0.06287325812873258, \"feature\": \"balance\", \"score_label\": \"-0.5\"}, {\"index\": 7, \"value\": \"105.5 - 913.5\", \"contribution\": -0.0005779198808477468, \"mean\": 0.11500515388013544, \"frequency\": 0.37552532625525326, \"feature\": \"balance\", \"score_label\": \"-0.1\"}, {\"index\": 8, \"value\": \"913.5 - 1094.5\", \"contribution\": 0.017031545227195456, \"mean\": 0.16079295154185022, \"frequency\": 0.03765759787657598, \"feature\": \"balance\", \"score_label\": \"1.7\"}, {\"index\": 9, \"value\": \"1094.5 - 1945.5\", \"contribution\": 0.007794848240112518, \"mean\": 0.1377376889322282, \"frequency\": 0.11341517363415174, \"feature\": \"balance\", \"score_label\": \"0.8\"}, {\"index\": 10, \"value\": \"1945.5 - 2320.5\", \"contribution\": 0.015381002765514337, \"mean\": 0.15667311411992263, \"frequency\": 0.028588807785888078, \"feature\": \"balance\", \"score_label\": \"1.5\"}, {\"index\": 11, \"value\": \"2320.5 - 2775.5\", \"contribution\": 0.02193031472908793, \"mean\": 0.17302052785923755, \"frequency\": 0.028284671532846715, \"feature\": \"balance\", \"score_label\": \"2.2\"}, {\"index\": 12, \"value\": \"2775.5 - 3361.0\", \"contribution\": 0.027527694177382576, \"mean\": 0.18699186991869918, \"frequency\": 0.027206370272063702, \"feature\": \"balance\", \"score_label\": \"2.8\"}, {\"index\": 13, \"value\": \"3361.0 - 4228.0\", \"contribution\": 0.02915628324894269, \"mean\": 0.19105691056910562, \"frequency\": 0.027206370272063702, \"feature\": \"balance\", \"score_label\": \"2.9\"}, {\"index\": 14, \"value\": \"4228.0 - 6048.0\", \"contribution\": 0.02268407867984837, \"mean\": 0.17490196078431355, \"frequency\": 0.03525215660252157, \"feature\": \"balance\", \"score_label\": \"2.3\"}, {\"index\": 15, \"value\": \"6048.0 - inf\", \"contribution\": 0.011307145029393978, \"mean\": 0.14650455927051673, \"frequency\": 0.04548219420482194, \"feature\": \"balance\", \"score_label\": \"1.1\"}, {\"index\": 0, \"value\": \"yes\", \"contribution\": -0.007126873881664932, \"mean\": 0.07787945096479014, \"frequency\": 0.5559610705596107, \"feature\": \"housing\", \"score_label\": \"-0.7\"}, {\"index\": 1, \"value\": \"no\", \"contribution\": 0.02026617448645617, \"mean\": 0.1688667496886675, \"frequency\": 0.4440389294403893, \"feature\": \"housing\", \"score_label\": \"2.0\"}, {\"index\": 0, \"value\": \"yes\", \"contribution\": -0.00894547049388903, \"mean\": 0.06756991488622546, \"frequency\": 0.15917385534173856, \"feature\": \"loan\", \"score_label\": \"-0.9\"}, {\"index\": 1, \"value\": \"no\", \"contribution\": 0.0038460779690122375, \"mean\": 0.12788135871888462, \"frequency\": 0.8408261446582614, \"feature\": \"loan\", \"score_label\": \"0.4\"}, {\"index\": 0, \"value\": \"-inf - 2.5\", \"contribution\": 0.021601893632833272, \"mean\": 0.1722007722007722, \"frequency\": 0.035805131608051315, \"feature\": \"day_of_week\", \"score_label\": \"2.2\"}, {\"index\": 1, \"value\": \"2.5 - 3.5\", \"contribution\": 0.016804915676678665, \"mean\": 0.16022727272727266, \"frequency\": 0.024330900243309004, \"feature\": \"day_of_week\", \"score_label\": \"1.7\"}, {\"index\": 2, \"value\": \"3.5 - 4.5\", \"contribution\": 0.017711116662204915, \"mean\": 0.16248919619706098, \"frequency\": 0.03198960406989604, \"feature\": \"day_of_week\", \"score_label\": \"1.8\"}, {\"index\": 3, \"value\": \"4.5 - 27.5\", \"contribution\": -0.0005172477061628827, \"mean\": 0.11534910149868599, \"frequency\": 0.7785335102853351, \"feature\": \"day_of_week\", \"score_label\": \"-0.1\"}, {\"index\": 4, \"value\": \"27.5 - 29.5\", \"contribution\": -0.00725332075654803, \"mean\": 0.07716262975778548, \"frequency\": 0.07990488829904888, \"feature\": \"day_of_week\", \"score_label\": \"-0.7\"}, {\"index\": 5, \"value\": \"29.5 - 30.5\", \"contribution\": 0.020284928504655183, \"mean\": 0.16891356066613797, \"frequency\": 0.03486507409865074, \"feature\": \"day_of_week\", \"score_label\": \"2.0\"}, {\"index\": 6, \"value\": \"30.5 - inf\", \"contribution\": -0.006806365987569309, \"mean\": 0.07969639468690702, \"frequency\": 0.014570891395708914, \"feature\": \"day_of_week\", \"score_label\": \"-0.7\"}, {\"index\": 0, \"value\": \"may\", \"contribution\": -0.008974291247739975, \"mean\": 0.06740653142909124, \"frequency\": 0.3039427117894271, \"feature\": \"month\", \"score_label\": \"-0.9\"}, {\"index\": 1, \"value\": \"jul\", \"contribution\": -0.004508366291061084, \"mean\": 0.09272364362184722, \"frequency\": 0.15237226277372262, \"feature\": \"month\", \"score_label\": \"-0.5\"}, {\"index\": 2, \"value\": \"nov\", \"contribution\": -0.002105482411127155, \"mean\": 0.10216912920465263, \"frequency\": 0.08795067462950674, \"feature\": \"month\", \"score_label\": \"-0.2\"}, {\"index\": 2, \"value\": \"jan\", \"contribution\": -0.002105482411127155, \"mean\": 0.1022530329289428, \"frequency\": 0.031906657819066576, \"feature\": \"month\", \"score_label\": \"-0.2\"}, {\"index\": 2, \"value\": \"jun\", \"contribution\": -0.002105482411127155, \"mean\": 0.10393258426966293, \"frequency\": 0.11811546118115461, \"feature\": \"month\", \"score_label\": \"-0.2\"}, {\"index\": 2, \"value\": \"aug\", \"contribution\": -0.002105482411127155, \"mean\": 0.11199840287482532, \"frequency\": 0.1384925901349259, \"feature\": \"month\", \"score_label\": \"-0.2\"}, {\"index\": 3, \"value\": \"feb\", \"contribution\": 0.020317320773966897, \"mean\": 0.16899441340782123, \"frequency\": 0.05938951559389516, \"feature\": \"month\", \"score_label\": \"2.0\"}, {\"index\": 4, \"value\": \"apr\", \"contribution\": 0.030940913224208656, \"mean\": 0.1955114372032801, \"frequency\": 0.06406215439062155, \"feature\": \"month\", \"score_label\": \"3.1\"}, {\"index\": 5, \"value\": \"dec\", \"contribution\": 0.1348655230257, \"mean\": 0.4508670520231214, \"frequency\": 0.004783233797832338, \"feature\": \"month\", \"score_label\": \"13.5\"}, {\"index\": 5, \"value\": \"oct\", \"contribution\": 0.1348655230257, \"mean\": 0.45614035087719296, \"frequency\": 0.015759787657597876, \"feature\": \"month\", \"score_label\": \"13.5\"}, {\"index\": 6, \"value\": \"sep\", \"contribution\": 0.14629605746228425, \"mean\": 0.48344370860927155, \"frequency\": 0.01252488387524884, \"feature\": \"month\", \"score_label\": \"14.6\"}, {\"index\": 7, \"value\": \"mar\", \"contribution\": 0.16483416504783244, \"mean\": 0.5297157622739018, \"frequency\": 0.010700066357000663, \"feature\": \"month\", \"score_label\": \"16.5\"}, {\"index\": 0, \"value\": \"-inf - 50.5\", \"contribution\": -0.020374257639711436, \"mean\": 0.002780674313521029, \"frequency\": 0.07954545454545454, \"feature\": \"duration\", \"score_label\": \"-2.0\"}, {\"index\": 1, \"value\": \"50.5 - 77.5\", \"contribution\": -0.019884770082984175, \"mean\": 0.005555555555555556, \"frequency\": 0.07962840079628401, \"feature\": \"duration\", \"score_label\": \"-2.0\"}, {\"index\": 2, \"value\": \"77.5 - 114.5\", \"contribution\": -0.016772059279335946, \"mean\": 0.02320136228182205, \"frequency\": 0.1298938287989383, \"feature\": \"duration\", \"score_label\": \"-1.7\"}, {\"index\": 3, \"value\": \"114.5 - 249.5\", \"contribution\": -0.007772619560442323, \"mean\": 0.07421875000000004, \"frequency\": 0.3609820836098208, \"feature\": \"duration\", \"score_label\": \"-0.8\"}, {\"index\": 4, \"value\": \"249.5 - 348.5\", \"contribution\": 0.007863555972686473, \"mean\": 0.137909186906019, \"frequency\": 0.13091683255916833, \"feature\": \"duration\", \"score_label\": \"0.8\"}, {\"index\": 5, \"value\": \"348.5 - 410.5\", \"contribution\": 0.017148360955764875, \"mean\": 0.16108452950558214, \"frequency\": 0.05200729927007299, \"feature\": \"duration\", \"score_label\": \"1.7\"}, {\"index\": 6, \"value\": \"410.5 - 459.5\", \"contribution\": 0.034982104773268796, \"mean\": 0.2055984555984555, \"frequency\": 0.028644105286441054, \"feature\": \"duration\", \"score_label\": \"3.5\"}, {\"index\": 7, \"value\": \"459.5 - 521.5\", \"contribution\": 0.05011697576465536, \"mean\": 0.2433758586849853, \"frequency\": 0.028174076531740765, \"feature\": \"duration\", \"score_label\": \"5.0\"}, {\"index\": 8, \"value\": \"521.5 - 568.5\", \"contribution\": 0.07389921102653929, \"mean\": 0.3027375201288245, \"frequency\": 0.01716987392169874, \"feature\": \"duration\", \"score_label\": \"7.4\"}, {\"index\": 9, \"value\": \"568.5 - 630.5\", \"contribution\": 0.076990053062145, \"mean\": 0.31045241809672386, \"frequency\": 0.017722848927228488, \"feature\": \"duration\", \"score_label\": \"7.7\"}, {\"index\": 10, \"value\": \"630.5 - 698.5\", \"contribution\": 0.11300833551702824, \"mean\": 0.400355871886121, \"frequency\": 0.015538597655385976, \"feature\": \"duration\", \"score_label\": \"11.3\"}, {\"index\": 11, \"value\": \"698.5 - 795.5\", \"contribution\": 0.12097462663335108, \"mean\": 0.4202401372212693, \"frequency\": 0.016119221411192215, \"feature\": \"duration\", \"score_label\": \"12.1\"}, {\"index\": 12, \"value\": \"795.5 - 875.5\", \"contribution\": 0.14960889043665285, \"mean\": 0.49171270718232046, \"frequency\": 0.010008847600088477, \"feature\": \"duration\", \"score_label\": \"15.0\"}, {\"index\": 13, \"value\": \"875.5 - 1016.0\", \"contribution\": 0.18278390908106484, \"mean\": 0.5745192307692306, \"frequency\": 0.0115018801150188, \"feature\": \"duration\", \"score_label\": \"18.3\"}, {\"index\": 14, \"value\": \"1016.0 - 1221.5\", \"contribution\": 0.1845579667614967, \"mean\": 0.5789473684210527, \"frequency\": 0.01050652510506525, \"feature\": \"duration\", \"score_label\": \"18.5\"}, {\"index\": 15, \"value\": \"1221.5 - inf\", \"contribution\": 0.20479245810890667, \"mean\": 0.6294536817102138, \"frequency\": 0.01164012386640124, \"feature\": \"duration\", \"score_label\": \"20.5\"}, {\"index\": 0, \"value\": \"-inf - 1.5\", \"contribution\": 0.01117734834426009, \"mean\": 0.1461805801829917, \"frequency\": 0.3898197301481973, \"feature\": \"campaign\", \"score_label\": \"1.1\"}, {\"index\": 1, \"value\": \"1.5 - 3.5\", \"contribution\": -0.0009199201247533116, \"mean\": 0.11306637106831094, \"frequency\": 0.3990820614908206, \"feature\": \"campaign\", \"score_label\": \"-0.1\"}, {\"index\": 2, \"value\": \"3.5 - 4.5\", \"contribution\": -0.004634003518285785, \"mean\": 0.0920114122681883, \"frequency\": 0.07752709577527096, \"feature\": \"campaign\", \"score_label\": \"-0.5\"}, {\"index\": 3, \"value\": \"4.5 - 5.5\", \"contribution\": -0.006247395986494727, \"mean\": 0.08286516853932616, \"frequency\": 0.039371820393718206, \"feature\": \"campaign\", \"score_label\": \"-0.6\"}, {\"index\": 4, \"value\": \"5.5 - 6.5\", \"contribution\": -0.0081024671039884, \"mean\": 0.07234886025768088, \"frequency\": 0.02789758902897589, \"feature\": \"campaign\", \"score_label\": \"-0.8\"}, {\"index\": 5, \"value\": \"6.5 - 7.5\", \"contribution\": -0.008068951233484875, \"mean\": 0.07253886010362694, \"frequency\": 0.016008626410086265, \"feature\": \"campaign\", \"score_label\": \"-0.8\"}, {\"index\": 6, \"value\": \"7.5 - 9.5\", \"contribution\": -0.009443219226417892, \"mean\": 0.06474820143884892, \"frequency\": 0.019215881442158814, \"feature\": \"campaign\", \"score_label\": \"-0.9\"}, {\"index\": 7, \"value\": \"9.5 - 12.5\", \"contribution\": -0.010185050217398907, \"mean\": 0.060542797494780795, \"frequency\": 0.013243751382437514, \"feature\": \"campaign\", \"score_label\": \"-1.0\"}, {\"index\": 8, \"value\": \"12.5 - inf\", \"contribution\": -0.015395016347994388, \"mean\": 0.031007751937984496, \"frequency\": 0.017833443928334438, \"feature\": \"campaign\", \"score_label\": \"-1.5\"}, {\"index\": 0, \"value\": \"-inf - 19.5\", \"contribution\": -0.004549166160045184, \"mean\": 0.09249235114144505, \"frequency\": 0.8223567794735678, \"feature\": \"pdays\", \"score_label\": \"-0.5\"}, {\"index\": 1, \"value\": \"19.5 - 92.5\", \"contribution\": 0.1471710910230107, \"mean\": 0.4856278366111952, \"frequency\": 0.01827582393275824, \"feature\": \"pdays\", \"score_label\": \"14.7\"}, {\"index\": 2, \"value\": \"92.5 - 107.5\", \"contribution\": 0.11457058242757535, \"mean\": 0.40425531914893614, \"frequency\": 0.014294403892944039, \"feature\": \"pdays\", \"score_label\": \"11.5\"}, {\"index\": 3, \"value\": \"107.5 - 168.5\", \"contribution\": 0.017660006887708253, \"mean\": 0.16236162361623616, \"frequency\": 0.02247843397478434, \"feature\": \"pdays\", \"score_label\": \"1.8\"}, {\"index\": 4, \"value\": \"168.5 - 187.5\", \"contribution\": 0.09611661249159693, \"mean\": 0.3581932773109244, \"frequency\": 0.026321610263216104, \"feature\": \"pdays\", \"score_label\": \"9.6\"}, {\"index\": 5, \"value\": \"187.5 - 352.5\", \"contribution\": 0.0054848114570517645, \"mean\": 0.13197172034564023, \"frequency\": 0.07039371820393718, \"feature\": \"pdays\", \"score_label\": \"0.5\"}, {\"index\": 6, \"value\": \"352.5 - inf\", \"contribution\": 0.03308160049834407, \"mean\": 0.20085470085470086, \"frequency\": 0.025879230258792303, \"feature\": \"pdays\", \"score_label\": \"3.3\"}, {\"index\": 0, \"value\": \"-inf - 0.5\", \"contribution\": -0.004567994287778182, \"mean\": 0.09238561539760257, \"frequency\": 0.8188177394381774, \"feature\": \"previous\", \"score_label\": \"-0.5\"}, {\"index\": 1, \"value\": \"0.5 - 1.5\", \"contribution\": 0.03578333701503342, \"mean\": 0.20759837177747625, \"frequency\": 0.06113138686131387, \"feature\": \"previous\", \"score_label\": \"3.6\"}, {\"index\": 2, \"value\": \"1.5 - 2.5\", \"contribution\": 0.043959777807845705, \"mean\": 0.22800718132854578, \"frequency\": 0.04620106171201062, \"feature\": \"previous\", \"score_label\": \"4.4\"}, {\"index\": 3, \"value\": \"2.5 - 3.5\", \"contribution\": 0.05588685854348306, \"mean\": 0.2577777777777778, \"frequency\": 0.02488387524883875, \"feature\": \"previous\", \"score_label\": \"5.6\"}, {\"index\": 4, \"value\": \"3.5 - 4.5\", \"contribution\": 0.05632253499581811, \"mean\": 0.25886524822695023, \"frequency\": 0.015593895155938951, \"feature\": \"previous\", \"score_label\": \"5.6\"}, {\"index\": 5, \"value\": \"4.5 - 6.5\", \"contribution\": 0.06648399637092328, \"mean\": 0.28422876949740034, \"frequency\": 0.015953328909533288, \"feature\": \"previous\", \"score_label\": \"6.6\"}, {\"index\": 6, \"value\": \"6.5 - inf\", \"contribution\": 0.054360637927849564, \"mean\": 0.25396825396825395, \"frequency\": 0.017418712674187126, \"feature\": \"previous\", \"score_label\": \"5.4\"}]}}, {\"mode\": \"vega-lite\"});\n",
       "</script>"
      ],
      "text/plain": [
       "alt.HConcatChart(...)"
      ]
     },
     "execution_count": 20,
     "metadata": {},
     "output_type": "execute_result"
    }
   ],
   "source": [
    "model.explain()"
   ]
  },
  {
   "cell_type": "markdown",
   "metadata": {},
   "source": [
    "The charts above reveal that the `duration` feature significantly influences model predictions. However, the fact that an increase in `duration` consistently leads to a higher probability of conversion raises concerns about data leakage. If `duration` is measured post-outcome, it should not be included as a model feature, as it can lead to misleadingly high accuracy in predictive scenarios. Such insights are crucial for ensuring the robustness and reliability of the model when deployed in production environments.\n",
    "\n",
    "*Note that if you want to render the interactive chart above, you’ll need to install the correct dependencies with pip install xplainable[plotting].*"
   ]
  },
  {
   "cell_type": "markdown",
   "metadata": {},
   "source": [
    "### Dropping the `duration` feature and re-training"
   ]
  },
  {
   "cell_type": "code",
   "execution_count": 26,
   "metadata": {},
   "outputs": [
    {
     "name": "stdout",
     "output_type": "stream",
     "text": [
      "100%|████████| 30/30 [00:05<00:00,  5.75trial/s, best loss: -0.7293642573275253]\n"
     ]
    },
    {
     "data": {
      "text/plain": [
       "<xplainable.core.ml.classification.XClassifier at 0x28e257a90>"
      ]
     },
     "execution_count": 26,
     "metadata": {},
     "output_type": "execute_result"
    }
   ],
   "source": [
    "# Optimise hyperparameters\n",
    "opt_dd = XParamOptimiser(metric='roc-auc')\n",
    "params_dd = opt.optimise(X_train.drop(columns=[\"duration\"]), y_train)\n",
    "\n",
    "# Train model\n",
    "model_dd = XClassifier(**params)\n",
    "model_dd.fit(X_train.drop(columns=[\"duration\"]), y_train)"
   ]
  },
  {
   "cell_type": "code",
   "execution_count": 27,
   "metadata": {},
   "outputs": [
    {
     "data": {
      "text/html": [
       "\n",
       "    <style>\n",
       "    .vega-bind {\n",
       "      text-align:right;\n",
       "    }\n",
       "    </style>\n",
       "    "
      ],
      "text/plain": [
       "<IPython.core.display.HTML object>"
      ]
     },
     "metadata": {},
     "output_type": "display_data"
    },
    {
     "data": {
      "text/html": [
       "\n",
       "<style>\n",
       "  #altair-viz-da4391b823f0407f905afbd34f7b4ebf.vega-embed {\n",
       "    width: 100%;\n",
       "    display: flex;\n",
       "  }\n",
       "\n",
       "  #altair-viz-da4391b823f0407f905afbd34f7b4ebf.vega-embed details,\n",
       "  #altair-viz-da4391b823f0407f905afbd34f7b4ebf.vega-embed details summary {\n",
       "    position: relative;\n",
       "  }\n",
       "</style>\n",
       "<div id=\"altair-viz-da4391b823f0407f905afbd34f7b4ebf\"></div>\n",
       "<script type=\"text/javascript\">\n",
       "  var VEGA_DEBUG = (typeof VEGA_DEBUG == \"undefined\") ? {} : VEGA_DEBUG;\n",
       "  (function(spec, embedOpt){\n",
       "    let outputDiv = document.currentScript.previousElementSibling;\n",
       "    if (outputDiv.id !== \"altair-viz-da4391b823f0407f905afbd34f7b4ebf\") {\n",
       "      outputDiv = document.getElementById(\"altair-viz-da4391b823f0407f905afbd34f7b4ebf\");\n",
       "    }\n",
       "    const paths = {\n",
       "      \"vega\": \"https://cdn.jsdelivr.net/npm/vega@5?noext\",\n",
       "      \"vega-lib\": \"https://cdn.jsdelivr.net/npm/vega-lib?noext\",\n",
       "      \"vega-lite\": \"https://cdn.jsdelivr.net/npm/vega-lite@5.16.3?noext\",\n",
       "      \"vega-embed\": \"https://cdn.jsdelivr.net/npm/vega-embed@6?noext\",\n",
       "    };\n",
       "\n",
       "    function maybeLoadScript(lib, version) {\n",
       "      var key = `${lib.replace(\"-\", \"\")}_version`;\n",
       "      return (VEGA_DEBUG[key] == version) ?\n",
       "        Promise.resolve(paths[lib]) :\n",
       "        new Promise(function(resolve, reject) {\n",
       "          var s = document.createElement('script');\n",
       "          document.getElementsByTagName(\"head\")[0].appendChild(s);\n",
       "          s.async = true;\n",
       "          s.onload = () => {\n",
       "            VEGA_DEBUG[key] = version;\n",
       "            return resolve(paths[lib]);\n",
       "          };\n",
       "          s.onerror = () => reject(`Error loading script: ${paths[lib]}`);\n",
       "          s.src = paths[lib];\n",
       "        });\n",
       "    }\n",
       "\n",
       "    function showError(err) {\n",
       "      outputDiv.innerHTML = `<div class=\"error\" style=\"color:red;\">${err}</div>`;\n",
       "      throw err;\n",
       "    }\n",
       "\n",
       "    function displayChart(vegaEmbed) {\n",
       "      vegaEmbed(outputDiv, spec, embedOpt)\n",
       "        .catch(err => showError(`Javascript Error: ${err.message}<br>This usually means there's a typo in your chart specification. See the javascript console for the full traceback.`));\n",
       "    }\n",
       "\n",
       "    if(typeof define === \"function\" && define.amd) {\n",
       "      requirejs.config({paths});\n",
       "      require([\"vega-embed\"], displayChart, err => showError(`Error loading script: ${err.message}`));\n",
       "    } else {\n",
       "      maybeLoadScript(\"vega\", \"5\")\n",
       "        .then(() => maybeLoadScript(\"vega-lite\", \"5.16.3\"))\n",
       "        .then(() => maybeLoadScript(\"vega-embed\", \"6\"))\n",
       "        .catch(showError)\n",
       "        .then(() => displayChart(vegaEmbed));\n",
       "    }\n",
       "  })({\"config\": {\"view\": {\"continuousWidth\": 300, \"continuousHeight\": 300}}, \"hconcat\": [{\"mark\": {\"type\": \"bar\", \"color\": \"#0080ea\"}, \"encoding\": {\"color\": {\"condition\": {\"param\": \"param_4\", \"value\": \"lightgray\"}, \"value\": \"#0080ea\"}, \"tooltip\": {\"field\": \"importance_label\", \"type\": \"nominal\"}, \"x\": {\"field\": \"importance\", \"type\": \"quantitative\"}, \"y\": {\"field\": \"feature\", \"sort\": {\"field\": \"importance\", \"order\": \"descending\"}, \"type\": \"nominal\"}}, \"height\": 400, \"name\": \"view_5\", \"title\": \"Feature Importances\", \"transform\": [{\"filter\": {\"param\": \"param_5\"}}], \"width\": 330}, {\"mark\": {\"type\": \"bar\", \"color\": \"#0080ea\"}, \"encoding\": {\"x\": {\"axis\": {\"labels\": false, \"title\": null}, \"field\": \"importance\", \"type\": \"quantitative\"}, \"y\": {\"axis\": {\"labels\": false, \"title\": null}, \"field\": \"feature\", \"sort\": \"-x\", \"type\": \"nominal\"}}, \"height\": 400, \"name\": \"view_6\", \"width\": 25}, {\"data\": {\"name\": \"data-11e1279f90fbcd98d696f22a0cb29be1\"}, \"mark\": {\"type\": \"bar\", \"color\": \"#e14067\"}, \"encoding\": {\"color\": {\"condition\": {\"test\": \"(datum.contribution < 0)\", \"value\": \"#e14067\"}, \"value\": \"#12b980\"}, \"tooltip\": {\"field\": \"score_label\", \"type\": \"nominal\"}, \"x\": {\"field\": \"val\", \"type\": \"quantitative\"}, \"y\": {\"field\": \"value\", \"sort\": {\"field\": \"index\", \"order\": \"descending\"}, \"type\": \"nominal\"}}, \"height\": 400, \"name\": \"view_7\", \"title\": \"Contributions\", \"transform\": [{\"fold\": [\"contribution\", \"mean\", \"frequency\"], \"as\": [\"column\", \"val\"]}, {\"filter\": {\"param\": \"Select\"}}, {\"filter\": {\"param\": \"param_4\"}}, {\"filter\": {\"param\": \"param_6\"}}], \"width\": 330}, {\"data\": {\"name\": \"data-11e1279f90fbcd98d696f22a0cb29be1\"}, \"mark\": {\"type\": \"bar\", \"color\": \"#e14067\"}, \"encoding\": {\"color\": {\"condition\": {\"test\": \"(datum.contribution < 0)\", \"value\": \"#e14067\"}, \"value\": \"#12b980\"}, \"x\": {\"axis\": {\"labels\": false, \"title\": null}, \"field\": \"contribution\", \"type\": \"quantitative\"}, \"y\": {\"axis\": {\"labels\": false, \"title\": null}, \"field\": \"value\", \"sort\": {\"field\": \"index\", \"order\": \"descending\"}, \"type\": \"nominal\"}}, \"height\": 400, \"name\": \"view_8\", \"transform\": [{\"filter\": {\"param\": \"param_4\"}}], \"width\": 25}], \"data\": {\"name\": \"data-58c925f8be57118707182683671c3de5\"}, \"params\": [{\"name\": \"param_4\", \"select\": {\"type\": \"point\", \"fields\": [\"feature\"]}, \"value\": \"pdays\", \"views\": [\"view_5\"]}, {\"name\": \"Select\", \"select\": {\"type\": \"point\", \"fields\": [\"column\"]}, \"bind\": {\"input\": \"select\", \"options\": [\"contribution\", \"mean\", \"frequency\"]}, \"value\": \"contribution\", \"views\": [\"view_5\", \"view_7\"]}, {\"name\": \"param_5\", \"select\": {\"type\": \"interval\", \"encodings\": [\"y\"]}, \"views\": [\"view_6\"]}, {\"name\": \"param_6\", \"select\": {\"type\": \"interval\", \"encodings\": [\"y\"]}, \"views\": [\"view_8\"]}], \"$schema\": \"https://vega.github.io/schema/vega-lite/v5.16.3.json\", \"datasets\": {\"data-58c925f8be57118707182683671c3de5\": [{\"feature\": \"contact\", \"importance\": 0.0, \"importance_label\": \"0.0%\"}, {\"feature\": \"poutcome\", \"importance\": 0.0, \"importance_label\": \"0.0%\"}, {\"feature\": \"default\", \"importance\": 0.0033618600998474436, \"importance_label\": \"0.3%\"}, {\"feature\": \"loan\", \"importance\": 0.020255101203367848, \"importance_label\": \"2.0%\"}, {\"feature\": \"marital\", \"importance\": 0.027515549368653597, \"importance_label\": \"2.8%\"}, {\"feature\": \"education\", \"importance\": 0.031844753941151514, \"importance_label\": \"3.2%\"}, {\"feature\": \"campaign\", \"importance\": 0.04490855413070252, \"importance_label\": \"4.5%\"}, {\"feature\": \"housing\", \"importance\": 0.05237009550533516, \"importance_label\": \"5.2%\"}, {\"feature\": \"day_of_week\", \"importance\": 0.05410913222001957, \"importance_label\": \"5.4%\"}, {\"feature\": \"job\", \"importance\": 0.09927522909448712, \"importance_label\": \"9.9%\"}, {\"feature\": \"age\", \"importance\": 0.1015561676757741, \"importance_label\": \"10.2%\"}, {\"feature\": \"balance\", \"importance\": 0.12562443458758496, \"importance_label\": \"12.6%\"}, {\"feature\": \"month\", \"importance\": 0.14264495918260053, \"importance_label\": \"14.3%\"}, {\"feature\": \"previous\", \"importance\": 0.14577345431628747, \"importance_label\": \"14.6%\"}, {\"feature\": \"pdays\", \"importance\": 0.15076070867418817, \"importance_label\": \"15.1%\"}], \"data-11e1279f90fbcd98d696f22a0cb29be1\": [{\"index\": 0, \"value\": \"-inf - 24.5\", \"contribution\": 0.07659473599379826, \"mean\": 0.26506024096385544, \"frequency\": 0.0183587701835877, \"feature\": \"age\", \"score_label\": \"7.7\"}, {\"index\": 1, \"value\": \"24.5 - 25.5\", \"contribution\": 0.051277667508482554, \"mean\": 0.21654501216545013, \"frequency\": 0.011363636363636364, \"feature\": \"age\", \"score_label\": \"5.1\"}, {\"index\": 2, \"value\": \"25.5 - 27.5\", \"contribution\": 0.020833429598526847, \"mean\": 0.1582045621780721, \"frequency\": 0.03757465162574652, \"feature\": \"age\", \"score_label\": \"2.1\"}, {\"index\": 3, \"value\": \"27.5 - 29.5\", \"contribution\": 0.02039587363403534, \"mean\": 0.15736607142857142, \"frequency\": 0.0495465604954656, \"feature\": \"age\", \"score_label\": \"2.0\"}, {\"index\": 4, \"value\": \"29.5 - 38.5\", \"contribution\": -0.002090117951502986, \"mean\": 0.1084735576923077, \"frequency\": 0.3680601636806016, \"feature\": \"age\", \"score_label\": \"-0.2\"}, {\"index\": 5, \"value\": \"38.5 - 43.5\", \"contribution\": -0.006218914496554414, \"mean\": 0.08909934286818709, \"frequency\": 0.14305463393054635, \"feature\": \"age\", \"score_label\": \"-0.6\"}, {\"index\": 6, \"value\": \"43.5 - 48.5\", \"contribution\": -0.006302333546849855, \"mean\": 0.0887079022672243, \"frequency\": 0.12560827250608272, \"feature\": \"age\", \"score_label\": \"-0.6\"}, {\"index\": 7, \"value\": \"48.5 - 59.5\", \"contribution\": -0.0047646841457502035, \"mean\": 0.09592326139088729, \"frequency\": 0.20753151957531518, \"feature\": \"age\", \"score_label\": \"-0.5\"}, {\"index\": 8, \"value\": \"59.5 - 60.5\", \"contribution\": 0.02543551106335444, \"mean\": 0.1670235546038544, \"frequency\": 0.012911966379119663, \"feature\": \"age\", \"score_label\": \"2.5\"}, {\"index\": 9, \"value\": \"60.5 - 67.5\", \"contribution\": 0.15680328777450026, \"mean\": 0.41876430205949655, \"frequency\": 0.012082503870825038, \"feature\": \"age\", \"score_label\": \"15.7\"}, {\"index\": 10, \"value\": \"67.5 - inf\", \"contribution\": 0.17377759085440916, \"mean\": 0.45129224652087474, \"frequency\": 0.013907321389073213, \"feature\": \"age\", \"score_label\": \"17.4\"}, {\"index\": 0, \"value\": \"blue-collar\", \"contribution\": -0.009262632877614436, \"mean\": 0.07481681450057848, \"frequency\": 0.21507962840079628, \"feature\": \"job\", \"score_label\": \"-0.9\"}, {\"index\": 1, \"value\": \"entrepreneur\", \"contribution\": -0.006945937006792768, \"mean\": 0.08354646206308611, \"frequency\": 0.03243198407431984, \"feature\": \"job\", \"score_label\": \"-0.7\"}, {\"index\": 1, \"value\": \"housemaid\", \"contribution\": -0.006945937006792768, \"mean\": 0.08823529411764706, \"frequency\": 0.02726166777261668, \"feature\": \"job\", \"score_label\": \"-0.7\"}, {\"index\": 2, \"value\": \"services\", \"contribution\": -0.0030608942390779334, \"mean\": 0.09359012940114354, \"frequency\": 0.09187679716876797, \"feature\": \"job\", \"score_label\": \"-0.3\"}, {\"index\": 2, \"value\": \"technician\", \"contribution\": -0.0030608942390779334, \"mean\": 0.10957324106113034, \"frequency\": 0.16780026542800267, \"feature\": \"job\", \"score_label\": \"-0.3\"}, {\"index\": 3, \"value\": \"admin.\", \"contribution\": 0.007273350698588356, \"mean\": 0.12158869395711501, \"frequency\": 0.11347047113470471, \"feature\": \"job\", \"score_label\": \"0.7\"}, {\"index\": 3, \"value\": \"self-employed\", \"contribution\": 0.007273350698588356, \"mean\": 0.12273800157356413, \"frequency\": 0.03514156160141561, \"feature\": \"job\", \"score_label\": \"0.7\"}, {\"index\": 3, \"value\": \"management\", \"contribution\": 0.007273350698588356, \"mean\": 0.13953488372093023, \"frequency\": 0.2104346383543464, \"feature\": \"job\", \"score_label\": \"0.7\"}, {\"index\": 4, \"value\": \"unemployed\", \"contribution\": 0.013869638329294609, \"mean\": 0.14485981308411214, \"frequency\": 0.02958416279584163, \"feature\": \"job\", \"score_label\": \"1.4\"}, {\"index\": 5, \"value\": \"retired\", \"contribution\": 0.05916535672685313, \"mean\": 0.23166023166023167, \"frequency\": 0.05012718425127184, \"feature\": \"job\", \"score_label\": \"5.9\"}, {\"index\": 6, \"value\": \"student\", \"contribution\": 0.06913963567582196, \"mean\": 0.29010695187165775, \"frequency\": 0.02068126520681265, \"feature\": \"job\", \"score_label\": \"6.9\"}, {\"index\": 0, \"value\": \"married\", \"contribution\": -0.0028300726167268743, \"mean\": 0.1017144437275325, \"frequency\": 0.5999225834992258, \"feature\": \"marital\", \"score_label\": \"-0.3\"}, {\"index\": 0, \"value\": \"divorced\", \"contribution\": -0.0028300726167268743, \"mean\": 0.1218417945690673, \"frequency\": 0.11709245742092457, \"feature\": \"marital\", \"score_label\": \"-0.3\"}, {\"index\": 1, \"value\": \"single\", \"contribution\": 0.017558946399883625, \"mean\": 0.1519296531509526, \"frequency\": 0.2829849590798496, \"feature\": \"marital\", \"score_label\": \"1.8\"}, {\"index\": 0, \"value\": \"primary\", \"contribution\": -0.006593961514136179, \"mean\": 0.0873394495412844, \"frequency\": 0.1506856890068569, \"feature\": \"education\", \"score_label\": \"-0.7\"}, {\"index\": 1, \"value\": \"secondary\", \"contribution\": -0.002263325024424937, \"mean\": 0.10766079033910184, \"frequency\": 0.5128566688785667, \"feature\": \"education\", \"score_label\": \"-0.2\"}, {\"index\": 2, \"value\": \"tertiary\", \"contribution\": 0.01567932134469175, \"mean\": 0.15101582248853104, \"frequency\": 0.29531630170316303, \"feature\": \"education\", \"score_label\": \"1.6\"}, {\"index\": 0, \"value\": \"yes\", \"contribution\": -0.01084719548704876, \"mean\": 0.06738131699846861, \"frequency\": 0.01805463393054634, \"feature\": \"default\", \"score_label\": \"-1.1\"}, {\"index\": 1, \"value\": \"no\", \"contribution\": 0.0004883765360264344, \"mean\": 0.11921723215542729, \"frequency\": 0.9819453660694537, \"feature\": \"default\", \"score_label\": \"0.0\"}, {\"index\": 0, \"value\": \"-inf - -426.5\", \"contribution\": -0.01241439713356725, \"mean\": 0.06002728512960437, \"frequency\": 0.02026653395266534, \"feature\": \"balance\", \"score_label\": \"-1.2\"}, {\"index\": 1, \"value\": \"-426.5 - -228.5\", \"contribution\": -0.013694927842003624, \"mean\": 0.05401844532279315, \"frequency\": 0.020985401459854013, \"feature\": \"balance\", \"score_label\": \"-1.4\"}, {\"index\": 2, \"value\": \"-228.5 - -90.5\", \"contribution\": -0.01381054085365197, \"mean\": 0.053475935828877004, \"frequency\": 0.02068126520681265, \"feature\": \"balance\", \"score_label\": \"-1.4\"}, {\"index\": 3, \"value\": \"-90.5 - -0.5\", \"contribution\": -0.012518258704119677, \"mean\": 0.05953991880920163, \"frequency\": 0.020432426454324266, \"feature\": \"balance\", \"score_label\": \"-1.3\"}, {\"index\": 4, \"value\": \"-0.5 - 2.5\", \"contribution\": -0.0068711057743818605, \"mean\": 0.08603896103896104, \"frequency\": 0.0851581508515815, \"feature\": \"balance\", \"score_label\": \"-0.7\"}, {\"index\": 5, \"value\": \"2.5 - 39.5\", \"contribution\": -0.010991788507599961, \"mean\": 0.0667028199566163, \"frequency\": 0.05098429550984296, \"feature\": \"balance\", \"score_label\": \"-1.1\"}, {\"index\": 6, \"value\": \"39.5 - 105.5\", \"contribution\": -0.00646368912587426, \"mean\": 0.08795074758135439, \"frequency\": 0.06287325812873258, \"feature\": \"balance\", \"score_label\": \"-0.6\"}, {\"index\": 7, \"value\": \"105.5 - 913.5\", \"contribution\": -0.0006981837741034482, \"mean\": 0.11500515388013544, \"frequency\": 0.37552532625525326, \"feature\": \"balance\", \"score_label\": \"-0.1\"}, {\"index\": 8, \"value\": \"913.5 - 1094.5\", \"contribution\": 0.022184148381318353, \"mean\": 0.16079295154185022, \"frequency\": 0.03765759787657598, \"feature\": \"balance\", \"score_label\": \"2.2\"}, {\"index\": 9, \"value\": \"1094.5 - 1945.5\", \"contribution\": 0.010153046459483759, \"mean\": 0.1377376889322282, \"frequency\": 0.11341517363415174, \"feature\": \"balance\", \"score_label\": \"1.0\"}, {\"index\": 10, \"value\": \"1945.5 - 2320.5\", \"contribution\": 0.020034262484815362, \"mean\": 0.15667311411992263, \"frequency\": 0.028588807785888078, \"feature\": \"balance\", \"score_label\": \"2.0\"}, {\"index\": 11, \"value\": \"2320.5 - 2775.5\", \"contribution\": 0.028564956937803917, \"mean\": 0.17302052785923755, \"frequency\": 0.028284671532846715, \"feature\": \"balance\", \"score_label\": \"2.9\"}, {\"index\": 12, \"value\": \"2775.5 - 3361.0\", \"contribution\": 0.0358557279495401, \"mean\": 0.18699186991869918, \"frequency\": 0.027206370272063702, \"feature\": \"balance\", \"score_label\": \"3.6\"}, {\"index\": 13, \"value\": \"3361.0 - 4228.0\", \"contribution\": 0.03797701883264761, \"mean\": 0.19105691056910562, \"frequency\": 0.027206370272063702, \"feature\": \"balance\", \"score_label\": \"3.8\"}, {\"index\": 14, \"value\": \"4228.0 - 6048.0\", \"contribution\": 0.029546759299544874, \"mean\": 0.17490196078431355, \"frequency\": 0.03525215660252157, \"feature\": \"balance\", \"score_label\": \"3.0\"}, {\"index\": 15, \"value\": \"6048.0 - inf\", \"contribution\": 0.014727928661495117, \"mean\": 0.14650455927051673, \"frequency\": 0.04548219420482194, \"feature\": \"balance\", \"score_label\": \"1.5\"}, {\"index\": 0, \"value\": \"yes\", \"contribution\": -0.00860996111945664, \"mean\": 0.07787945096479014, \"frequency\": 0.5559610705596107, \"feature\": \"housing\", \"score_label\": \"-0.9\"}, {\"index\": 1, \"value\": \"no\", \"contribution\": 0.026397359483938294, \"mean\": 0.1688667496886675, \"frequency\": 0.4440389294403893, \"feature\": \"housing\", \"score_label\": \"2.6\"}, {\"index\": 0, \"value\": \"yes\", \"contribution\": -0.010807003803698319, \"mean\": 0.06756991488622546, \"frequency\": 0.15917385534173856, \"feature\": \"loan\", \"score_label\": \"-1.1\"}, {\"index\": 1, \"value\": \"no\", \"contribution\": 0.005009643177557812, \"mean\": 0.12788135871888462, \"frequency\": 0.8408261446582614, \"feature\": \"loan\", \"score_label\": \"0.5\"}, {\"index\": 0, \"value\": \"-inf - 2.5\", \"contribution\": 0.028137177647453042, \"mean\": 0.1722007722007722, \"frequency\": 0.035805131608051315, \"feature\": \"day_of_week\", \"score_label\": \"2.8\"}, {\"index\": 1, \"value\": \"2.5 - 3.5\", \"contribution\": 0.02188895593053426, \"mean\": 0.16022727272727266, \"frequency\": 0.024330900243309004, \"feature\": \"day_of_week\", \"score_label\": \"2.2\"}, {\"index\": 2, \"value\": \"3.5 - 4.5\", \"contribution\": 0.0230693125486825, \"mean\": 0.16248919619706098, \"frequency\": 0.03198960406989604, \"feature\": \"day_of_week\", \"score_label\": \"2.3\"}, {\"index\": 3, \"value\": \"4.5 - 27.5\", \"contribution\": -0.000624885849411181, \"mean\": 0.11534910149868599, \"frequency\": 0.7785335102853351, \"feature\": \"day_of_week\", \"score_label\": \"-0.1\"}, {\"index\": 4, \"value\": \"27.5 - 29.5\", \"contribution\": -0.00876272131901919, \"mean\": 0.07716262975778548, \"frequency\": 0.07990488829904888, \"feature\": \"day_of_week\", \"score_label\": \"-0.9\"}, {\"index\": 5, \"value\": \"29.5 - 30.5\", \"contribution\": 0.026421787210073714, \"mean\": 0.16891356066613797, \"frequency\": 0.03486507409865074, \"feature\": \"day_of_week\", \"score_label\": \"2.6\"}, {\"index\": 6, \"value\": \"30.5 - inf\", \"contribution\": -0.008222756216933857, \"mean\": 0.07969639468690702, \"frequency\": 0.014570891395708914, \"feature\": \"day_of_week\", \"score_label\": \"-0.8\"}, {\"index\": 0, \"value\": \"may\", \"contribution\": -0.01084182209488886, \"mean\": 0.06740653142909124, \"frequency\": 0.3039427117894271, \"feature\": \"month\", \"score_label\": \"-1.1\"}, {\"index\": 1, \"value\": \"jul\", \"contribution\": -0.005446547690168573, \"mean\": 0.09272364362184722, \"frequency\": 0.15237226277372262, \"feature\": \"month\", \"score_label\": \"-0.5\"}, {\"index\": 2, \"value\": \"nov\", \"contribution\": -0.0025436288053507206, \"mean\": 0.10216912920465263, \"frequency\": 0.08795067462950674, \"feature\": \"month\", \"score_label\": \"-0.3\"}, {\"index\": 2, \"value\": \"jan\", \"contribution\": -0.0025436288053507206, \"mean\": 0.1022530329289428, \"frequency\": 0.031906657819066576, \"feature\": \"month\", \"score_label\": \"-0.3\"}, {\"index\": 2, \"value\": \"jun\", \"contribution\": -0.0025436288053507206, \"mean\": 0.10393258426966293, \"frequency\": 0.11811546118115461, \"feature\": \"month\", \"score_label\": \"-0.3\"}, {\"index\": 2, \"value\": \"aug\", \"contribution\": -0.0025436288053507206, \"mean\": 0.11199840287482532, \"frequency\": 0.1384925901349259, \"feature\": \"month\", \"score_label\": \"-0.3\"}, {\"index\": 3, \"value\": \"feb\", \"contribution\": 0.026463979207290222, \"mean\": 0.16899441340782123, \"frequency\": 0.05938951559389516, \"feature\": \"month\", \"score_label\": \"2.6\"}, {\"index\": 4, \"value\": \"apr\", \"contribution\": 0.040301558130105594, \"mean\": 0.1955114372032801, \"frequency\": 0.06406215439062155, \"feature\": \"month\", \"score_label\": \"4.0\"}, {\"index\": 5, \"value\": \"dec\", \"contribution\": 0.17566678386579382, \"mean\": 0.4508670520231214, \"frequency\": 0.004783233797832338, \"feature\": \"month\", \"score_label\": \"17.6\"}, {\"index\": 5, \"value\": \"oct\", \"contribution\": 0.17566678386579382, \"mean\": 0.45614035087719296, \"frequency\": 0.015759787657597876, \"feature\": \"month\", \"score_label\": \"17.6\"}, {\"index\": 6, \"value\": \"sep\", \"contribution\": 0.1905554312924554, \"mean\": 0.48344370860927155, \"frequency\": 0.01252488387524884, \"feature\": \"month\", \"score_label\": \"19.1\"}, {\"index\": 7, \"value\": \"mar\", \"contribution\": 0.21470192674549093, \"mean\": 0.5297157622739018, \"frequency\": 0.010700066357000663, \"feature\": \"month\", \"score_label\": \"21.5\"}, {\"index\": 0, \"value\": \"-inf - 1.5\", \"contribution\": 0.014558864205862774, \"mean\": 0.1461805801829917, \"frequency\": 0.3898197301481973, \"feature\": \"campaign\", \"score_label\": \"1.5\"}, {\"index\": 1, \"value\": \"1.5 - 3.5\", \"contribution\": -0.001111353538542117, \"mean\": 0.11306637106831094, \"frequency\": 0.3990820614908206, \"feature\": \"campaign\", \"score_label\": \"-0.1\"}, {\"index\": 2, \"value\": \"3.5 - 4.5\", \"contribution\": -0.005598329756123739, \"mean\": 0.0920114122681883, \"frequency\": 0.07752709577527096, \"feature\": \"campaign\", \"score_label\": \"-0.6\"}, {\"index\": 3, \"value\": \"4.5 - 5.5\", \"contribution\": -0.007547465752123432, \"mean\": 0.08286516853932616, \"frequency\": 0.039371820393718206, \"feature\": \"campaign\", \"score_label\": \"-0.8\"}, {\"index\": 4, \"value\": \"5.5 - 6.5\", \"contribution\": -0.009788573208302552, \"mean\": 0.07234886025768088, \"frequency\": 0.02789758902897589, \"feature\": \"campaign\", \"score_label\": \"-1.0\"}, {\"index\": 5, \"value\": \"6.5 - 7.5\", \"contribution\": -0.009748082756708831, \"mean\": 0.07253886010362694, \"frequency\": 0.016008626410086265, \"feature\": \"campaign\", \"score_label\": \"-1.0\"}, {\"index\": 6, \"value\": \"7.5 - 9.5\", \"contribution\": -0.011408332984695579, \"mean\": 0.06474820143884892, \"frequency\": 0.019215881442158814, \"feature\": \"campaign\", \"score_label\": \"-1.1\"}, {\"index\": 7, \"value\": \"9.5 - 12.5\", \"contribution\": -0.012304537420975346, \"mean\": 0.060542797494780795, \"frequency\": 0.013243751382437514, \"feature\": \"campaign\", \"score_label\": \"-1.2\"}, {\"index\": 8, \"value\": \"12.5 - inf\", \"contribution\": -0.01859868637926079, \"mean\": 0.031007751937984496, \"frequency\": 0.017833443928334438, \"feature\": \"campaign\", \"score_label\": \"-1.9\"}, {\"index\": 0, \"value\": \"-inf - 19.5\", \"contribution\": -0.005495837924774207, \"mean\": 0.09249235114144505, \"frequency\": 0.8223567794735678, \"feature\": \"pdays\", \"score_label\": \"-0.5\"}, {\"index\": 1, \"value\": \"19.5 - 92.5\", \"contribution\": 0.19169519131368898, \"mean\": 0.4856278366111952, \"frequency\": 0.01827582393275824, \"feature\": \"pdays\", \"score_label\": \"19.2\"}, {\"index\": 2, \"value\": \"92.5 - 107.5\", \"contribution\": 0.14923195557435184, \"mean\": 0.40425531914893614, \"frequency\": 0.014294403892944039, \"feature\": \"pdays\", \"score_label\": \"14.9\"}, {\"index\": 3, \"value\": \"107.5 - 168.5\", \"contribution\": 0.023002740384733503, \"mean\": 0.16236162361623616, \"frequency\": 0.02247843397478434, \"feature\": \"pdays\", \"score_label\": \"2.3\"}, {\"index\": 4, \"value\": \"168.5 - 187.5\", \"contribution\": 0.12519505217991186, \"mean\": 0.3581932773109244, \"frequency\": 0.026321610263216104, \"feature\": \"pdays\", \"score_label\": \"12.5\"}, {\"index\": 5, \"value\": \"187.5 - 352.5\", \"contribution\": 0.007144147497110416, \"mean\": 0.13197172034564023, \"frequency\": 0.07039371820393718, \"feature\": \"pdays\", \"score_label\": \"0.7\"}, {\"index\": 6, \"value\": \"352.5 - inf\", \"contribution\": 0.0430898737816761, \"mean\": 0.20085470085470086, \"frequency\": 0.025879230258792303, \"feature\": \"pdays\", \"score_label\": \"4.3\"}, {\"index\": 0, \"value\": \"-inf - 0.5\", \"contribution\": -0.005518584145687464, \"mean\": 0.09238561539760257, \"frequency\": 0.8188177394381774, \"feature\": \"previous\", \"score_label\": \"-0.6\"}, {\"index\": 1, \"value\": \"0.5 - 1.5\", \"contribution\": 0.04660897454287767, \"mean\": 0.20759837177747625, \"frequency\": 0.06113138686131387, \"feature\": \"previous\", \"score_label\": \"4.7\"}, {\"index\": 2, \"value\": \"1.5 - 2.5\", \"contribution\": 0.05725905786527512, \"mean\": 0.22800718132854578, \"frequency\": 0.04620106171201062, \"feature\": \"previous\", \"score_label\": \"5.7\"}, {\"index\": 3, \"value\": \"2.5 - 3.5\", \"contribution\": 0.07279447319405281, \"mean\": 0.2577777777777778, \"frequency\": 0.02488387524883875, \"feature\": \"previous\", \"score_label\": \"7.3\"}, {\"index\": 4, \"value\": \"3.5 - 4.5\", \"contribution\": 0.0733619561168245, \"mean\": 0.25886524822695023, \"frequency\": 0.015593895155938951, \"feature\": \"previous\", \"score_label\": \"7.3\"}, {\"index\": 5, \"value\": \"4.5 - 6.5\", \"contribution\": 0.086597594099714, \"mean\": 0.28422876949740034, \"frequency\": 0.015953328909533288, \"feature\": \"previous\", \"score_label\": \"8.7\"}, {\"index\": 6, \"value\": \"6.5 - inf\", \"contribution\": 0.07080652059502632, \"mean\": 0.25396825396825395, \"frequency\": 0.017418712674187126, \"feature\": \"previous\", \"score_label\": \"7.1\"}]}}, {\"mode\": \"vega-lite\"});\n",
       "</script>"
      ],
      "text/plain": [
       "alt.HConcatChart(...)"
      ]
     },
     "execution_count": 27,
     "metadata": {},
     "output_type": "execute_result"
    }
   ],
   "source": [
    "model_dd.explain()"
   ]
  },
  {
   "cell_type": "code",
   "execution_count": null,
   "metadata": {},
   "outputs": [],
   "source": []
  },
  {
   "cell_type": "code",
   "execution_count": null,
   "metadata": {},
   "outputs": [],
   "source": []
  },
  {
   "cell_type": "code",
   "execution_count": null,
   "metadata": {},
   "outputs": [],
   "source": []
  },
  {
   "cell_type": "markdown",
   "metadata": {},
   "source": [
    "## Instantiate Xplainable Cloud\n",
    "Initialise the xplainable cloud using an API key from: https://beta.xplainable.io/\n",
    "\n",
    "This allows you to save and collaborate on models, create deployments, create shareable reports."
   ]
  },
  {
   "cell_type": "code",
   "execution_count": null,
   "metadata": {},
   "outputs": [],
   "source": [
    "xp.initialise(\n",
    "    api_key=\"\", #<- Add your own token here\n",
    ")"
   ]
  }
 ],
 "metadata": {
  "kernelspec": {
   "display_name": "Python 3 (ipykernel)",
   "language": "python",
   "name": "python3"
  },
  "language_info": {
   "codemirror_mode": {
    "name": "ipython",
    "version": 3
   },
   "file_extension": ".py",
   "mimetype": "text/x-python",
   "name": "python",
   "nbconvert_exporter": "python",
   "pygments_lexer": "ipython3",
   "version": "3.10.13"
  }
 },
 "nbformat": 4,
 "nbformat_minor": 4
}
