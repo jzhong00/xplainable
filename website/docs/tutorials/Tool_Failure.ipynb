{
 "cells": [
  {
   "cell_type": "markdown",
   "id": "99aa8e91-1932-4a98-ad80-e59f8d68d579",
   "metadata": {},
   "source": [
    "## Package Imports"
   ]
  },
  {
   "cell_type": "code",
   "execution_count": 90,
   "id": "0324a62b-b581-4c8f-8fe9-44bfea38232d",
   "metadata": {},
   "outputs": [],
   "source": [
    "import pandas as pd\n",
    "import xplainable as xp\n",
    "from xplainable.core.models import XClassifier\n",
    "from xplainable.core.optimisation.bayesian import XParamOptimiser\n",
    "from xplainable.preprocessing.pipeline import XPipeline\n",
    "from xplainable.preprocessing import transformers as xtf\n",
    "from sklearn.model_selection import train_test_split\n",
    "import requests"
   ]
  },
  {
   "cell_type": "markdown",
   "id": "f9405b66-af1f-411f-86a3-4416aab9dadc",
   "metadata": {},
   "source": [
    "## Read in the csv dataset"
   ]
  },
  {
   "cell_type": "code",
   "execution_count": 91,
   "id": "86b7e5d4-c187-4dbf-9a16-fecc0db86697",
   "metadata": {},
   "outputs": [],
   "source": [
    "df = pd.read_csv(\"data/asset_failure.csv\")"
   ]
  },
  {
   "cell_type": "code",
   "execution_count": 92,
   "id": "f840530d-0b7f-4c13-a488-9802ce0159ae",
   "metadata": {},
   "outputs": [
    {
     "data": {
      "text/html": [
       "<div>\n",
       "<style scoped>\n",
       "    .dataframe tbody tr th:only-of-type {\n",
       "        vertical-align: middle;\n",
       "    }\n",
       "\n",
       "    .dataframe tbody tr th {\n",
       "        vertical-align: top;\n",
       "    }\n",
       "\n",
       "    .dataframe thead th {\n",
       "        text-align: right;\n",
       "    }\n",
       "</style>\n",
       "<table border=\"1\" class=\"dataframe\">\n",
       "  <thead>\n",
       "    <tr style=\"text-align: right;\">\n",
       "      <th></th>\n",
       "      <th>UDI</th>\n",
       "      <th>Product ID</th>\n",
       "      <th>Type</th>\n",
       "      <th>Air temperature [K]</th>\n",
       "      <th>Process temperature [K]</th>\n",
       "      <th>Rotational speed [rpm]</th>\n",
       "      <th>Torque [Nm]</th>\n",
       "      <th>Tool wear [min]</th>\n",
       "      <th>Machine failure</th>\n",
       "      <th>TWF</th>\n",
       "      <th>HDF</th>\n",
       "      <th>PWF</th>\n",
       "      <th>OSF</th>\n",
       "      <th>RNF</th>\n",
       "    </tr>\n",
       "  </thead>\n",
       "  <tbody>\n",
       "    <tr>\n",
       "      <th>0</th>\n",
       "      <td>1</td>\n",
       "      <td>M14860</td>\n",
       "      <td>M</td>\n",
       "      <td>298.1</td>\n",
       "      <td>308.6</td>\n",
       "      <td>1551</td>\n",
       "      <td>42.8</td>\n",
       "      <td>0</td>\n",
       "      <td>0</td>\n",
       "      <td>0</td>\n",
       "      <td>0</td>\n",
       "      <td>0</td>\n",
       "      <td>0</td>\n",
       "      <td>0</td>\n",
       "    </tr>\n",
       "    <tr>\n",
       "      <th>1</th>\n",
       "      <td>2</td>\n",
       "      <td>L47181</td>\n",
       "      <td>L</td>\n",
       "      <td>298.2</td>\n",
       "      <td>308.7</td>\n",
       "      <td>1408</td>\n",
       "      <td>46.3</td>\n",
       "      <td>3</td>\n",
       "      <td>0</td>\n",
       "      <td>0</td>\n",
       "      <td>0</td>\n",
       "      <td>0</td>\n",
       "      <td>0</td>\n",
       "      <td>0</td>\n",
       "    </tr>\n",
       "    <tr>\n",
       "      <th>2</th>\n",
       "      <td>3</td>\n",
       "      <td>L47182</td>\n",
       "      <td>L</td>\n",
       "      <td>298.1</td>\n",
       "      <td>308.5</td>\n",
       "      <td>1498</td>\n",
       "      <td>49.4</td>\n",
       "      <td>5</td>\n",
       "      <td>0</td>\n",
       "      <td>0</td>\n",
       "      <td>0</td>\n",
       "      <td>0</td>\n",
       "      <td>0</td>\n",
       "      <td>0</td>\n",
       "    </tr>\n",
       "    <tr>\n",
       "      <th>3</th>\n",
       "      <td>4</td>\n",
       "      <td>L47183</td>\n",
       "      <td>L</td>\n",
       "      <td>298.2</td>\n",
       "      <td>308.6</td>\n",
       "      <td>1433</td>\n",
       "      <td>39.5</td>\n",
       "      <td>7</td>\n",
       "      <td>0</td>\n",
       "      <td>0</td>\n",
       "      <td>0</td>\n",
       "      <td>0</td>\n",
       "      <td>0</td>\n",
       "      <td>0</td>\n",
       "    </tr>\n",
       "    <tr>\n",
       "      <th>4</th>\n",
       "      <td>5</td>\n",
       "      <td>L47184</td>\n",
       "      <td>L</td>\n",
       "      <td>298.2</td>\n",
       "      <td>308.7</td>\n",
       "      <td>1408</td>\n",
       "      <td>40.0</td>\n",
       "      <td>9</td>\n",
       "      <td>0</td>\n",
       "      <td>0</td>\n",
       "      <td>0</td>\n",
       "      <td>0</td>\n",
       "      <td>0</td>\n",
       "      <td>0</td>\n",
       "    </tr>\n",
       "  </tbody>\n",
       "</table>\n",
       "</div>"
      ],
      "text/plain": [
       "   UDI Product ID Type  Air temperature [K]  Process temperature [K]  \\\n",
       "0    1     M14860    M                298.1                    308.6   \n",
       "1    2     L47181    L                298.2                    308.7   \n",
       "2    3     L47182    L                298.1                    308.5   \n",
       "3    4     L47183    L                298.2                    308.6   \n",
       "4    5     L47184    L                298.2                    308.7   \n",
       "\n",
       "   Rotational speed [rpm]  Torque [Nm]  Tool wear [min]  Machine failure  TWF  \\\n",
       "0                    1551         42.8                0                0    0   \n",
       "1                    1408         46.3                3                0    0   \n",
       "2                    1498         49.4                5                0    0   \n",
       "3                    1433         39.5                7                0    0   \n",
       "4                    1408         40.0                9                0    0   \n",
       "\n",
       "   HDF  PWF  OSF  RNF  \n",
       "0    0    0    0    0  \n",
       "1    0    0    0    0  \n",
       "2    0    0    0    0  \n",
       "3    0    0    0    0  \n",
       "4    0    0    0    0  "
      ]
     },
     "execution_count": 92,
     "metadata": {},
     "output_type": "execute_result"
    }
   ],
   "source": [
    "df.head()"
   ]
  },
  {
   "cell_type": "markdown",
   "id": "556e5585-ec8d-4c98-8c93-3c3b5904178e",
   "metadata": {},
   "source": [
    "## Dataset Overview: Machine Failure Prediction\n",
    "\n",
    "This dataset is designed for predictive maintenance, focusing on machine failure prediction. Below is an overview of its structure and the data it contains:\n",
    "\n",
    "1. **UDI (Unique Identifier):** A column for unique identification numbers for each record.\n",
    "\n",
    "2. **Product ID:** Identifier for the product being produced or involved in the process.\n",
    "\n",
    "3. **Type:** Indicates the type or category of the product or process, with different types represented by different letters (e.g., 'M', 'L').\n",
    "\n",
    "4. **Air temperature [K] (Kelvin):** The temperature of the air in the environment where the machine operates, measured in Kelvin.\n",
    "\n",
    "5. **Process temperature [K] (Kelvin):** The operational temperature of the process or machine, also measured in Kelvin.\n",
    "\n",
    "6. **Rotational speed [rpm] (Revolutions per Minute):** This column shows the speed at which a component of the machine is rotating.\n",
    "\n",
    "7. **Torque [Nm] (Newton Meters):** The torque being applied in the process, measured in Newton meters.\n",
    "\n",
    "8. **Tool wear [min]:** Indicates the amount of wear on the tools used in the machine, measured in minutes of operation.\n",
    "\n",
    "9. **Machine failure:** A binary indicator (0 or 1) showing whether a machine failure occurred.\n",
    "\n",
    "10. **TWF (Tool Wear Failure):** Specific indicator of failure due to tool wear.\n",
    "\n",
    "11. **HDF (Heat Dissipation Failure):** Indicates failure due to ineffective heat dissipation.\n",
    "\n",
    "12. **PWF (Power Failure):** Shows whether a failure was due to power issues.\n",
    "\n",
    "13. **OSF (Overstrain Failure):** Indicates if the failure was due to overstraining of the machine components.\n",
    "\n",
    "14. **RNF (Random Failure):** A column for failures that don't fit into the other specified categories and are considered random.\n",
    "\n",
    "Each row of the dataset represents a unique instance or record of the production process, with the corresponding measurements and failure indicators. This data can be used to train machine learning models to predict machine failures based on these parameters.\n"
   ]
  },
  {
   "cell_type": "code",
   "execution_count": 93,
   "id": "7ca3748f-3fb5-4ba0-9ce0-5a9e5f6037ff",
   "metadata": {},
   "outputs": [
    {
     "data": {
      "text/html": [
       "<div>\n",
       "<style scoped>\n",
       "    .dataframe tbody tr th:only-of-type {\n",
       "        vertical-align: middle;\n",
       "    }\n",
       "\n",
       "    .dataframe tbody tr th {\n",
       "        vertical-align: top;\n",
       "    }\n",
       "\n",
       "    .dataframe thead th {\n",
       "        text-align: right;\n",
       "    }\n",
       "</style>\n",
       "<table border=\"1\" class=\"dataframe\">\n",
       "  <thead>\n",
       "    <tr style=\"text-align: right;\">\n",
       "      <th></th>\n",
       "      <th>Type</th>\n",
       "      <th>Air temperature [K]</th>\n",
       "      <th>Process temperature [K]</th>\n",
       "      <th>Rotational speed [rpm]</th>\n",
       "      <th>Torque [Nm]</th>\n",
       "      <th>Tool wear [min]</th>\n",
       "      <th>Machine failure</th>\n",
       "    </tr>\n",
       "  </thead>\n",
       "  <tbody>\n",
       "    <tr>\n",
       "      <th>0</th>\n",
       "      <td>M</td>\n",
       "      <td>298.1</td>\n",
       "      <td>308.6</td>\n",
       "      <td>1551</td>\n",
       "      <td>42.8</td>\n",
       "      <td>0</td>\n",
       "      <td>0</td>\n",
       "    </tr>\n",
       "    <tr>\n",
       "      <th>1</th>\n",
       "      <td>L</td>\n",
       "      <td>298.2</td>\n",
       "      <td>308.7</td>\n",
       "      <td>1408</td>\n",
       "      <td>46.3</td>\n",
       "      <td>3</td>\n",
       "      <td>0</td>\n",
       "    </tr>\n",
       "    <tr>\n",
       "      <th>2</th>\n",
       "      <td>L</td>\n",
       "      <td>298.1</td>\n",
       "      <td>308.5</td>\n",
       "      <td>1498</td>\n",
       "      <td>49.4</td>\n",
       "      <td>5</td>\n",
       "      <td>0</td>\n",
       "    </tr>\n",
       "    <tr>\n",
       "      <th>3</th>\n",
       "      <td>L</td>\n",
       "      <td>298.2</td>\n",
       "      <td>308.6</td>\n",
       "      <td>1433</td>\n",
       "      <td>39.5</td>\n",
       "      <td>7</td>\n",
       "      <td>0</td>\n",
       "    </tr>\n",
       "    <tr>\n",
       "      <th>4</th>\n",
       "      <td>L</td>\n",
       "      <td>298.2</td>\n",
       "      <td>308.7</td>\n",
       "      <td>1408</td>\n",
       "      <td>40.0</td>\n",
       "      <td>9</td>\n",
       "      <td>0</td>\n",
       "    </tr>\n",
       "    <tr>\n",
       "      <th>...</th>\n",
       "      <td>...</td>\n",
       "      <td>...</td>\n",
       "      <td>...</td>\n",
       "      <td>...</td>\n",
       "      <td>...</td>\n",
       "      <td>...</td>\n",
       "      <td>...</td>\n",
       "    </tr>\n",
       "    <tr>\n",
       "      <th>9995</th>\n",
       "      <td>M</td>\n",
       "      <td>298.8</td>\n",
       "      <td>308.4</td>\n",
       "      <td>1604</td>\n",
       "      <td>29.5</td>\n",
       "      <td>14</td>\n",
       "      <td>0</td>\n",
       "    </tr>\n",
       "    <tr>\n",
       "      <th>9996</th>\n",
       "      <td>H</td>\n",
       "      <td>298.9</td>\n",
       "      <td>308.4</td>\n",
       "      <td>1632</td>\n",
       "      <td>31.8</td>\n",
       "      <td>17</td>\n",
       "      <td>0</td>\n",
       "    </tr>\n",
       "    <tr>\n",
       "      <th>9997</th>\n",
       "      <td>M</td>\n",
       "      <td>299.0</td>\n",
       "      <td>308.6</td>\n",
       "      <td>1645</td>\n",
       "      <td>33.4</td>\n",
       "      <td>22</td>\n",
       "      <td>0</td>\n",
       "    </tr>\n",
       "    <tr>\n",
       "      <th>9998</th>\n",
       "      <td>H</td>\n",
       "      <td>299.0</td>\n",
       "      <td>308.7</td>\n",
       "      <td>1408</td>\n",
       "      <td>48.5</td>\n",
       "      <td>25</td>\n",
       "      <td>0</td>\n",
       "    </tr>\n",
       "    <tr>\n",
       "      <th>9999</th>\n",
       "      <td>M</td>\n",
       "      <td>299.0</td>\n",
       "      <td>308.7</td>\n",
       "      <td>1500</td>\n",
       "      <td>40.2</td>\n",
       "      <td>30</td>\n",
       "      <td>0</td>\n",
       "    </tr>\n",
       "  </tbody>\n",
       "</table>\n",
       "<p>10000 rows × 7 columns</p>\n",
       "</div>"
      ],
      "text/plain": [
       "     Type  Air temperature [K]  Process temperature [K]  \\\n",
       "0       M                298.1                    308.6   \n",
       "1       L                298.2                    308.7   \n",
       "2       L                298.1                    308.5   \n",
       "3       L                298.2                    308.6   \n",
       "4       L                298.2                    308.7   \n",
       "...   ...                  ...                      ...   \n",
       "9995    M                298.8                    308.4   \n",
       "9996    H                298.9                    308.4   \n",
       "9997    M                299.0                    308.6   \n",
       "9998    H                299.0                    308.7   \n",
       "9999    M                299.0                    308.7   \n",
       "\n",
       "      Rotational speed [rpm]  Torque [Nm]  Tool wear [min]  Machine failure  \n",
       "0                       1551         42.8                0                0  \n",
       "1                       1408         46.3                3                0  \n",
       "2                       1498         49.4                5                0  \n",
       "3                       1433         39.5                7                0  \n",
       "4                       1408         40.0                9                0  \n",
       "...                      ...          ...              ...              ...  \n",
       "9995                    1604         29.5               14                0  \n",
       "9996                    1632         31.8               17                0  \n",
       "9997                    1645         33.4               22                0  \n",
       "9998                    1408         48.5               25                0  \n",
       "9999                    1500         40.2               30                0  \n",
       "\n",
       "[10000 rows x 7 columns]"
      ]
     },
     "execution_count": 93,
     "metadata": {},
     "output_type": "execute_result"
    }
   ],
   "source": [
    "df = df.drop(columns=[\"Product ID\", \"UDI\", \"TWF\", \"HDF\", \"PWF\", \"OSF\", \"RNF\"])\n",
    "df"
   ]
  },
  {
   "cell_type": "code",
   "execution_count": 94,
   "id": "f5c8490b-d1b3-4cd6-a48b-79e85f5f3149",
   "metadata": {},
   "outputs": [
    {
     "data": {
      "text/plain": [
       "0    9661\n",
       "1     339\n",
       "Name: Machine failure, dtype: int64"
      ]
     },
     "execution_count": 94,
     "metadata": {},
     "output_type": "execute_result"
    }
   ],
   "source": [
    "df[\"Machine failure\"].value_counts()"
   ]
  },
  {
   "cell_type": "code",
   "execution_count": 95,
   "id": "fd52a0ac-21ca-459b-803f-f3d45bbb8990",
   "metadata": {},
   "outputs": [],
   "source": [
    "X, y = df.drop(columns=['Machine failure']), df['Machine failure']\n",
    "\n",
    "X_train, X_test, y_train, y_test = train_test_split(\n",
    "     X, y, test_size=0.33, random_state=42)"
   ]
  },
  {
   "cell_type": "markdown",
   "id": "03ba45f8-971a-41f7-a5f5-08ff3fe87e98",
   "metadata": {},
   "source": [
    "## 2. Model Optimisation\n",
    "The `XParamOptimiser` is utilised to fine-tune the hyperparameters of our model. This process searches for the optimal parameters that will yield the best model performance, balancing accuracy and computational efficiency."
   ]
  },
  {
   "cell_type": "code",
   "execution_count": 96,
   "id": "cada979b-d142-4f60-95bd-50df6a6987c1",
   "metadata": {},
   "outputs": [
    {
     "name": "stdout",
     "output_type": "stream",
     "text": [
      "100%|████████| 30/30 [00:01<00:00, 18.15trial/s, best loss: -0.9373227959701327]\n"
     ]
    }
   ],
   "source": [
    "opt = XParamOptimiser()\n",
    "params = opt.optimise(X_train, y_train)"
   ]
  },
  {
   "cell_type": "markdown",
   "id": "b7f01515-675b-4253-ad87-fefc5c27f64e",
   "metadata": {},
   "source": [
    "## 3. Model Training\n",
    "With the optimised parameters obtained, the `XClassifier` is trained on the dataset. This classifier undergoes a fitting process with the training data, ensuring that it learns the underlying patterns and can make accurate predictions."
   ]
  },
  {
   "cell_type": "code",
   "execution_count": 97,
   "id": "2880d74e-9594-4320-aea5-116fa5e6f136",
   "metadata": {},
   "outputs": [
    {
     "data": {
      "text/plain": [
       "<xplainable.core.ml.classification.XClassifier at 0x11def8700>"
      ]
     },
     "execution_count": 97,
     "metadata": {},
     "output_type": "execute_result"
    }
   ],
   "source": [
    "model = XClassifier(**params)\n",
    "model.fit(X_train, y_train)"
   ]
  },
  {
   "cell_type": "markdown",
   "id": "29c58f7a-27d0-4a6d-9ed5-eba3d4c91ec5",
   "metadata": {},
   "source": [
    "## 4. Model Interpretability and Explainability\n",
    "Following training, the `model.explain()` method is called to generate insights into the model's decision-making process. This step is crucial for understanding the factors that influence the model's predictions and ensuring that the model's behaviour is transparent and explainable."
   ]
  },
  {
   "cell_type": "code",
   "execution_count": 98,
   "id": "2d85c3b8-af16-4742-bfe6-20d004844183",
   "metadata": {},
   "outputs": [
    {
     "data": {
      "text/html": [
       "\n",
       "    <style>\n",
       "    .vega-bind {\n",
       "      text-align:right;\n",
       "    }\n",
       "    </style>\n",
       "    "
      ],
      "text/plain": [
       "<IPython.core.display.HTML object>"
      ]
     },
     "metadata": {},
     "output_type": "display_data"
    },
    {
     "data": {
      "text/html": [
       "\n",
       "<style>\n",
       "  #altair-viz-87e4618c497b4f3d890551e52240c258.vega-embed {\n",
       "    width: 100%;\n",
       "    display: flex;\n",
       "  }\n",
       "\n",
       "  #altair-viz-87e4618c497b4f3d890551e52240c258.vega-embed details,\n",
       "  #altair-viz-87e4618c497b4f3d890551e52240c258.vega-embed details summary {\n",
       "    position: relative;\n",
       "  }\n",
       "</style>\n",
       "<div id=\"altair-viz-87e4618c497b4f3d890551e52240c258\"></div>\n",
       "<script type=\"text/javascript\">\n",
       "  var VEGA_DEBUG = (typeof VEGA_DEBUG == \"undefined\") ? {} : VEGA_DEBUG;\n",
       "  (function(spec, embedOpt){\n",
       "    let outputDiv = document.currentScript.previousElementSibling;\n",
       "    if (outputDiv.id !== \"altair-viz-87e4618c497b4f3d890551e52240c258\") {\n",
       "      outputDiv = document.getElementById(\"altair-viz-87e4618c497b4f3d890551e52240c258\");\n",
       "    }\n",
       "    const paths = {\n",
       "      \"vega\": \"https://cdn.jsdelivr.net/npm/vega@5?noext\",\n",
       "      \"vega-lib\": \"https://cdn.jsdelivr.net/npm/vega-lib?noext\",\n",
       "      \"vega-lite\": \"https://cdn.jsdelivr.net/npm/vega-lite@5.16.3?noext\",\n",
       "      \"vega-embed\": \"https://cdn.jsdelivr.net/npm/vega-embed@6?noext\",\n",
       "    };\n",
       "\n",
       "    function maybeLoadScript(lib, version) {\n",
       "      var key = `${lib.replace(\"-\", \"\")}_version`;\n",
       "      return (VEGA_DEBUG[key] == version) ?\n",
       "        Promise.resolve(paths[lib]) :\n",
       "        new Promise(function(resolve, reject) {\n",
       "          var s = document.createElement('script');\n",
       "          document.getElementsByTagName(\"head\")[0].appendChild(s);\n",
       "          s.async = true;\n",
       "          s.onload = () => {\n",
       "            VEGA_DEBUG[key] = version;\n",
       "            return resolve(paths[lib]);\n",
       "          };\n",
       "          s.onerror = () => reject(`Error loading script: ${paths[lib]}`);\n",
       "          s.src = paths[lib];\n",
       "        });\n",
       "    }\n",
       "\n",
       "    function showError(err) {\n",
       "      outputDiv.innerHTML = `<div class=\"error\" style=\"color:red;\">${err}</div>`;\n",
       "      throw err;\n",
       "    }\n",
       "\n",
       "    function displayChart(vegaEmbed) {\n",
       "      vegaEmbed(outputDiv, spec, embedOpt)\n",
       "        .catch(err => showError(`Javascript Error: ${err.message}<br>This usually means there's a typo in your chart specification. See the javascript console for the full traceback.`));\n",
       "    }\n",
       "\n",
       "    if(typeof define === \"function\" && define.amd) {\n",
       "      requirejs.config({paths});\n",
       "      require([\"vega-embed\"], displayChart, err => showError(`Error loading script: ${err.message}`));\n",
       "    } else {\n",
       "      maybeLoadScript(\"vega\", \"5\")\n",
       "        .then(() => maybeLoadScript(\"vega-lite\", \"5.16.3\"))\n",
       "        .then(() => maybeLoadScript(\"vega-embed\", \"6\"))\n",
       "        .catch(showError)\n",
       "        .then(() => displayChart(vegaEmbed));\n",
       "    }\n",
       "  })({\"config\": {\"view\": {\"continuousWidth\": 300, \"continuousHeight\": 300}}, \"hconcat\": [{\"mark\": {\"type\": \"bar\", \"color\": \"#0080ea\"}, \"encoding\": {\"color\": {\"condition\": {\"param\": \"param_22\", \"value\": \"lightgray\"}, \"value\": \"#0080ea\"}, \"tooltip\": {\"field\": \"importance_label\", \"type\": \"nominal\"}, \"x\": {\"field\": \"importance\", \"type\": \"quantitative\"}, \"y\": {\"field\": \"feature\", \"sort\": {\"field\": \"importance\", \"order\": \"descending\"}, \"type\": \"nominal\"}}, \"height\": 400, \"name\": \"view_29\", \"title\": \"Feature Importances\", \"transform\": [{\"filter\": {\"param\": \"param_23\"}}], \"width\": 330}, {\"mark\": {\"type\": \"bar\", \"color\": \"#0080ea\"}, \"encoding\": {\"x\": {\"axis\": {\"labels\": false, \"title\": null}, \"field\": \"importance\", \"type\": \"quantitative\"}, \"y\": {\"axis\": {\"labels\": false, \"title\": null}, \"field\": \"feature\", \"sort\": \"-x\", \"type\": \"nominal\"}}, \"height\": 400, \"name\": \"view_30\", \"width\": 25}, {\"data\": {\"name\": \"data-0c241629851be3892fa76c708b3e13a5\"}, \"mark\": {\"type\": \"bar\", \"color\": \"#e14067\"}, \"encoding\": {\"color\": {\"condition\": {\"test\": \"(datum.contribution < 0)\", \"value\": \"#e14067\"}, \"value\": \"#12b980\"}, \"tooltip\": {\"field\": \"score_label\", \"type\": \"nominal\"}, \"x\": {\"field\": \"val\", \"type\": \"quantitative\"}, \"y\": {\"field\": \"value\", \"sort\": {\"field\": \"index\", \"order\": \"descending\"}, \"type\": \"nominal\"}}, \"height\": 400, \"name\": \"view_31\", \"title\": \"Contributions\", \"transform\": [{\"fold\": [\"contribution\", \"mean\", \"frequency\"], \"as\": [\"column\", \"val\"]}, {\"filter\": {\"param\": \"Select\"}}, {\"filter\": {\"param\": \"param_22\"}}, {\"filter\": {\"param\": \"param_24\"}}], \"width\": 330}, {\"data\": {\"name\": \"data-0c241629851be3892fa76c708b3e13a5\"}, \"mark\": {\"type\": \"bar\", \"color\": \"#e14067\"}, \"encoding\": {\"color\": {\"condition\": {\"test\": \"(datum.contribution < 0)\", \"value\": \"#e14067\"}, \"value\": \"#12b980\"}, \"x\": {\"axis\": {\"labels\": false, \"title\": null}, \"field\": \"contribution\", \"type\": \"quantitative\"}, \"y\": {\"axis\": {\"labels\": false, \"title\": null}, \"field\": \"value\", \"sort\": {\"field\": \"index\", \"order\": \"descending\"}, \"type\": \"nominal\"}}, \"height\": 400, \"name\": \"view_32\", \"transform\": [{\"filter\": {\"param\": \"param_22\"}}], \"width\": 25}], \"data\": {\"name\": \"data-6f26300b186c53b98c6d0370646b4f0c\"}, \"params\": [{\"name\": \"param_22\", \"select\": {\"type\": \"point\", \"fields\": [\"feature\"]}, \"value\": \"Rotational speed [rpm]\", \"views\": [\"view_29\"]}, {\"name\": \"Select\", \"select\": {\"type\": \"point\", \"fields\": [\"column\"]}, \"bind\": {\"input\": \"select\", \"options\": [\"contribution\", \"mean\", \"frequency\"]}, \"value\": \"contribution\", \"views\": [\"view_29\", \"view_31\"]}, {\"name\": \"param_23\", \"select\": {\"type\": \"interval\", \"encodings\": [\"y\"]}, \"views\": [\"view_30\"]}, {\"name\": \"param_24\", \"select\": {\"type\": \"interval\", \"encodings\": [\"y\"]}, \"views\": [\"view_32\"]}], \"$schema\": \"https://vega.github.io/schema/vega-lite/v5.16.3.json\", \"datasets\": {\"data-6f26300b186c53b98c6d0370646b4f0c\": [{\"feature\": \"Type\", \"importance\": 0.010526037187402398, \"importance_label\": \"1.1%\"}, {\"feature\": \"Tool wear [min]\", \"importance\": 0.12544453210043122, \"importance_label\": \"12.5%\"}, {\"feature\": \"Process temperature [K]\", \"importance\": 0.1396227072316735, \"importance_label\": \"14.0%\"}, {\"feature\": \"Air temperature [K]\", \"importance\": 0.1585752601507922, \"importance_label\": \"15.9%\"}, {\"feature\": \"Torque [Nm]\", \"importance\": 0.2784747548971353, \"importance_label\": \"27.8%\"}, {\"feature\": \"Rotational speed [rpm]\", \"importance\": 0.28735670843256533, \"importance_label\": \"28.7%\"}], \"data-0c241629851be3892fa76c708b3e13a5\": [{\"index\": 0, \"value\": \"H\", \"contribution\": -0.004132791277018617, \"mean\": 0.01608187134502924, \"frequency\": 0.10208955223880598, \"feature\": \"Type\", \"score_label\": \"-0.4\"}, {\"index\": 1, \"value\": \"M\", \"contribution\": 0.002941960364459947, \"mean\": 0.03273809523809524, \"frequency\": 0.3008955223880597, \"feature\": \"Type\", \"score_label\": \"0.3\"}, {\"index\": 1, \"value\": \"L\", \"contribution\": 0.002941960364459947, \"mean\": 0.04025, \"frequency\": 0.5970149253731343, \"feature\": \"Type\", \"score_label\": \"0.3\"}, {\"index\": 0, \"value\": \"-inf - 296.35\", \"contribution\": -0.002340028471999401, \"mean\": 0.022556390977443608, \"frequency\": 0.019850746268656717, \"feature\": \"Air temperature [K]\", \"score_label\": \"-0.2\"}, {\"index\": 1, \"value\": \"296.35 - 296.95\", \"contribution\": -0.002782187404605316, \"mean\": 0.020270270270270077, \"frequency\": 0.02208955223880597, \"feature\": \"Air temperature [K]\", \"score_label\": \"-0.3\"}, {\"index\": 2, \"value\": \"296.95 - 297.15\", \"contribution\": 0.01050372501377638, \"mean\": 0.047619047619047616, \"frequency\": 0.01253731343283582, \"feature\": \"Air temperature [K]\", \"score_label\": \"1.1\"}, {\"index\": 3, \"value\": \"297.15 - 297.25\", \"contribution\": -0.0011048047522600754, \"mean\": 0.028985507246377634, \"frequency\": 0.010298507462686568, \"feature\": \"Air temperature [K]\", \"score_label\": \"-0.1\"}, {\"index\": 4, \"value\": \"297.25 - 297.35\", \"contribution\": -0.0029382672361651465, \"mean\": 0.018867924528301886, \"frequency\": 0.01582089552238806, \"feature\": \"Air temperature [K]\", \"score_label\": \"-0.3\"}, {\"index\": 5, \"value\": \"297.35 - 297.45\", \"contribution\": -0.0017486826848181222, \"mean\": 0.025974025974025976, \"frequency\": 0.02298507462686567, \"feature\": \"Air temperature [K]\", \"score_label\": \"-0.2\"}, {\"index\": 6, \"value\": \"297.45 - 297.55\", \"contribution\": -0.004806359014569361, \"mean\": 0.008547008547008303, \"frequency\": 0.01746268656716418, \"feature\": \"Air temperature [K]\", \"score_label\": \"-0.5\"}, {\"index\": 7, \"value\": \"297.55 - 297.65\", \"contribution\": -0.006205250749344414, \"mean\": 0.0, \"frequency\": 0.014328358208955224, \"feature\": \"Air temperature [K]\", \"score_label\": \"-0.6\"}, {\"index\": 8, \"value\": \"297.65 - 297.85\", \"contribution\": -0.005235295393376968, \"mean\": 0.006802721088435567, \"frequency\": 0.021940298507462687, \"feature\": \"Air temperature [K]\", \"score_label\": \"-0.5\"}, {\"index\": 9, \"value\": \"297.85 - 297.95\", \"contribution\": -0.0045824590389866235, \"mean\": 0.009523809523809525, \"frequency\": 0.015671641791044775, \"feature\": \"Air temperature [K]\", \"score_label\": \"-0.5\"}, {\"index\": 10, \"value\": \"297.95 - 298.05\", \"contribution\": -0.0019934226603939113, \"mean\": 0.024390243902439025, \"frequency\": 0.01835820895522388, \"feature\": \"Air temperature [K]\", \"score_label\": \"-0.2\"}, {\"index\": 11, \"value\": \"298.05 - 298.15\", \"contribution\": -0.005173696268043462, \"mean\": 0.007042253521126961, \"frequency\": 0.021194029850746268, \"feature\": \"Air temperature [K]\", \"score_label\": \"-0.5\"}, {\"index\": 12, \"value\": \"298.15 - 298.55\", \"contribution\": -0.0001819938408493716, \"mean\": 0.03463203463203463, \"frequency\": 0.06895522388059701, \"feature\": \"Air temperature [K]\", \"score_label\": \"-0.0\"}, {\"index\": 13, \"value\": \"298.55 - 298.65\", \"contribution\": -0.004519965757240374, \"mean\": 0.00980392156862745, \"frequency\": 0.015223880597014926, \"feature\": \"Air temperature [K]\", \"score_label\": \"-0.5\"}, {\"index\": 14, \"value\": \"298.65 - 298.75\", \"contribution\": -0.0025250131299245793, \"mean\": 0.02105263157894733, \"frequency\": 0.014179104477611941, \"feature\": \"Air temperature [K]\", \"score_label\": \"-0.3\"}, {\"index\": 15, \"value\": \"298.75 - 298.85\", \"contribution\": -0.003742765702257016, \"mean\": 0.014814814814814815, \"frequency\": 0.020149253731343283, \"feature\": \"Air temperature [K]\", \"score_label\": \"-0.4\"}, {\"index\": 16, \"value\": \"298.85 - 298.95\", \"contribution\": -0.0029126843717180145, \"mean\": 0.0196078431372549, \"frequency\": 0.02283582089552239, \"feature\": \"Air temperature [K]\", \"score_label\": \"-0.3\"}, {\"index\": 17, \"value\": \"298.95 - 299.05\", \"contribution\": -0.00028961861509479113, \"mean\": 0.03389830508474576, \"frequency\": 0.01761194029850746, \"feature\": \"Air temperature [K]\", \"score_label\": \"-0.0\"}, {\"index\": 18, \"value\": \"299.05 - 299.15\", \"contribution\": 0.017837827271904066, \"mean\": 0.05555555555555555, \"frequency\": 0.016119402985074627, \"feature\": \"Air temperature [K]\", \"score_label\": \"1.8\"}, {\"index\": 19, \"value\": \"299.15 - 299.25\", \"contribution\": 0.011539528546576519, \"mean\": 0.04854368932038835, \"frequency\": 0.015373134328358209, \"feature\": \"Air temperature [K]\", \"score_label\": \"1.2\"}, {\"index\": 20, \"value\": \"299.25 - 299.45\", \"contribution\": -0.0018739088082198512, \"mean\": 0.02531645569620253, \"frequency\": 0.023582089552238807, \"feature\": \"Air temperature [K]\", \"score_label\": \"-0.2\"}, {\"index\": 21, \"value\": \"299.45 - 299.65\", \"contribution\": -0.0063183255117638835, \"mean\": 0.0, \"frequency\": 0.017164179104477612, \"feature\": \"Air temperature [K]\", \"score_label\": \"-0.6\"}, {\"index\": 22, \"value\": \"299.65 - 299.75\", \"contribution\": -0.0018601515141887343, \"mean\": 0.02469135802469127, \"frequency\": 0.01208955223880597, \"feature\": \"Air temperature [K]\", \"score_label\": \"-0.2\"}, {\"index\": 23, \"value\": \"299.75 - 299.85\", \"contribution\": -0.004041369695498022, \"mean\": 0.012048192771084345, \"frequency\": 0.012388059701492538, \"feature\": \"Air temperature [K]\", \"score_label\": \"-0.4\"}, {\"index\": 24, \"value\": \"299.85 - 299.95\", \"contribution\": -0.0037458558868574353, \"mean\": 0.01351351351351351, \"frequency\": 0.011044776119402985, \"feature\": \"Air temperature [K]\", \"score_label\": \"-0.4\"}, {\"index\": 25, \"value\": \"299.95 - 300.05\", \"contribution\": -0.0041562537068753095, \"mean\": 0.011494252873563218, \"frequency\": 0.012985074626865671, \"feature\": \"Air temperature [K]\", \"score_label\": \"-0.4\"}, {\"index\": 26, \"value\": \"300.05 - 300.15\", \"contribution\": -0.004622549467625794, \"mean\": 0.009345794392523364, \"frequency\": 0.015970149253731344, \"feature\": \"Air temperature [K]\", \"score_label\": \"-0.5\"}, {\"index\": 27, \"value\": \"300.15 - 300.25\", \"contribution\": -0.0048567113363685134, \"mean\": 0.008333333333333333, \"frequency\": 0.01791044776119403, \"feature\": \"Air temperature [K]\", \"score_label\": \"-0.5\"}, {\"index\": 28, \"value\": \"300.25 - 300.85\", \"contribution\": -0.0008786766166387022, \"mean\": 0.031496062992125984, \"frequency\": 0.1326865671641791, \"feature\": \"Air temperature [K]\", \"score_label\": \"-0.1\"}, {\"index\": 29, \"value\": \"300.85 - 300.95\", \"contribution\": -0.00630725016414578, \"mean\": 0.0, \"frequency\": 0.016865671641791046, \"feature\": \"Air temperature [K]\", \"score_label\": \"-0.6\"}, {\"index\": 30, \"value\": \"300.95 - 301.05\", \"contribution\": -0.0009145567168916801, \"mean\": 0.030303030303030304, \"frequency\": 0.014776119402985075, \"feature\": \"Air temperature [K]\", \"score_label\": \"-0.1\"}, {\"index\": 31, \"value\": \"301.05 - 301.15\", \"contribution\": 0.0029599686864372156, \"mean\": 0.03896103896103896, \"frequency\": 0.011492537313432836, \"feature\": \"Air temperature [K]\", \"score_label\": \"0.3\"}, {\"index\": 32, \"value\": \"301.15 - 301.35\", \"contribution\": -0.004249375879405146, \"mean\": 0.012422360248447204, \"frequency\": 0.024029850746268656, \"feature\": \"Air temperature [K]\", \"score_label\": \"-0.4\"}, {\"index\": 33, \"value\": \"301.35 - 301.45\", \"contribution\": -0.002833166810420646, \"mean\": 0.019417475728155338, \"frequency\": 0.015373134328358209, \"feature\": \"Air temperature [K]\", \"score_label\": \"-0.3\"}, {\"index\": 34, \"value\": \"301.45 - 301.55\", \"contribution\": -0.002903810839904591, \"mean\": 0.01904761904761905, \"frequency\": 0.015671641791044775, \"feature\": \"Air temperature [K]\", \"score_label\": \"-0.3\"}, {\"index\": 35, \"value\": \"301.55 - 301.75\", \"contribution\": 0.011108288443133555, \"mean\": 0.047619047619047714, \"frequency\": 0.021940298507462687, \"feature\": \"Air temperature [K]\", \"score_label\": \"1.1\"}, {\"index\": 36, \"value\": \"301.75 - 301.95\", \"contribution\": 0.03416719531658845, \"mean\": 0.072992700729927, \"frequency\": 0.02044776119402985, \"feature\": \"Air temperature [K]\", \"score_label\": \"3.4\"}, {\"index\": 37, \"value\": \"301.95 - 302.15\", \"contribution\": 0.07631711583936478, \"mean\": 0.11940298507462686, \"frequency\": 0.02, \"feature\": \"Air temperature [K]\", \"score_label\": \"7.6\"}, {\"index\": 38, \"value\": \"302.15 - 302.25\", \"contribution\": -0.0003407043217427014, \"mean\": 0.03361344537815126, \"frequency\": 0.017761194029850748, \"feature\": \"Air temperature [K]\", \"score_label\": \"-0.0\"}, {\"index\": 39, \"value\": \"302.25 - 302.35\", \"contribution\": 0.02750904731468369, \"mean\": 0.06535947712418301, \"frequency\": 0.02283582089552239, \"feature\": \"Air temperature [K]\", \"score_label\": \"2.8\"}, {\"index\": 40, \"value\": \"302.35 - 302.45\", \"contribution\": 0.07580406131854853, \"mean\": 0.12222222222222222, \"frequency\": 0.013432835820895522, \"feature\": \"Air temperature [K]\", \"score_label\": \"7.6\"}, {\"index\": 41, \"value\": \"302.45 - 302.55\", \"contribution\": 0.022141375570259466, \"mean\": 0.06060606060606061, \"frequency\": 0.014776119402985075, \"feature\": \"Air temperature [K]\", \"score_label\": \"2.2\"}, {\"index\": 42, \"value\": \"302.55 - 302.75\", \"contribution\": 0.0872483657550341, \"mean\": 0.13178294573643434, \"frequency\": 0.019253731343283582, \"feature\": \"Air temperature [K]\", \"score_label\": \"8.7\"}, {\"index\": 43, \"value\": \"302.75 - 302.95\", \"contribution\": 0.0047721098391504055, \"mean\": 0.041095890410959096, \"frequency\": 0.010895522388059702, \"feature\": \"Air temperature [K]\", \"score_label\": \"0.5\"}, {\"index\": 44, \"value\": \"302.95 - 303.15\", \"contribution\": 0.06981913907183983, \"mean\": 0.11764705882352941, \"frequency\": 0.010149253731343283, \"feature\": \"Air temperature [K]\", \"score_label\": \"7.0\"}, {\"index\": 45, \"value\": \"303.15 - 303.45\", \"contribution\": 0.12154699933686937, \"mean\": 0.17094017094017092, \"frequency\": 0.01746268656716418, \"feature\": \"Air temperature [K]\", \"score_label\": \"12.2\"}, {\"index\": 46, \"value\": \"303.45 - 303.65\", \"contribution\": 0.010740743486310178, \"mean\": 0.047619047619048026, \"frequency\": 0.015671641791044775, \"feature\": \"Air temperature [K]\", \"score_label\": \"1.1\"}, {\"index\": 47, \"value\": \"303.65 - 303.85\", \"contribution\": -7.724652880604256e-05, \"mean\": 0.03508771929824561, \"frequency\": 0.01701492537313433, \"feature\": \"Air temperature [K]\", \"score_label\": \"-0.0\"}, {\"index\": 48, \"value\": \"303.85 - 304.05\", \"contribution\": -0.0035542395107458855, \"mean\": 0.01449275362318789, \"frequency\": 0.010298507462686568, \"feature\": \"Air temperature [K]\", \"score_label\": \"-0.4\"}, {\"index\": 49, \"value\": \"304.05 - inf\", \"contribution\": -0.0037458558868574353, \"mean\": 0.013513513513513514, \"frequency\": 0.011044776119402985, \"feature\": \"Air temperature [K]\", \"score_label\": \"-0.4\"}, {\"index\": 0, \"value\": \"-inf - 307.15\", \"contribution\": -0.0032249545999028665, \"mean\": 0.017391304347826087, \"frequency\": 0.017164179104477612, \"feature\": \"Process temperature [K]\", \"score_label\": \"-0.3\"}, {\"index\": 1, \"value\": \"307.15 - 307.45\", \"contribution\": 0.0001666278351187296, \"mean\": 0.035714285714285796, \"frequency\": 0.01253731343283582, \"feature\": \"Process temperature [K]\", \"score_label\": \"0.0\"}, {\"index\": 2, \"value\": \"307.45 - 307.75\", \"contribution\": -0.004409502421224963, \"mean\": 0.011695906432748662, \"frequency\": 0.025522388059701494, \"feature\": \"Process temperature [K]\", \"score_label\": \"-0.4\"}, {\"index\": 3, \"value\": \"307.75 - 307.85\", \"contribution\": -0.0009145567168916801, \"mean\": 0.030303030303030304, \"frequency\": 0.014776119402985075, \"feature\": \"Process temperature [K]\", \"score_label\": \"-0.1\"}, {\"index\": 4, \"value\": \"307.85 - 307.95\", \"contribution\": -0.004408934480753868, \"mean\": 0.010309278350515459, \"frequency\": 0.014477611940298507, \"feature\": \"Process temperature [K]\", \"score_label\": \"-0.4\"}, {\"index\": 5, \"value\": \"307.95 - 308.05\", \"contribution\": -0.0016906602681041308, \"mean\": 0.025641025641026004, \"frequency\": 0.011641791044776119, \"feature\": \"Process temperature [K]\", \"score_label\": \"-0.2\"}, {\"index\": 6, \"value\": \"308.05 - 308.15\", \"contribution\": 0.017515552041470275, \"mean\": 0.05555555555555555, \"frequency\": 0.013432835820895522, \"feature\": \"Process temperature [K]\", \"score_label\": \"1.8\"}, {\"index\": 7, \"value\": \"308.15 - 308.25\", \"contribution\": 0.01411556175340961, \"mean\": 0.051546391752576734, \"frequency\": 0.014477611940298507, \"feature\": \"Process temperature [K]\", \"score_label\": \"1.4\"}, {\"index\": 8, \"value\": \"308.25 - 308.35\", \"contribution\": -0.0008558675871492135, \"mean\": 0.03076923076923078, \"frequency\": 0.019402985074626865, \"feature\": \"Process temperature [K]\", \"score_label\": \"-0.1\"}, {\"index\": 9, \"value\": \"308.35 - 308.45\", \"contribution\": -0.002782187404605244, \"mean\": 0.020270270270270473, \"frequency\": 0.02208955223880597, \"feature\": \"Process temperature [K]\", \"score_label\": \"-0.3\"}, {\"index\": 10, \"value\": \"308.45 - 308.55\", \"contribution\": -0.0012266920688917592, \"mean\": 0.02890173410404607, \"frequency\": 0.02582089552238806, \"feature\": \"Process temperature [K]\", \"score_label\": \"-0.1\"}, {\"index\": 11, \"value\": \"308.55 - 308.65\", \"contribution\": -0.004394191891453831, \"mean\": 0.011764705882352941, \"frequency\": 0.025373134328358207, \"feature\": \"Process temperature [K]\", \"score_label\": \"-0.4\"}, {\"index\": 12, \"value\": \"308.65 - 308.75\", \"contribution\": -0.002586059887109013, \"mean\": 0.021276595744680625, \"frequency\": 0.021044776119402985, \"feature\": \"Process temperature [K]\", \"score_label\": \"-0.3\"}, {\"index\": 13, \"value\": \"308.75 - 308.85\", \"contribution\": -0.002760107549058916, \"mean\": 0.019801980198019802, \"frequency\": 0.015074626865671641, \"feature\": \"Process temperature [K]\", \"score_label\": \"-0.3\"}, {\"index\": 14, \"value\": \"308.85 - 308.95\", \"contribution\": -0.0032834891858729014, \"mean\": 0.017094017094017096, \"frequency\": 0.01746268656716418, \"feature\": \"Process temperature [K]\", \"score_label\": \"-0.3\"}, {\"index\": 15, \"value\": \"308.95 - 309.05\", \"contribution\": -0.004905114795697859, \"mean\": 0.008130081300813009, \"frequency\": 0.01835820895522388, \"feature\": \"Process temperature [K]\", \"score_label\": \"-0.5\"}, {\"index\": 16, \"value\": \"309.05 - 309.15\", \"contribution\": -0.005270734254918026, \"mean\": 0.006666666666666667, \"frequency\": 0.022388059701492536, \"feature\": \"Process temperature [K]\", \"score_label\": \"-0.5\"}, {\"index\": 17, \"value\": \"309.15 - 309.25\", \"contribution\": -0.005211047623533489, \"mean\": 0.006896551724137931, \"frequency\": 0.02164179104477612, \"feature\": \"Process temperature [K]\", \"score_label\": \"-0.5\"}, {\"index\": 18, \"value\": \"309.25 - 309.35\", \"contribution\": -0.0025268737270566113, \"mean\": 0.02158273381294964, \"frequency\": 0.02074626865671642, \"feature\": \"Process temperature [K]\", \"score_label\": \"-0.3\"}, {\"index\": 19, \"value\": \"309.35 - 309.45\", \"contribution\": -0.0029379005074207753, \"mean\": 0.019480519480519525, \"frequency\": 0.02298507462686567, \"feature\": \"Process temperature [K]\", \"score_label\": \"-0.3\"}, {\"index\": 20, \"value\": \"309.45 - 309.55\", \"contribution\": -0.0010650796152178268, \"mean\": 0.02962962962962963, \"frequency\": 0.020149253731343283, \"feature\": \"Process temperature [K]\", \"score_label\": \"-0.1\"}, {\"index\": 21, \"value\": \"309.55 - 309.65\", \"contribution\": -0.004249375879405146, \"mean\": 0.012422360248447204, \"frequency\": 0.024029850746268656, \"feature\": \"Process temperature [K]\", \"score_label\": \"-0.4\"}, {\"index\": 22, \"value\": \"309.65 - 309.75\", \"contribution\": -0.003552325808086834, \"mean\": 0.015748031496062992, \"frequency\": 0.018955223880597016, \"feature\": \"Process temperature [K]\", \"score_label\": \"-0.4\"}, {\"index\": 23, \"value\": \"309.75 - 309.85\", \"contribution\": 0.00017149103660820913, \"mean\": 0.03571428571428571, \"frequency\": 0.01671641791044776, \"feature\": \"Process temperature [K]\", \"score_label\": \"0.0\"}, {\"index\": 24, \"value\": \"309.85 - 309.95\", \"contribution\": 0.03447433109067316, \"mean\": 0.07377049180327869, \"frequency\": 0.018208955223880597, \"feature\": \"Process temperature [K]\", \"score_label\": \"3.4\"}, {\"index\": 25, \"value\": \"309.95 - 310.05\", \"contribution\": -0.003038352819774868, \"mean\": 0.01834862385321101, \"frequency\": 0.01626865671641791, \"feature\": \"Process temperature [K]\", \"score_label\": \"-0.3\"}, {\"index\": 26, \"value\": \"310.05 - 310.15\", \"contribution\": 0.03368420794744662, \"mean\": 0.07142857142857142, \"frequency\": 0.02716417910447761, \"feature\": \"Process temperature [K]\", \"score_label\": \"3.4\"}, {\"index\": 27, \"value\": \"310.15 - 310.25\", \"contribution\": 0.04558698660145351, \"mean\": 0.08496732026143788, \"frequency\": 0.02283582089552239, \"feature\": \"Process temperature [K]\", \"score_label\": \"4.6\"}, {\"index\": 28, \"value\": \"310.25 - 310.35\", \"contribution\": 0.020949894830245827, \"mean\": 0.058823529411764705, \"frequency\": 0.017761194029850748, \"feature\": \"Process temperature [K]\", \"score_label\": \"2.1\"}, {\"index\": 29, \"value\": \"310.35 - 310.45\", \"contribution\": 0.011777429388453487, \"mean\": 0.04819277108433735, \"frequency\": 0.024776119402985075, \"feature\": \"Process temperature [K]\", \"score_label\": \"1.2\"}, {\"index\": 30, \"value\": \"310.45 - 310.65\", \"contribution\": -0.00022693027402021065, \"mean\": 0.03439803439803437, \"frequency\": 0.060746268656716416, \"feature\": \"Process temperature [K]\", \"score_label\": \"-0.0\"}, {\"index\": 31, \"value\": \"310.65 - 310.75\", \"contribution\": 0.03439072321321447, \"mean\": 0.07222222222222222, \"frequency\": 0.026865671641791045, \"feature\": \"Process temperature [K]\", \"score_label\": \"3.4\"}, {\"index\": 32, \"value\": \"310.75 - 310.85\", \"contribution\": -0.0025460550270286924, \"mean\": 0.02185792349726776, \"frequency\": 0.027313432835820897, \"feature\": \"Process temperature [K]\", \"score_label\": \"-0.3\"}, {\"index\": 33, \"value\": \"310.85 - 310.95\", \"contribution\": 0.046732215891365454, \"mean\": 0.08588957055214724, \"frequency\": 0.024328358208955222, \"feature\": \"Process temperature [K]\", \"score_label\": \"4.7\"}, {\"index\": 34, \"value\": \"310.95 - 311.75\", \"contribution\": 0.004230654740230719, \"mean\": 0.039309683604985615, \"frequency\": 0.15567164179104478, \"feature\": \"Process temperature [K]\", \"score_label\": \"0.4\"}, {\"index\": 35, \"value\": \"311.75 - 311.85\", \"contribution\": 0.059060731080457216, \"mean\": 0.10185185185185185, \"frequency\": 0.016119402985074627, \"feature\": \"Process temperature [K]\", \"score_label\": \"5.9\"}, {\"index\": 36, \"value\": \"311.85 - 311.95\", \"contribution\": 0.039958979893046004, \"mean\": 0.08219178082191779, \"frequency\": 0.010895522388059702, \"feature\": \"Process temperature [K]\", \"score_label\": \"4.0\"}, {\"index\": 37, \"value\": \"311.95 - 312.05\", \"contribution\": -0.0035943996040246466, \"mean\": 0.014285714285714285, \"frequency\": 0.010447761194029851, \"feature\": \"Process temperature [K]\", \"score_label\": \"-0.4\"}, {\"index\": 38, \"value\": \"312.05 - 312.25\", \"contribution\": 0.024857801233059293, \"mean\": 0.06382978723404255, \"frequency\": 0.014029850746268656, \"feature\": \"Process temperature [K]\", \"score_label\": \"2.5\"}, {\"index\": 39, \"value\": \"312.25 - 312.45\", \"contribution\": -0.0005850128746117538, \"mean\": 0.0322580645161288, \"frequency\": 0.018507462686567163, \"feature\": \"Process temperature [K]\", \"score_label\": \"-0.1\"}, {\"index\": 40, \"value\": \"312.45 - 312.75\", \"contribution\": -0.0032249545999028665, \"mean\": 0.017391304347826087, \"frequency\": 0.017164179104477612, \"feature\": \"Process temperature [K]\", \"score_label\": \"-0.3\"}, {\"index\": 41, \"value\": \"312.75 - 313.05\", \"contribution\": -0.0005684228793590201, \"mean\": 0.032258064516128726, \"frequency\": 0.013880597014925373, \"feature\": \"Process temperature [K]\", \"score_label\": \"-0.1\"}, {\"index\": 42, \"value\": \"313.05 - 313.25\", \"contribution\": -0.003671893521838901, \"mean\": 0.013888888888888494, \"frequency\": 0.010746268656716417, \"feature\": \"Process temperature [K]\", \"score_label\": \"-0.4\"}, {\"index\": 43, \"value\": \"313.25 - inf\", \"contribution\": -0.003470897766989939, \"mean\": 0.014925373134328358, \"frequency\": 0.01, \"feature\": \"Process temperature [K]\", \"score_label\": \"-0.3\"}, {\"index\": 0, \"value\": \"-inf - 1292.5\", \"contribution\": 0.17105090092421943, \"mean\": 0.22727272727272727, \"frequency\": 0.016417910447761194, \"feature\": \"Rotational speed [rpm]\", \"score_label\": \"17.1\"}, {\"index\": 1, \"value\": \"1292.5 - 1313.5\", \"contribution\": 0.14920227728828642, \"mean\": 0.20388349514563134, \"frequency\": 0.015373134328358209, \"feature\": \"Rotational speed [rpm]\", \"score_label\": \"14.9\"}, {\"index\": 2, \"value\": \"1313.5 - 1328.5\", \"contribution\": 0.10364633534672174, \"mean\": 0.15306122448979592, \"frequency\": 0.014626865671641792, \"feature\": \"Rotational speed [rpm]\", \"score_label\": \"10.4\"}, {\"index\": 3, \"value\": \"1328.5 - 1341.5\", \"contribution\": 0.14529413260719867, \"mean\": 0.19672131147540983, \"frequency\": 0.018208955223880597, \"feature\": \"Rotational speed [rpm]\", \"score_label\": \"14.5\"}, {\"index\": 4, \"value\": \"1341.5 - 1353.5\", \"contribution\": 0.07784597098686023, \"mean\": 0.12121212121212122, \"frequency\": 0.019701492537313434, \"feature\": \"Rotational speed [rpm]\", \"score_label\": \"7.8\"}, {\"index\": 5, \"value\": \"1353.5 - 1364.5\", \"contribution\": 0.10832953959070594, \"mean\": 0.15441176470588236, \"frequency\": 0.020298507462686566, \"feature\": \"Rotational speed [rpm]\", \"score_label\": \"10.8\"}, {\"index\": 6, \"value\": \"1364.5 - 1369.5\", \"contribution\": 0.12976207898551642, \"mean\": 0.18666666666666668, \"frequency\": 0.011194029850746268, \"feature\": \"Rotational speed [rpm]\", \"score_label\": \"13.0\"}, {\"index\": 7, \"value\": \"1369.5 - 1374.5\", \"contribution\": 0.15005805297652305, \"mean\": 0.21126760563380262, \"frequency\": 0.010597014925373134, \"feature\": \"Rotational speed [rpm]\", \"score_label\": \"15.0\"}, {\"index\": 8, \"value\": \"1374.5 - 1380.5\", \"contribution\": 0.06222537320108652, \"mean\": 0.10638297872340426, \"frequency\": 0.014029850746268656, \"feature\": \"Rotational speed [rpm]\", \"score_label\": \"6.2\"}, {\"index\": 9, \"value\": \"1380.5 - 1386.5\", \"contribution\": 0.018736121477883252, \"mean\": 0.05660377358490566, \"frequency\": 0.01582089552238806, \"feature\": \"Rotational speed [rpm]\", \"score_label\": \"1.9\"}, {\"index\": 10, \"value\": \"1386.5 - 1416.5\", \"contribution\": -0.0026316598526370995, \"mean\": 0.02281368821292773, \"frequency\": 0.07850746268656716, \"feature\": \"Rotational speed [rpm]\", \"score_label\": \"-0.3\"}, {\"index\": 11, \"value\": \"1416.5 - 1424.5\", \"contribution\": -0.004198083005752802, \"mean\": 0.012658227848101266, \"frequency\": 0.023582089552238807, \"feature\": \"Rotational speed [rpm]\", \"score_label\": \"-0.4\"}, {\"index\": 12, \"value\": \"1424.5 - 1431.5\", \"contribution\": -0.005316336152626105, \"mean\": 0.006493506493506494, \"frequency\": 0.02298507462686567, \"feature\": \"Rotational speed [rpm]\", \"score_label\": \"-0.5\"}, {\"index\": 13, \"value\": \"1431.5 - 1439.5\", \"contribution\": -0.004424666131895532, \"mean\": 0.011627906976744186, \"frequency\": 0.025671641791044777, \"feature\": \"Rotational speed [rpm]\", \"score_label\": \"-0.4\"}, {\"index\": 14, \"value\": \"1439.5 - 1447.5\", \"contribution\": -0.0034688094732876276, \"mean\": 0.016853932584269673, \"frequency\": 0.02656716417910448, \"feature\": \"Rotational speed [rpm]\", \"score_label\": \"-0.3\"}, {\"index\": 15, \"value\": \"1447.5 - 1455.5\", \"contribution\": -0.0035642338906488246, \"mean\": 0.016393442622950994, \"frequency\": 0.027313432835820897, \"feature\": \"Rotational speed [rpm]\", \"score_label\": \"-0.4\"}, {\"index\": 16, \"value\": \"1455.5 - 1465.5\", \"contribution\": -0.0037252570989771997, \"mean\": 0.015625, \"frequency\": 0.028656716417910448, \"feature\": \"Rotational speed [rpm]\", \"score_label\": \"-0.4\"}, {\"index\": 17, \"value\": \"1465.5 - 1469.5\", \"contribution\": -0.0061229419354686555, \"mean\": -4.229421046191072e-17, \"frequency\": 0.01253731343283582, \"feature\": \"Rotational speed [rpm]\", \"score_label\": \"-0.6\"}, {\"index\": 18, \"value\": \"1469.5 - 1473.5\", \"contribution\": -0.006115613372519378, \"mean\": 2.67523620391604e-18, \"frequency\": 0.012388059701492538, \"feature\": \"Rotational speed [rpm]\", \"score_label\": \"-0.6\"}, {\"index\": 19, \"value\": \"1473.5 - 1477.5\", \"contribution\": -0.004288204572795666, \"mean\": 0.010869565217391304, \"frequency\": 0.01373134328358209, \"feature\": \"Rotational speed [rpm]\", \"score_label\": \"-0.4\"}, {\"index\": 20, \"value\": \"1477.5 - 1481.5\", \"contribution\": -0.003949020850077801, \"mean\": 0.0125, \"frequency\": 0.011940298507462687, \"feature\": \"Rotational speed [rpm]\", \"score_label\": \"-0.4\"}, {\"index\": 21, \"value\": \"1481.5 - 1486.5\", \"contribution\": -0.006192200323642333, \"mean\": 3.047207876098834e-16, \"frequency\": 0.014029850746268656, \"feature\": \"Rotational speed [rpm]\", \"score_label\": \"-0.6\"}, {\"index\": 22, \"value\": \"1486.5 - 1489.5\", \"contribution\": -0.006037602244012462, \"mean\": 0.0, \"frequency\": 0.010895522388059702, \"feature\": \"Rotational speed [rpm]\", \"score_label\": \"-0.6\"}, {\"index\": 23, \"value\": \"1489.5 - 1493.5\", \"contribution\": -0.003980433097221113, \"mean\": 0.012345679012345682, \"frequency\": 0.01208955223880597, \"feature\": \"Rotational speed [rpm]\", \"score_label\": \"-0.4\"}, {\"index\": 24, \"value\": \"1493.5 - 1497.5\", \"contribution\": -0.0038841970218412357, \"mean\": 0.01282051282051282, \"frequency\": 0.011641791044776119, \"feature\": \"Rotational speed [rpm]\", \"score_label\": \"-0.4\"}, {\"index\": 25, \"value\": \"1497.5 - 1501.5\", \"contribution\": -0.006053943155026977, \"mean\": 0.0, \"frequency\": 0.011194029850746268, \"feature\": \"Rotational speed [rpm]\", \"score_label\": \"-0.6\"}, {\"index\": 26, \"value\": \"1501.5 - 1505.5\", \"contribution\": -0.006130192394586037, \"mean\": 0.0, \"frequency\": 0.012686567164179104, \"feature\": \"Rotational speed [rpm]\", \"score_label\": \"-0.6\"}, {\"index\": 27, \"value\": \"1505.5 - 1509.5\", \"contribution\": -0.0036718935218388337, \"mean\": 0.013888888888888888, \"frequency\": 0.010746268656716417, \"feature\": \"Rotational speed [rpm]\", \"score_label\": \"-0.4\"}, {\"index\": 28, \"value\": \"1509.5 - 1513.5\", \"contribution\": -0.003633605289739963, \"mean\": 0.014084507042253495, \"frequency\": 0.010597014925373134, \"feature\": \"Rotational speed [rpm]\", \"score_label\": \"-0.4\"}, {\"index\": 29, \"value\": \"1513.5 - 1518.5\", \"contribution\": -0.0038165458202539227, \"mean\": 0.013157894736842105, \"frequency\": 0.011343283582089553, \"feature\": \"Rotational speed [rpm]\", \"score_label\": \"-0.4\"}, {\"index\": 30, \"value\": \"1518.5 - 1523.5\", \"contribution\": -0.006178897560274672, \"mean\": 2.413528314402514e-18, \"frequency\": 0.01373134328358209, \"feature\": \"Rotational speed [rpm]\", \"score_label\": \"-0.6\"}, {\"index\": 31, \"value\": \"1523.5 - 1530.5\", \"contribution\": -0.003873517254000794, \"mean\": 0.014184397163120555, \"frequency\": 0.021044776119402985, \"feature\": \"Rotational speed [rpm]\", \"score_label\": \"-0.4\"}, {\"index\": 32, \"value\": \"1530.5 - 1538.5\", \"contribution\": -0.006355770332284844, \"mean\": 0.0, \"frequency\": 0.018208955223880597, \"feature\": \"Rotational speed [rpm]\", \"score_label\": \"-0.6\"}, {\"index\": 33, \"value\": \"1538.5 - 1545.5\", \"contribution\": -0.004823367963541274, \"mean\": 0.00847457627118647, \"frequency\": 0.01761194029850746, \"feature\": \"Rotational speed [rpm]\", \"score_label\": \"-0.5\"}, {\"index\": 34, \"value\": \"1545.5 - 1552.5\", \"contribution\": -0.006355770332284844, \"mean\": 0.0, \"frequency\": 0.018208955223880597, \"feature\": \"Rotational speed [rpm]\", \"score_label\": \"-0.6\"}, {\"index\": 35, \"value\": \"1552.5 - 1559.5\", \"contribution\": -0.004753918905316394, \"mean\": 0.008771929824561403, \"frequency\": 0.01701492537313433, \"feature\": \"Rotational speed [rpm]\", \"score_label\": \"-0.5\"}, {\"index\": 36, \"value\": \"1559.5 - 1567.5\", \"contribution\": -0.0063609608633498314, \"mean\": 0.0, \"frequency\": 0.01835820895522388, \"feature\": \"Rotational speed [rpm]\", \"score_label\": \"-0.6\"}, {\"index\": 37, \"value\": \"1567.5 - 1575.5\", \"contribution\": -0.0063661135529280415, \"mean\": 0.0, \"frequency\": 0.018507462686567163, \"feature\": \"Rotational speed [rpm]\", \"score_label\": \"-0.6\"}, {\"index\": 38, \"value\": \"1575.5 - 1585.5\", \"contribution\": -0.0049363639650576874, \"mean\": 0.008, \"frequency\": 0.018656716417910446, \"feature\": \"Rotational speed [rpm]\", \"score_label\": \"-0.5\"}, {\"index\": 39, \"value\": \"1585.5 - 1590.5\", \"contribution\": -0.005986041076402939, \"mean\": 0.0, \"frequency\": 0.01, \"feature\": \"Rotational speed [rpm]\", \"score_label\": \"-0.6\"}, {\"index\": 40, \"value\": \"1590.5 - 1596.5\", \"contribution\": -0.006012319016370543, \"mean\": -6.3441315692866086e-18, \"frequency\": 0.010447761194029851, \"feature\": \"Rotational speed [rpm]\", \"score_label\": \"-0.6\"}, {\"index\": 41, \"value\": \"1596.5 - 1608.5\", \"contribution\": -0.0050678480445885766, \"mean\": 0.007462686567164179, \"frequency\": 0.02, \"feature\": \"Rotational speed [rpm]\", \"score_label\": \"-0.5\"}, {\"index\": 42, \"value\": \"1608.5 - 1614.5\", \"contribution\": -0.0060458223863024746, \"mean\": 2.880578658486893e-16, \"frequency\": 0.011044776119402985, \"feature\": \"Rotational speed [rpm]\", \"score_label\": \"-0.6\"}, {\"index\": 43, \"value\": \"1614.5 - 1621.5\", \"contribution\": -0.003850737561888169, \"mean\": 0.012987012987012976, \"frequency\": 0.011492537313432836, \"feature\": \"Rotational speed [rpm]\", \"score_label\": \"-0.4\"}, {\"index\": 44, \"value\": \"1621.5 - 1633.5\", \"contribution\": -0.0050678480445885766, \"mean\": 0.007462686567164179, \"frequency\": 0.02, \"feature\": \"Rotational speed [rpm]\", \"score_label\": \"-0.5\"}, {\"index\": 45, \"value\": \"1633.5 - 1640.5\", \"contribution\": -0.006003674269231382, \"mean\": 0.0, \"frequency\": 0.010298507462686568, \"feature\": \"Rotational speed [rpm]\", \"score_label\": \"-0.6\"}, {\"index\": 46, \"value\": \"1640.5 - 1648.5\", \"contribution\": -0.006012319016370542, \"mean\": 0.0, \"frequency\": 0.010447761194029851, \"feature\": \"Rotational speed [rpm]\", \"score_label\": \"-0.6\"}, {\"index\": 47, \"value\": \"1648.5 - 1665.5\", \"contribution\": -0.00644843198778443, \"mean\": 0.0, \"frequency\": 0.021044776119402985, \"feature\": \"Rotational speed [rpm]\", \"score_label\": \"-0.6\"}, {\"index\": 48, \"value\": \"1665.5 - 1684.5\", \"contribution\": -0.005095212113893191, \"mean\": 0.007352941176470588, \"frequency\": 0.020298507462686566, \"feature\": \"Rotational speed [rpm]\", \"score_label\": \"-0.5\"}, {\"index\": 49, \"value\": \"1684.5 - 1698.5\", \"contribution\": -0.0029038108399046395, \"mean\": 0.019047619047618775, \"frequency\": 0.015671641791044775, \"feature\": \"Rotational speed [rpm]\", \"score_label\": \"-0.3\"}, {\"index\": 50, \"value\": \"1698.5 - 1710.5\", \"contribution\": -0.0009557544575769404, \"mean\": 0.029850746268656716, \"frequency\": 0.01, \"feature\": \"Rotational speed [rpm]\", \"score_label\": \"-0.1\"}, {\"index\": 51, \"value\": \"1710.5 - 1729.5\", \"contribution\": -0.0061373664865917825, \"mean\": 5.163828021512356e-18, \"frequency\": 0.012835820895522388, \"feature\": \"Rotational speed [rpm]\", \"score_label\": \"-0.6\"}, {\"index\": 52, \"value\": \"1729.5 - 1748.5\", \"contribution\": -0.00613019239458603, \"mean\": 4.179663151530001e-17, \"frequency\": 0.012686567164179104, \"feature\": \"Rotational speed [rpm]\", \"score_label\": \"-0.6\"}, {\"index\": 53, \"value\": \"1748.5 - 1782.5\", \"contribution\": -0.006360960863349791, \"mean\": 2.310708083772684e-16, \"frequency\": 0.01835820895522388, \"feature\": \"Rotational speed [rpm]\", \"score_label\": \"-0.6\"}, {\"index\": 54, \"value\": \"1782.5 - 1830.5\", \"contribution\": -0.006350541368206063, \"mean\": 0.0, \"frequency\": 0.018059701492537314, \"feature\": \"Rotational speed [rpm]\", \"score_label\": \"-0.6\"}, {\"index\": 55, \"value\": \"1830.5 - 1896.5\", \"contribution\": -0.0063557703322848005, \"mean\": 2.3296483139675417e-16, \"frequency\": 0.018208955223880597, \"feature\": \"Rotational speed [rpm]\", \"score_label\": \"-0.6\"}, {\"index\": 56, \"value\": \"1896.5 - 1995.5\", \"contribution\": -0.006360960863349827, \"mean\": 2.888385104715855e-17, \"frequency\": 0.01835820895522388, \"feature\": \"Rotational speed [rpm]\", \"score_label\": \"-0.6\"}, {\"index\": 57, \"value\": \"1995.5 - 2129.5\", \"contribution\": -0.0011048047522601969, \"mean\": 0.028985507246376916, \"frequency\": 0.010298507462686568, \"feature\": \"Rotational speed [rpm]\", \"score_label\": \"-0.1\"}, {\"index\": 58, \"value\": \"2129.5 - inf\", \"contribution\": 0.18793631396920304, \"mean\": 0.25, \"frequency\": 0.01373134328358209, \"feature\": \"Rotational speed [rpm]\", \"score_label\": \"18.8\"}, {\"index\": 0, \"value\": \"-inf - 17.3\", \"contribution\": 0.21219547506440975, \"mean\": 0.2804878048780488, \"frequency\": 0.012238805970149255, \"feature\": \"Torque [Nm]\", \"score_label\": \"21.2\"}, {\"index\": 1, \"value\": \"17.3 - 19.85\", \"contribution\": -0.001104804752260319, \"mean\": 0.028985507246376194, \"frequency\": 0.010298507462686568, \"feature\": \"Torque [Nm]\", \"score_label\": \"-0.1\"}, {\"index\": 2, \"value\": \"19.85 - 21.75\", \"contribution\": -0.006130192394586045, \"mean\": -4.179663151530001e-17, \"frequency\": 0.012686567164179104, \"feature\": \"Torque [Nm]\", \"score_label\": \"-0.6\"}, {\"index\": 3, \"value\": \"21.75 - 23.15\", \"contribution\": -0.006158447068661212, \"mean\": -3.193450497798203e-16, \"frequency\": 0.01328358208955224, \"feature\": \"Torque [Nm]\", \"score_label\": \"-0.6\"}, {\"index\": 4, \"value\": \"23.15 - 24.35\", \"contribution\": -0.0061229419354686485, \"mean\": 0.0, \"frequency\": 0.01253731343283582, \"feature\": \"Torque [Nm]\", \"score_label\": \"-0.6\"}, {\"index\": 5, \"value\": \"24.35 - 25.45\", \"contribution\": -0.006151492227438709, \"mean\": 1.261617073437678e-18, \"frequency\": 0.013134328358208954, \"feature\": \"Torque [Nm]\", \"score_label\": \"-0.6\"}, {\"index\": 6, \"value\": \"25.45 - 26.85\", \"contribution\": -0.0063183255117638835, \"mean\": 0.0, \"frequency\": 0.017164179104477612, \"feature\": \"Torque [Nm]\", \"score_label\": \"-0.6\"}, {\"index\": 7, \"value\": \"26.85 - 27.45\", \"contribution\": -0.0034708977669899396, \"mean\": 0.014925373134328356, \"frequency\": 0.01, \"feature\": \"Torque [Nm]\", \"score_label\": \"-0.3\"}, {\"index\": 8, \"value\": \"27.45 - 28.15\", \"contribution\": -0.0061444658899443205, \"mean\": 0.0, \"frequency\": 0.012985074626865671, \"feature\": \"Torque [Nm]\", \"score_label\": \"-0.6\"}, {\"index\": 9, \"value\": \"28.15 - 28.85\", \"contribution\": -0.006178897560274752, \"mean\": -4.633974363652827e-16, \"frequency\": 0.01373134328358209, \"feature\": \"Torque [Nm]\", \"score_label\": \"-0.6\"}, {\"index\": 10, \"value\": \"28.85 - 29.35\", \"contribution\": 0.0033968071983958995, \"mean\": 0.03947368421052631, \"frequency\": 0.011343283582089553, \"feature\": \"Torque [Nm]\", \"score_label\": \"0.3\"}, {\"index\": 11, \"value\": \"29.35 - 30.75\", \"contribution\": -0.0051695577833712645, \"mean\": 0.00847457627118644, \"frequency\": 0.03522388059701492, \"feature\": \"Torque [Nm]\", \"score_label\": \"-0.5\"}, {\"index\": 12, \"value\": \"30.75 - 31.35\", \"contribution\": -0.004951695806309181, \"mean\": 0.007936507936507936, \"frequency\": 0.018805970149253733, \"feature\": \"Torque [Nm]\", \"score_label\": \"-0.5\"}, {\"index\": 13, \"value\": \"31.35 - 32.15\", \"contribution\": -0.006452990813212212, \"mean\": 0.0, \"frequency\": 0.021194029850746268, \"feature\": \"Torque [Nm]\", \"score_label\": \"-0.6\"}, {\"index\": 14, \"value\": \"32.15 - 32.75\", \"contribution\": -0.006371228978762092, \"mean\": 0.0, \"frequency\": 0.018656716417910446, \"feature\": \"Torque [Nm]\", \"score_label\": \"-0.6\"}, {\"index\": 15, \"value\": \"32.75 - 33.35\", \"contribution\": -0.004771640055833375, \"mean\": 0.008695652173913044, \"frequency\": 0.017164179104477612, \"feature\": \"Torque [Nm]\", \"score_label\": \"-0.5\"}, {\"index\": 16, \"value\": \"33.35 - 33.85\", \"contribution\": -0.006323798326491902, \"mean\": -1.6270509843644534e-17, \"frequency\": 0.017313432835820895, \"feature\": \"Torque [Nm]\", \"score_label\": \"-0.6\"}, {\"index\": 17, \"value\": \"33.85 - 34.35\", \"contribution\": -0.006261107238068644, \"mean\": 6.767073673905717e-17, \"frequency\": 0.015671641791044775, \"feature\": \"Torque [Nm]\", \"score_label\": \"-0.6\"}, {\"index\": 18, \"value\": \"34.35 - 35.15\", \"contribution\": -0.004315351082721666, \"mean\": 0.012121212121212116, \"frequency\": 0.024626865671641792, \"feature\": \"Torque [Nm]\", \"score_label\": \"-0.4\"}, {\"index\": 19, \"value\": \"35.15 - 35.85\", \"contribution\": -0.006558489981998275, \"mean\": 0.0, \"frequency\": 0.024925373134328358, \"feature\": \"Torque [Nm]\", \"score_label\": \"-0.7\"}, {\"index\": 20, \"value\": \"35.85 - 36.45\", \"contribution\": -0.005223235218110359, \"mean\": 0.0068493150684931494, \"frequency\": 0.021791044776119404, \"feature\": \"Torque [Nm]\", \"score_label\": \"-0.5\"}, {\"index\": 21, \"value\": \"36.45 - 37.05\", \"contribution\": -0.006501317194540872, \"mean\": 0.0, \"frequency\": 0.02283582089552239, \"feature\": \"Torque [Nm]\", \"score_label\": \"-0.7\"}, {\"index\": 22, \"value\": \"37.05 - 37.85\", \"contribution\": -0.003809285436058125, \"mean\": 0.015228426395939096, \"frequency\": 0.029402985074626867, \"feature\": \"Torque [Nm]\", \"score_label\": \"-0.4\"}, {\"index\": 23, \"value\": \"37.85 - 38.55\", \"contribution\": -0.004662075052903947, \"mean\": 0.010582010582010581, \"frequency\": 0.028208955223880595, \"feature\": \"Torque [Nm]\", \"score_label\": \"-0.5\"}, {\"index\": 24, \"value\": \"38.55 - 39.25\", \"contribution\": -0.005452922556863963, \"mean\": 0.005988023952095809, \"frequency\": 0.024925373134328358, \"feature\": \"Torque [Nm]\", \"score_label\": \"-0.5\"}, {\"index\": 25, \"value\": \"39.25 - 39.85\", \"contribution\": -0.006462022436760991, \"mean\": 4.9343245538895844e-17, \"frequency\": 0.021492537313432834, \"feature\": \"Torque [Nm]\", \"score_label\": \"-0.6\"}, {\"index\": 26, \"value\": \"39.85 - 41.35\", \"contribution\": -0.0056717012825346375, \"mean\": 0.007407407407407408, \"frequency\": 0.06044776119402985, \"feature\": \"Torque [Nm]\", \"score_label\": \"-0.6\"}, {\"index\": 27, \"value\": \"41.35 - 42.65\", \"contribution\": -0.00641048167971893, \"mean\": 0.0030581039755351682, \"frequency\": 0.04880597014925373, \"feature\": \"Torque [Nm]\", \"score_label\": \"-0.6\"}, {\"index\": 28, \"value\": \"42.65 - 43.95\", \"contribution\": -0.007022876184950844, \"mean\": 2.1466547908160126e-17, \"frequency\": 0.049402985074626864, \"feature\": \"Torque [Nm]\", \"score_label\": \"-0.7\"}, {\"index\": 29, \"value\": \"43.95 - 47.45\", \"contribution\": -0.002263094816812497, \"mean\": 0.025089605734767033, \"frequency\": 0.12492537313432836, \"feature\": \"Torque [Nm]\", \"score_label\": \"-0.2\"}, {\"index\": 30, \"value\": \"47.45 - 48.35\", \"contribution\": 0.013941343913079862, \"mean\": 0.050251256281406996, \"frequency\": 0.029701492537313433, \"feature\": \"Torque [Nm]\", \"score_label\": \"1.4\"}, {\"index\": 31, \"value\": \"48.35 - 49.35\", \"contribution\": 0.032991893466384745, \"mean\": 0.07065217391304345, \"frequency\": 0.02746268656716418, \"feature\": \"Torque [Nm]\", \"score_label\": \"3.3\"}, {\"index\": 32, \"value\": \"49.35 - 50.25\", \"contribution\": -0.005186280617122187, \"mean\": 0.0069930069930070424, \"frequency\": 0.02134328358208955, \"feature\": \"Torque [Nm]\", \"score_label\": \"-0.5\"}, {\"index\": 33, \"value\": \"50.25 - 50.85\", \"contribution\": 0.010740743486309875, \"mean\": 0.047619047619047686, \"frequency\": 0.015671641791044775, \"feature\": \"Torque [Nm]\", \"score_label\": \"1.1\"}, {\"index\": 34, \"value\": \"50.85 - 51.25\", \"contribution\": 0.05275543433270608, \"mean\": 0.09722222222222222, \"frequency\": 0.010746268656716417, \"feature\": \"Torque [Nm]\", \"score_label\": \"5.3\"}, {\"index\": 35, \"value\": \"51.25 - 51.95\", \"contribution\": 0.014708242700012504, \"mean\": 0.05263157894736842, \"frequency\": 0.011343283582089553, \"feature\": \"Torque [Nm]\", \"score_label\": \"1.5\"}, {\"index\": 36, \"value\": \"51.95 - 52.95\", \"contribution\": 0.03655218821382395, \"mean\": 0.07575757575757576, \"frequency\": 0.019701492537313434, \"feature\": \"Torque [Nm]\", \"score_label\": \"3.7\"}, {\"index\": 37, \"value\": \"52.95 - 53.55\", \"contribution\": -0.0037458558868574353, \"mean\": 0.013513513513513514, \"frequency\": 0.011044776119402985, \"feature\": \"Torque [Nm]\", \"score_label\": \"-0.4\"}, {\"index\": 38, \"value\": \"53.55 - 54.45\", \"contribution\": 0.07270823717240307, \"mean\": 0.11764705882352941, \"frequency\": 0.015223880597014926, \"feature\": \"Torque [Nm]\", \"score_label\": \"7.3\"}, {\"index\": 39, \"value\": \"54.45 - 55.35\", \"contribution\": 0.05729289797854896, \"mean\": 0.10112359550561797, \"frequency\": 0.01328358208955224, \"feature\": \"Torque [Nm]\", \"score_label\": \"5.7\"}, {\"index\": 40, \"value\": \"55.35 - 57.25\", \"contribution\": 0.10198128111874506, \"mean\": 0.1487603305785124, \"frequency\": 0.018059701492537314, \"feature\": \"Torque [Nm]\", \"score_label\": \"10.2\"}, {\"index\": 41, \"value\": \"57.25 - 59.05\", \"contribution\": 0.06016704203332091, \"mean\": 0.10465116279069785, \"frequency\": 0.012835820895522388, \"feature\": \"Torque [Nm]\", \"score_label\": \"6.0\"}, {\"index\": 42, \"value\": \"59.05 - 60.95\", \"contribution\": 0.1598976161282816, \"mean\": 0.22388059701492538, \"frequency\": 0.01, \"feature\": \"Torque [Nm]\", \"score_label\": \"16.0\"}, {\"index\": 43, \"value\": \"60.95 - inf\", \"contribution\": 0.38598896096181423, \"mean\": 0.4634146341463415, \"frequency\": 0.01835820895522388, \"feature\": \"Torque [Nm]\", \"score_label\": \"38.6\"}, {\"index\": 0, \"value\": \"-inf - 1.0\", \"contribution\": -0.0017484187412005413, \"mean\": 0.02531645569620253, \"frequency\": 0.011791044776119404, \"feature\": \"Tool wear [min]\", \"score_label\": \"-0.2\"}, {\"index\": 1, \"value\": \"1.0 - 5.5\", \"contribution\": -0.002137813570229842, \"mean\": 0.023622047244094474, \"frequency\": 0.018955223880597016, \"feature\": \"Tool wear [min]\", \"score_label\": \"-0.2\"}, {\"index\": 2, \"value\": \"5.5 - 9.5\", \"contribution\": 0.009969229210235922, \"mean\": 0.04672897196261682, \"frequency\": 0.015970149253731344, \"feature\": \"Tool wear [min]\", \"score_label\": \"1.0\"}, {\"index\": 3, \"value\": \"9.5 - 13.5\", \"contribution\": -0.0007233013323728856, \"mean\": 0.03149606299212576, \"frequency\": 0.018955223880597016, \"feature\": \"Tool wear [min]\", \"score_label\": \"-0.1\"}, {\"index\": 4, \"value\": \"13.5 - 16.5\", \"contribution\": -0.004361884787958731, \"mean\": 0.010526315789473703, \"frequency\": 0.014179104477611941, \"feature\": \"Tool wear [min]\", \"score_label\": \"-0.4\"}, {\"index\": 5, \"value\": \"16.5 - 19.5\", \"contribution\": -0.0024408089618098926, \"mean\": 0.021505376344085714, \"frequency\": 0.013880597014925373, \"feature\": \"Tool wear [min]\", \"score_label\": \"-0.2\"}, {\"index\": 6, \"value\": \"19.5 - 22.5\", \"contribution\": 0.008228219766948411, \"mean\": 0.0449438202247191, \"frequency\": 0.01328358208955224, \"feature\": \"Tool wear [min]\", \"score_label\": \"0.8\"}, {\"index\": 7, \"value\": \"22.5 - 24.5\", \"contribution\": -0.0034708977669900107, \"mean\": 0.014925373134327935, \"frequency\": 0.01, \"feature\": \"Tool wear [min]\", \"score_label\": \"-0.3\"}, {\"index\": 8, \"value\": \"24.5 - 29.5\", \"contribution\": -0.0038523821093445765, \"mean\": 0.014285714285714285, \"frequency\": 0.020895522388059702, \"feature\": \"Tool wear [min]\", \"score_label\": \"-0.4\"}, {\"index\": 9, \"value\": \"29.5 - 33.5\", \"contribution\": -0.002435252540643668, \"mean\": 0.022058823529411766, \"frequency\": 0.020298507462686566, \"feature\": \"Tool wear [min]\", \"score_label\": \"-0.2\"}, {\"index\": 10, \"value\": \"33.5 - 36.5\", \"contribution\": -0.0023084015918355912, \"mean\": 0.022222222222222223, \"frequency\": 0.013432835820895522, \"feature\": \"Tool wear [min]\", \"score_label\": \"-0.2\"}, {\"index\": 11, \"value\": \"36.5 - 39.5\", \"contribution\": -0.0061855811267116385, \"mean\": -3.103849316156352e-16, \"frequency\": 0.013880597014925373, \"feature\": \"Tool wear [min]\", \"score_label\": \"-0.6\"}, {\"index\": 12, \"value\": \"39.5 - 42.5\", \"contribution\": 0.008228219766948411, \"mean\": 0.0449438202247191, \"frequency\": 0.01328358208955224, \"feature\": \"Tool wear [min]\", \"score_label\": \"0.8\"}, {\"index\": 13, \"value\": \"42.5 - 45.5\", \"contribution\": -0.002684496059229708, \"mean\": 0.020202020202020204, \"frequency\": 0.014776119402985075, \"feature\": \"Tool wear [min]\", \"score_label\": \"-0.3\"}, {\"index\": 14, \"value\": \"45.5 - 48.5\", \"contribution\": -0.006115613372519378, \"mean\": 0.0, \"frequency\": 0.012388059701492538, \"feature\": \"Tool wear [min]\", \"score_label\": \"-0.6\"}, {\"index\": 15, \"value\": \"48.5 - 50.5\", \"contribution\": -0.00363360528973999, \"mean\": 0.014084507042253334, \"frequency\": 0.010597014925373134, \"feature\": \"Tool wear [min]\", \"score_label\": \"-0.4\"}, {\"index\": 16, \"value\": \"50.5 - 53.5\", \"contribution\": -0.0005684228793589682, \"mean\": 0.032258064516129024, \"frequency\": 0.013880597014925373, \"feature\": \"Tool wear [min]\", \"score_label\": \"-0.1\"}, {\"index\": 17, \"value\": \"53.5 - 58.5\", \"contribution\": -0.004071846309355705, \"mean\": 0.013245033112582781, \"frequency\": 0.022537313432835823, \"feature\": \"Tool wear [min]\", \"score_label\": \"-0.4\"}, {\"index\": 18, \"value\": \"58.5 - 63.5\", \"contribution\": -0.0009278504090053937, \"mean\": 0.03048780487804878, \"frequency\": 0.02447761194029851, \"feature\": \"Tool wear [min]\", \"score_label\": \"-0.1\"}, {\"index\": 19, \"value\": \"63.5 - 67.5\", \"contribution\": 0.04361610680612813, \"mean\": 0.08403361344537816, \"frequency\": 0.017761194029850748, \"feature\": \"Tool wear [min]\", \"score_label\": \"4.4\"}, {\"index\": 20, \"value\": \"67.5 - 71.5\", \"contribution\": -0.004981794700907686, \"mean\": 0.0078125, \"frequency\": 0.0191044776119403, \"feature\": \"Tool wear [min]\", \"score_label\": \"-0.5\"}, {\"index\": 21, \"value\": \"71.5 - 75.5\", \"contribution\": -0.006329228843265691, \"mean\": 2.429205934222565e-16, \"frequency\": 0.01746268656716418, \"feature\": \"Tool wear [min]\", \"score_label\": \"-0.6\"}, {\"index\": 22, \"value\": \"75.5 - 78.5\", \"contribution\": -0.0008034345392121838, \"mean\": 0.030927835051546466, \"frequency\": 0.014477611940298507, \"feature\": \"Tool wear [min]\", \"score_label\": \"-0.1\"}, {\"index\": 23, \"value\": \"78.5 - 84.5\", \"contribution\": -0.004469299549085977, \"mean\": 0.011428571428571429, \"frequency\": 0.026119402985074626, \"feature\": \"Tool wear [min]\", \"score_label\": \"-0.4\"}, {\"index\": 24, \"value\": \"84.5 - 107.5\", \"contribution\": -0.0016885944977009719, \"mean\": 0.027624309392265203, \"frequency\": 0.10805970149253731, \"feature\": \"Tool wear [min]\", \"score_label\": \"-0.2\"}, {\"index\": 25, \"value\": \"107.5 - 125.5\", \"contribution\": -0.0023623117499890155, \"mean\": 0.02422145328719723, \"frequency\": 0.08626865671641791, \"feature\": \"Tool wear [min]\", \"score_label\": \"-0.2\"}, {\"index\": 26, \"value\": \"125.5 - 133.5\", \"contribution\": -0.005151328043237483, \"mean\": 0.008547008547008548, \"frequency\": 0.03492537313432836, \"feature\": \"Tool wear [min]\", \"score_label\": \"-0.5\"}, {\"index\": 27, \"value\": \"133.5 - 149.5\", \"contribution\": -0.0020169251534853903, \"mean\": 0.025742574257425713, \"frequency\": 0.07537313432835821, \"feature\": \"Tool wear [min]\", \"score_label\": \"-0.2\"}, {\"index\": 28, \"value\": \"149.5 - 153.5\", \"contribution\": -0.00492083838334896, \"mean\": 0.008064516129032258, \"frequency\": 0.018507462686567163, \"feature\": \"Tool wear [min]\", \"score_label\": \"-0.5\"}, {\"index\": 29, \"value\": \"153.5 - 156.5\", \"contribution\": -0.004210491476175543, \"mean\": 0.011235955056179915, \"frequency\": 0.01328358208955224, \"feature\": \"Tool wear [min]\", \"score_label\": \"-0.4\"}, {\"index\": 30, \"value\": \"156.5 - 159.5\", \"contribution\": -0.006205250749344414, \"mean\": 0.0, \"frequency\": 0.014328358208955224, \"feature\": \"Tool wear [min]\", \"score_label\": \"-0.6\"}, {\"index\": 31, \"value\": \"159.5 - 162.5\", \"contribution\": -0.006211684451524729, \"mean\": -1.4650365685775261e-16, \"frequency\": 0.014477611940298507, \"feature\": \"Tool wear [min]\", \"score_label\": \"-0.6\"}, {\"index\": 32, \"value\": \"162.5 - 166.5\", \"contribution\": 0.01654614090866114, \"mean\": 0.05405405405405418, \"frequency\": 0.016567164179104477, \"feature\": \"Tool wear [min]\", \"score_label\": \"1.7\"}, {\"index\": 33, \"value\": \"166.5 - 172.5\", \"contribution\": -0.0035642338906488715, \"mean\": 0.01639344262295074, \"frequency\": 0.027313432835820897, \"feature\": \"Tool wear [min]\", \"score_label\": \"-0.4\"}, {\"index\": 34, \"value\": \"172.5 - 177.5\", \"contribution\": -0.0016838896394937494, \"mean\": 0.02631578947368421, \"frequency\": 0.022686567164179106, \"feature\": \"Tool wear [min]\", \"score_label\": \"-0.2\"}, {\"index\": 35, \"value\": \"177.5 - 181.5\", \"contribution\": -0.003395570386403119, \"mean\": 0.016528925619834704, \"frequency\": 0.018059701492537314, \"feature\": \"Tool wear [min]\", \"score_label\": \"-0.3\"}, {\"index\": 36, \"value\": \"181.5 - 186.5\", \"contribution\": -0.005198730235363395, \"mean\": 0.006944444444444444, \"frequency\": 0.021492537313432834, \"feature\": \"Tool wear [min]\", \"score_label\": \"-0.5\"}, {\"index\": 37, \"value\": \"186.5 - 190.5\", \"contribution\": 0.014529734499393246, \"mean\": 0.05172413793103448, \"frequency\": 0.017313432835820895, \"feature\": \"Tool wear [min]\", \"score_label\": \"1.5\"}, {\"index\": 38, \"value\": \"190.5 - 195.5\", \"contribution\": 0.02904970062645268, \"mean\": 0.06711409395973164, \"frequency\": 0.022238805970149253, \"feature\": \"Tool wear [min]\", \"score_label\": \"2.9\"}, {\"index\": 39, \"value\": \"195.5 - 199.5\", \"contribution\": -0.0008558675871492154, \"mean\": 0.03076923076923077, \"frequency\": 0.019402985074626865, \"feature\": \"Tool wear [min]\", \"score_label\": \"-0.1\"}, {\"index\": 40, \"value\": \"199.5 - 204.5\", \"contribution\": 0.07197585101144952, \"mean\": 0.11428571428571428, \"frequency\": 0.020895522388059702, \"feature\": \"Tool wear [min]\", \"score_label\": \"7.2\"}, {\"index\": 41, \"value\": \"204.5 - 207.5\", \"contribution\": 0.11475134523169861, \"mean\": 0.16883116883116883, \"frequency\": 0.011492537313432836, \"feature\": \"Tool wear [min]\", \"score_label\": \"11.5\"}, {\"index\": 42, \"value\": \"207.5 - 210.5\", \"contribution\": 0.1260062610351174, \"mean\": 0.18309859154929578, \"frequency\": 0.010597014925373134, \"feature\": \"Tool wear [min]\", \"score_label\": \"12.6\"}, {\"index\": 43, \"value\": \"210.5 - 215.5\", \"contribution\": 0.09925140437281516, \"mean\": 0.14942528735632185, \"frequency\": 0.012985074626865671, \"feature\": \"Tool wear [min]\", \"score_label\": \"9.9\"}, {\"index\": 44, \"value\": \"215.5 - 221.5\", \"contribution\": 0.13455726491936212, \"mean\": 0.19402985074626863, \"frequency\": 0.01, \"feature\": \"Tool wear [min]\", \"score_label\": \"13.5\"}, {\"index\": 45, \"value\": \"221.5 - inf\", \"contribution\": 0.20700264622749473, \"mean\": 0.27631578947368424, \"frequency\": 0.011343283582089553, \"feature\": \"Tool wear [min]\", \"score_label\": \"20.7\"}]}}, {\"mode\": \"vega-lite\"});\n",
       "</script>"
      ],
      "text/plain": [
       "alt.HConcatChart(...)"
      ]
     },
     "execution_count": 98,
     "metadata": {},
     "output_type": "execute_result"
    }
   ],
   "source": [
    "model.explain()"
   ]
  },
  {
   "cell_type": "code",
   "execution_count": 99,
   "id": "4df8c9f9-eca2-4402-acf2-7cf1f4821aca",
   "metadata": {},
   "outputs": [
    {
     "data": {
      "text/plain": [
       "<xplainable.core.ml.classification.XClassifier at 0x11def8700>"
      ]
     },
     "execution_count": 99,
     "metadata": {},
     "output_type": "execute_result"
    }
   ],
   "source": [
    "params = {\n",
    "    \"max_depth\": 7,\n",
    "    \"min_info_gain\": 0.03,\n",
    "}\n",
    "\n",
    "model.update_feature_params(features=['Tool wear [min]', 'Air temperature [K]', 'Process temperature [K]','Torque [Nm]'], **params)"
   ]
  },
  {
   "cell_type": "code",
   "execution_count": 100,
   "id": "38a3217b-7856-4b0c-99be-5c9f0be3b9f1",
   "metadata": {},
   "outputs": [
    {
     "data": {
      "text/html": [
       "\n",
       "    <style>\n",
       "    .vega-bind {\n",
       "      text-align:right;\n",
       "    }\n",
       "    </style>\n",
       "    "
      ],
      "text/plain": [
       "<IPython.core.display.HTML object>"
      ]
     },
     "metadata": {},
     "output_type": "display_data"
    },
    {
     "data": {
      "text/html": [
       "\n",
       "<style>\n",
       "  #altair-viz-90643648331448369ad8df922549e372.vega-embed {\n",
       "    width: 100%;\n",
       "    display: flex;\n",
       "  }\n",
       "\n",
       "  #altair-viz-90643648331448369ad8df922549e372.vega-embed details,\n",
       "  #altair-viz-90643648331448369ad8df922549e372.vega-embed details summary {\n",
       "    position: relative;\n",
       "  }\n",
       "</style>\n",
       "<div id=\"altair-viz-90643648331448369ad8df922549e372\"></div>\n",
       "<script type=\"text/javascript\">\n",
       "  var VEGA_DEBUG = (typeof VEGA_DEBUG == \"undefined\") ? {} : VEGA_DEBUG;\n",
       "  (function(spec, embedOpt){\n",
       "    let outputDiv = document.currentScript.previousElementSibling;\n",
       "    if (outputDiv.id !== \"altair-viz-90643648331448369ad8df922549e372\") {\n",
       "      outputDiv = document.getElementById(\"altair-viz-90643648331448369ad8df922549e372\");\n",
       "    }\n",
       "    const paths = {\n",
       "      \"vega\": \"https://cdn.jsdelivr.net/npm/vega@5?noext\",\n",
       "      \"vega-lib\": \"https://cdn.jsdelivr.net/npm/vega-lib?noext\",\n",
       "      \"vega-lite\": \"https://cdn.jsdelivr.net/npm/vega-lite@5.16.3?noext\",\n",
       "      \"vega-embed\": \"https://cdn.jsdelivr.net/npm/vega-embed@6?noext\",\n",
       "    };\n",
       "\n",
       "    function maybeLoadScript(lib, version) {\n",
       "      var key = `${lib.replace(\"-\", \"\")}_version`;\n",
       "      return (VEGA_DEBUG[key] == version) ?\n",
       "        Promise.resolve(paths[lib]) :\n",
       "        new Promise(function(resolve, reject) {\n",
       "          var s = document.createElement('script');\n",
       "          document.getElementsByTagName(\"head\")[0].appendChild(s);\n",
       "          s.async = true;\n",
       "          s.onload = () => {\n",
       "            VEGA_DEBUG[key] = version;\n",
       "            return resolve(paths[lib]);\n",
       "          };\n",
       "          s.onerror = () => reject(`Error loading script: ${paths[lib]}`);\n",
       "          s.src = paths[lib];\n",
       "        });\n",
       "    }\n",
       "\n",
       "    function showError(err) {\n",
       "      outputDiv.innerHTML = `<div class=\"error\" style=\"color:red;\">${err}</div>`;\n",
       "      throw err;\n",
       "    }\n",
       "\n",
       "    function displayChart(vegaEmbed) {\n",
       "      vegaEmbed(outputDiv, spec, embedOpt)\n",
       "        .catch(err => showError(`Javascript Error: ${err.message}<br>This usually means there's a typo in your chart specification. See the javascript console for the full traceback.`));\n",
       "    }\n",
       "\n",
       "    if(typeof define === \"function\" && define.amd) {\n",
       "      requirejs.config({paths});\n",
       "      require([\"vega-embed\"], displayChart, err => showError(`Error loading script: ${err.message}`));\n",
       "    } else {\n",
       "      maybeLoadScript(\"vega\", \"5\")\n",
       "        .then(() => maybeLoadScript(\"vega-lite\", \"5.16.3\"))\n",
       "        .then(() => maybeLoadScript(\"vega-embed\", \"6\"))\n",
       "        .catch(showError)\n",
       "        .then(() => displayChart(vegaEmbed));\n",
       "    }\n",
       "  })({\"config\": {\"view\": {\"continuousWidth\": 300, \"continuousHeight\": 300}}, \"hconcat\": [{\"mark\": {\"type\": \"bar\", \"color\": \"#0080ea\"}, \"encoding\": {\"color\": {\"condition\": {\"param\": \"param_25\", \"value\": \"lightgray\"}, \"value\": \"#0080ea\"}, \"tooltip\": {\"field\": \"importance_label\", \"type\": \"nominal\"}, \"x\": {\"field\": \"importance\", \"type\": \"quantitative\"}, \"y\": {\"field\": \"feature\", \"sort\": {\"field\": \"importance\", \"order\": \"descending\"}, \"type\": \"nominal\"}}, \"height\": 400, \"name\": \"view_33\", \"title\": \"Feature Importances\", \"transform\": [{\"filter\": {\"param\": \"param_26\"}}], \"width\": 330}, {\"mark\": {\"type\": \"bar\", \"color\": \"#0080ea\"}, \"encoding\": {\"x\": {\"axis\": {\"labels\": false, \"title\": null}, \"field\": \"importance\", \"type\": \"quantitative\"}, \"y\": {\"axis\": {\"labels\": false, \"title\": null}, \"field\": \"feature\", \"sort\": \"-x\", \"type\": \"nominal\"}}, \"height\": 400, \"name\": \"view_34\", \"width\": 25}, {\"data\": {\"name\": \"data-952612d273acf2036e7ab4e90b835309\"}, \"mark\": {\"type\": \"bar\", \"color\": \"#e14067\"}, \"encoding\": {\"color\": {\"condition\": {\"test\": \"(datum.contribution < 0)\", \"value\": \"#e14067\"}, \"value\": \"#12b980\"}, \"tooltip\": {\"field\": \"score_label\", \"type\": \"nominal\"}, \"x\": {\"field\": \"val\", \"type\": \"quantitative\"}, \"y\": {\"field\": \"value\", \"sort\": {\"field\": \"index\", \"order\": \"descending\"}, \"type\": \"nominal\"}}, \"height\": 400, \"name\": \"view_35\", \"title\": \"Contributions\", \"transform\": [{\"fold\": [\"contribution\", \"mean\", \"frequency\"], \"as\": [\"column\", \"val\"]}, {\"filter\": {\"param\": \"Select\"}}, {\"filter\": {\"param\": \"param_25\"}}, {\"filter\": {\"param\": \"param_27\"}}], \"width\": 330}, {\"data\": {\"name\": \"data-952612d273acf2036e7ab4e90b835309\"}, \"mark\": {\"type\": \"bar\", \"color\": \"#e14067\"}, \"encoding\": {\"color\": {\"condition\": {\"test\": \"(datum.contribution < 0)\", \"value\": \"#e14067\"}, \"value\": \"#12b980\"}, \"x\": {\"axis\": {\"labels\": false, \"title\": null}, \"field\": \"contribution\", \"type\": \"quantitative\"}, \"y\": {\"axis\": {\"labels\": false, \"title\": null}, \"field\": \"value\", \"sort\": {\"field\": \"index\", \"order\": \"descending\"}, \"type\": \"nominal\"}}, \"height\": 400, \"name\": \"view_36\", \"transform\": [{\"filter\": {\"param\": \"param_25\"}}], \"width\": 25}], \"data\": {\"name\": \"data-2d92703d999c6b0972d4bccc7bd26190\"}, \"params\": [{\"name\": \"param_25\", \"select\": {\"type\": \"point\", \"fields\": [\"feature\"]}, \"value\": \"Rotational speed [rpm]\", \"views\": [\"view_33\"]}, {\"name\": \"Select\", \"select\": {\"type\": \"point\", \"fields\": [\"column\"]}, \"bind\": {\"input\": \"select\", \"options\": [\"contribution\", \"mean\", \"frequency\"]}, \"value\": \"contribution\", \"views\": [\"view_33\", \"view_35\"]}, {\"name\": \"param_26\", \"select\": {\"type\": \"interval\", \"encodings\": [\"y\"]}, \"views\": [\"view_34\"]}, {\"name\": \"param_27\", \"select\": {\"type\": \"interval\", \"encodings\": [\"y\"]}, \"views\": [\"view_36\"]}], \"$schema\": \"https://vega.github.io/schema/vega-lite/v5.16.3.json\", \"datasets\": {\"data-2d92703d999c6b0972d4bccc7bd26190\": [{\"feature\": \"Process temperature [K]\", \"importance\": 0.0, \"importance_label\": \"0.0%\"}, {\"feature\": \"Type\", \"importance\": 0.014427446414914157, \"importance_label\": \"1.4%\"}, {\"feature\": \"Tool wear [min]\", \"importance\": 0.08973766106420002, \"importance_label\": \"9.0%\"}, {\"feature\": \"Air temperature [K]\", \"importance\": 0.171897436157372, \"importance_label\": \"17.2%\"}, {\"feature\": \"Torque [Nm]\", \"importance\": 0.33007379817326093, \"importance_label\": \"33.0%\"}, {\"feature\": \"Rotational speed [rpm]\", \"importance\": 0.3938636581902528, \"importance_label\": \"39.4%\"}], \"data-952612d273acf2036e7ab4e90b835309\": [{\"index\": 0, \"value\": \"H\", \"contribution\": -0.004132791277018617, \"mean\": 0.01608187134502924, \"frequency\": 0.10208955223880598, \"feature\": \"Type\", \"score_label\": \"-0.4\"}, {\"index\": 1, \"value\": \"M\", \"contribution\": 0.002941960364459947, \"mean\": 0.03273809523809524, \"frequency\": 0.3008955223880597, \"feature\": \"Type\", \"score_label\": \"0.3\"}, {\"index\": 1, \"value\": \"L\", \"contribution\": 0.002941960364459947, \"mean\": 0.04025, \"frequency\": 0.5970149253731343, \"feature\": \"Type\", \"score_label\": \"0.3\"}, {\"index\": 0, \"value\": \"-inf - 301.75\", \"contribution\": -0.003163963360211909, \"mean\": 0.023376125694577504, \"frequency\": 0.778955223880597, \"feature\": \"Air temperature [K]\", \"score_label\": \"-0.3\"}, {\"index\": 1, \"value\": \"301.75 - 301.95\", \"contribution\": 0.03416719531658845, \"mean\": 0.072992700729927, \"frequency\": 0.02044776119402985, \"feature\": \"Air temperature [K]\", \"score_label\": \"3.4\"}, {\"index\": 2, \"value\": \"301.95 - 302.15\", \"contribution\": 0.07631711583936478, \"mean\": 0.11940298507462686, \"frequency\": 0.02, \"feature\": \"Air temperature [K]\", \"score_label\": \"7.6\"}, {\"index\": 3, \"value\": \"302.15 - 302.35\", \"contribution\": 0.015574658221800571, \"mean\": 0.051470588235294115, \"frequency\": 0.04059701492537313, \"feature\": \"Air temperature [K]\", \"score_label\": \"1.6\"}, {\"index\": 4, \"value\": \"302.35 - 302.45\", \"contribution\": 0.07580406131854853, \"mean\": 0.12222222222222222, \"frequency\": 0.013432835820895522, \"feature\": \"Air temperature [K]\", \"score_label\": \"7.6\"}, {\"index\": 5, \"value\": \"302.45 - 302.55\", \"contribution\": 0.022141375570259466, \"mean\": 0.06060606060606061, \"frequency\": 0.014776119402985075, \"feature\": \"Air temperature [K]\", \"score_label\": \"2.2\"}, {\"index\": 6, \"value\": \"302.55 - 302.75\", \"contribution\": 0.0872483657550341, \"mean\": 0.13178294573643434, \"frequency\": 0.019253731343283582, \"feature\": \"Air temperature [K]\", \"score_label\": \"8.7\"}, {\"index\": 7, \"value\": \"302.75 - 302.95\", \"contribution\": 0.0047721098391504055, \"mean\": 0.041095890410959096, \"frequency\": 0.010895522388059702, \"feature\": \"Air temperature [K]\", \"score_label\": \"0.5\"}, {\"index\": 8, \"value\": \"302.95 - 303.15\", \"contribution\": 0.06981913907183983, \"mean\": 0.11764705882352941, \"frequency\": 0.010149253731343283, \"feature\": \"Air temperature [K]\", \"score_label\": \"7.0\"}, {\"index\": 9, \"value\": \"303.15 - 303.45\", \"contribution\": 0.12154699933686937, \"mean\": 0.17094017094017092, \"frequency\": 0.01746268656716418, \"feature\": \"Air temperature [K]\", \"score_label\": \"12.2\"}, {\"index\": 10, \"value\": \"303.45 - inf\", \"contribution\": -0.0010244626781949066, \"mean\": 0.03038674033149171, \"frequency\": 0.054029850746268655, \"feature\": \"Air temperature [K]\", \"score_label\": \"-0.1\"}, {\"index\": 0, \"value\": \"-inf - 1292.5\", \"contribution\": 0.17105090092421943, \"mean\": 0.22727272727272727, \"frequency\": 0.016417910447761194, \"feature\": \"Rotational speed [rpm]\", \"score_label\": \"17.1\"}, {\"index\": 1, \"value\": \"1292.5 - 1313.5\", \"contribution\": 0.14920227728828642, \"mean\": 0.20388349514563134, \"frequency\": 0.015373134328358209, \"feature\": \"Rotational speed [rpm]\", \"score_label\": \"14.9\"}, {\"index\": 2, \"value\": \"1313.5 - 1328.5\", \"contribution\": 0.10364633534672174, \"mean\": 0.15306122448979592, \"frequency\": 0.014626865671641792, \"feature\": \"Rotational speed [rpm]\", \"score_label\": \"10.4\"}, {\"index\": 3, \"value\": \"1328.5 - 1341.5\", \"contribution\": 0.14529413260719867, \"mean\": 0.19672131147540983, \"frequency\": 0.018208955223880597, \"feature\": \"Rotational speed [rpm]\", \"score_label\": \"14.5\"}, {\"index\": 4, \"value\": \"1341.5 - 1353.5\", \"contribution\": 0.07784597098686023, \"mean\": 0.12121212121212122, \"frequency\": 0.019701492537313434, \"feature\": \"Rotational speed [rpm]\", \"score_label\": \"7.8\"}, {\"index\": 5, \"value\": \"1353.5 - 1364.5\", \"contribution\": 0.10832953959070594, \"mean\": 0.15441176470588236, \"frequency\": 0.020298507462686566, \"feature\": \"Rotational speed [rpm]\", \"score_label\": \"10.8\"}, {\"index\": 6, \"value\": \"1364.5 - 1369.5\", \"contribution\": 0.12976207898551642, \"mean\": 0.18666666666666668, \"frequency\": 0.011194029850746268, \"feature\": \"Rotational speed [rpm]\", \"score_label\": \"13.0\"}, {\"index\": 7, \"value\": \"1369.5 - 1374.5\", \"contribution\": 0.15005805297652305, \"mean\": 0.21126760563380262, \"frequency\": 0.010597014925373134, \"feature\": \"Rotational speed [rpm]\", \"score_label\": \"15.0\"}, {\"index\": 8, \"value\": \"1374.5 - 1380.5\", \"contribution\": 0.06222537320108652, \"mean\": 0.10638297872340426, \"frequency\": 0.014029850746268656, \"feature\": \"Rotational speed [rpm]\", \"score_label\": \"6.2\"}, {\"index\": 9, \"value\": \"1380.5 - 1386.5\", \"contribution\": 0.018736121477883252, \"mean\": 0.05660377358490566, \"frequency\": 0.01582089552238806, \"feature\": \"Rotational speed [rpm]\", \"score_label\": \"1.9\"}, {\"index\": 10, \"value\": \"1386.5 - 1416.5\", \"contribution\": -0.0026316598526370995, \"mean\": 0.02281368821292773, \"frequency\": 0.07850746268656716, \"feature\": \"Rotational speed [rpm]\", \"score_label\": \"-0.3\"}, {\"index\": 11, \"value\": \"1416.5 - 1424.5\", \"contribution\": -0.004198083005752802, \"mean\": 0.012658227848101266, \"frequency\": 0.023582089552238807, \"feature\": \"Rotational speed [rpm]\", \"score_label\": \"-0.4\"}, {\"index\": 12, \"value\": \"1424.5 - 1431.5\", \"contribution\": -0.005316336152626105, \"mean\": 0.006493506493506494, \"frequency\": 0.02298507462686567, \"feature\": \"Rotational speed [rpm]\", \"score_label\": \"-0.5\"}, {\"index\": 13, \"value\": \"1431.5 - 1439.5\", \"contribution\": -0.004424666131895532, \"mean\": 0.011627906976744186, \"frequency\": 0.025671641791044777, \"feature\": \"Rotational speed [rpm]\", \"score_label\": \"-0.4\"}, {\"index\": 14, \"value\": \"1439.5 - 1447.5\", \"contribution\": -0.0034688094732876276, \"mean\": 0.016853932584269673, \"frequency\": 0.02656716417910448, \"feature\": \"Rotational speed [rpm]\", \"score_label\": \"-0.3\"}, {\"index\": 15, \"value\": \"1447.5 - 1455.5\", \"contribution\": -0.0035642338906488246, \"mean\": 0.016393442622950994, \"frequency\": 0.027313432835820897, \"feature\": \"Rotational speed [rpm]\", \"score_label\": \"-0.4\"}, {\"index\": 16, \"value\": \"1455.5 - 1465.5\", \"contribution\": -0.0037252570989771997, \"mean\": 0.015625, \"frequency\": 0.028656716417910448, \"feature\": \"Rotational speed [rpm]\", \"score_label\": \"-0.4\"}, {\"index\": 17, \"value\": \"1465.5 - 1469.5\", \"contribution\": -0.0061229419354686555, \"mean\": -4.229421046191072e-17, \"frequency\": 0.01253731343283582, \"feature\": \"Rotational speed [rpm]\", \"score_label\": \"-0.6\"}, {\"index\": 18, \"value\": \"1469.5 - 1473.5\", \"contribution\": -0.006115613372519378, \"mean\": 2.67523620391604e-18, \"frequency\": 0.012388059701492538, \"feature\": \"Rotational speed [rpm]\", \"score_label\": \"-0.6\"}, {\"index\": 19, \"value\": \"1473.5 - 1477.5\", \"contribution\": -0.004288204572795666, \"mean\": 0.010869565217391304, \"frequency\": 0.01373134328358209, \"feature\": \"Rotational speed [rpm]\", \"score_label\": \"-0.4\"}, {\"index\": 20, \"value\": \"1477.5 - 1481.5\", \"contribution\": -0.003949020850077801, \"mean\": 0.0125, \"frequency\": 0.011940298507462687, \"feature\": \"Rotational speed [rpm]\", \"score_label\": \"-0.4\"}, {\"index\": 21, \"value\": \"1481.5 - 1486.5\", \"contribution\": -0.006192200323642333, \"mean\": 3.047207876098834e-16, \"frequency\": 0.014029850746268656, \"feature\": \"Rotational speed [rpm]\", \"score_label\": \"-0.6\"}, {\"index\": 22, \"value\": \"1486.5 - 1489.5\", \"contribution\": -0.006037602244012462, \"mean\": 0.0, \"frequency\": 0.010895522388059702, \"feature\": \"Rotational speed [rpm]\", \"score_label\": \"-0.6\"}, {\"index\": 23, \"value\": \"1489.5 - 1493.5\", \"contribution\": -0.003980433097221113, \"mean\": 0.012345679012345682, \"frequency\": 0.01208955223880597, \"feature\": \"Rotational speed [rpm]\", \"score_label\": \"-0.4\"}, {\"index\": 24, \"value\": \"1493.5 - 1497.5\", \"contribution\": -0.0038841970218412357, \"mean\": 0.01282051282051282, \"frequency\": 0.011641791044776119, \"feature\": \"Rotational speed [rpm]\", \"score_label\": \"-0.4\"}, {\"index\": 25, \"value\": \"1497.5 - 1501.5\", \"contribution\": -0.006053943155026977, \"mean\": 0.0, \"frequency\": 0.011194029850746268, \"feature\": \"Rotational speed [rpm]\", \"score_label\": \"-0.6\"}, {\"index\": 26, \"value\": \"1501.5 - 1505.5\", \"contribution\": -0.006130192394586037, \"mean\": 0.0, \"frequency\": 0.012686567164179104, \"feature\": \"Rotational speed [rpm]\", \"score_label\": \"-0.6\"}, {\"index\": 27, \"value\": \"1505.5 - 1509.5\", \"contribution\": -0.0036718935218388337, \"mean\": 0.013888888888888888, \"frequency\": 0.010746268656716417, \"feature\": \"Rotational speed [rpm]\", \"score_label\": \"-0.4\"}, {\"index\": 28, \"value\": \"1509.5 - 1513.5\", \"contribution\": -0.003633605289739963, \"mean\": 0.014084507042253495, \"frequency\": 0.010597014925373134, \"feature\": \"Rotational speed [rpm]\", \"score_label\": \"-0.4\"}, {\"index\": 29, \"value\": \"1513.5 - 1518.5\", \"contribution\": -0.0038165458202539227, \"mean\": 0.013157894736842105, \"frequency\": 0.011343283582089553, \"feature\": \"Rotational speed [rpm]\", \"score_label\": \"-0.4\"}, {\"index\": 30, \"value\": \"1518.5 - 1523.5\", \"contribution\": -0.006178897560274672, \"mean\": 2.413528314402514e-18, \"frequency\": 0.01373134328358209, \"feature\": \"Rotational speed [rpm]\", \"score_label\": \"-0.6\"}, {\"index\": 31, \"value\": \"1523.5 - 1530.5\", \"contribution\": -0.003873517254000794, \"mean\": 0.014184397163120555, \"frequency\": 0.021044776119402985, \"feature\": \"Rotational speed [rpm]\", \"score_label\": \"-0.4\"}, {\"index\": 32, \"value\": \"1530.5 - 1538.5\", \"contribution\": -0.006355770332284844, \"mean\": 0.0, \"frequency\": 0.018208955223880597, \"feature\": \"Rotational speed [rpm]\", \"score_label\": \"-0.6\"}, {\"index\": 33, \"value\": \"1538.5 - 1545.5\", \"contribution\": -0.004823367963541274, \"mean\": 0.00847457627118647, \"frequency\": 0.01761194029850746, \"feature\": \"Rotational speed [rpm]\", \"score_label\": \"-0.5\"}, {\"index\": 34, \"value\": \"1545.5 - 1552.5\", \"contribution\": -0.006355770332284844, \"mean\": 0.0, \"frequency\": 0.018208955223880597, \"feature\": \"Rotational speed [rpm]\", \"score_label\": \"-0.6\"}, {\"index\": 35, \"value\": \"1552.5 - 1559.5\", \"contribution\": -0.004753918905316394, \"mean\": 0.008771929824561403, \"frequency\": 0.01701492537313433, \"feature\": \"Rotational speed [rpm]\", \"score_label\": \"-0.5\"}, {\"index\": 36, \"value\": \"1559.5 - 1567.5\", \"contribution\": -0.0063609608633498314, \"mean\": 0.0, \"frequency\": 0.01835820895522388, \"feature\": \"Rotational speed [rpm]\", \"score_label\": \"-0.6\"}, {\"index\": 37, \"value\": \"1567.5 - 1575.5\", \"contribution\": -0.0063661135529280415, \"mean\": 0.0, \"frequency\": 0.018507462686567163, \"feature\": \"Rotational speed [rpm]\", \"score_label\": \"-0.6\"}, {\"index\": 38, \"value\": \"1575.5 - 1585.5\", \"contribution\": -0.0049363639650576874, \"mean\": 0.008, \"frequency\": 0.018656716417910446, \"feature\": \"Rotational speed [rpm]\", \"score_label\": \"-0.5\"}, {\"index\": 39, \"value\": \"1585.5 - 1590.5\", \"contribution\": -0.005986041076402939, \"mean\": 0.0, \"frequency\": 0.01, \"feature\": \"Rotational speed [rpm]\", \"score_label\": \"-0.6\"}, {\"index\": 40, \"value\": \"1590.5 - 1596.5\", \"contribution\": -0.006012319016370543, \"mean\": -6.3441315692866086e-18, \"frequency\": 0.010447761194029851, \"feature\": \"Rotational speed [rpm]\", \"score_label\": \"-0.6\"}, {\"index\": 41, \"value\": \"1596.5 - 1608.5\", \"contribution\": -0.0050678480445885766, \"mean\": 0.007462686567164179, \"frequency\": 0.02, \"feature\": \"Rotational speed [rpm]\", \"score_label\": \"-0.5\"}, {\"index\": 42, \"value\": \"1608.5 - 1614.5\", \"contribution\": -0.0060458223863024746, \"mean\": 2.880578658486893e-16, \"frequency\": 0.011044776119402985, \"feature\": \"Rotational speed [rpm]\", \"score_label\": \"-0.6\"}, {\"index\": 43, \"value\": \"1614.5 - 1621.5\", \"contribution\": -0.003850737561888169, \"mean\": 0.012987012987012976, \"frequency\": 0.011492537313432836, \"feature\": \"Rotational speed [rpm]\", \"score_label\": \"-0.4\"}, {\"index\": 44, \"value\": \"1621.5 - 1633.5\", \"contribution\": -0.0050678480445885766, \"mean\": 0.007462686567164179, \"frequency\": 0.02, \"feature\": \"Rotational speed [rpm]\", \"score_label\": \"-0.5\"}, {\"index\": 45, \"value\": \"1633.5 - 1640.5\", \"contribution\": -0.006003674269231382, \"mean\": 0.0, \"frequency\": 0.010298507462686568, \"feature\": \"Rotational speed [rpm]\", \"score_label\": \"-0.6\"}, {\"index\": 46, \"value\": \"1640.5 - 1648.5\", \"contribution\": -0.006012319016370542, \"mean\": 0.0, \"frequency\": 0.010447761194029851, \"feature\": \"Rotational speed [rpm]\", \"score_label\": \"-0.6\"}, {\"index\": 47, \"value\": \"1648.5 - 1665.5\", \"contribution\": -0.00644843198778443, \"mean\": 0.0, \"frequency\": 0.021044776119402985, \"feature\": \"Rotational speed [rpm]\", \"score_label\": \"-0.6\"}, {\"index\": 48, \"value\": \"1665.5 - 1684.5\", \"contribution\": -0.005095212113893191, \"mean\": 0.007352941176470588, \"frequency\": 0.020298507462686566, \"feature\": \"Rotational speed [rpm]\", \"score_label\": \"-0.5\"}, {\"index\": 49, \"value\": \"1684.5 - 1698.5\", \"contribution\": -0.0029038108399046395, \"mean\": 0.019047619047618775, \"frequency\": 0.015671641791044775, \"feature\": \"Rotational speed [rpm]\", \"score_label\": \"-0.3\"}, {\"index\": 50, \"value\": \"1698.5 - 1710.5\", \"contribution\": -0.0009557544575769404, \"mean\": 0.029850746268656716, \"frequency\": 0.01, \"feature\": \"Rotational speed [rpm]\", \"score_label\": \"-0.1\"}, {\"index\": 51, \"value\": \"1710.5 - 1729.5\", \"contribution\": -0.0061373664865917825, \"mean\": 5.163828021512356e-18, \"frequency\": 0.012835820895522388, \"feature\": \"Rotational speed [rpm]\", \"score_label\": \"-0.6\"}, {\"index\": 52, \"value\": \"1729.5 - 1748.5\", \"contribution\": -0.00613019239458603, \"mean\": 4.179663151530001e-17, \"frequency\": 0.012686567164179104, \"feature\": \"Rotational speed [rpm]\", \"score_label\": \"-0.6\"}, {\"index\": 53, \"value\": \"1748.5 - 1782.5\", \"contribution\": -0.006360960863349791, \"mean\": 2.310708083772684e-16, \"frequency\": 0.01835820895522388, \"feature\": \"Rotational speed [rpm]\", \"score_label\": \"-0.6\"}, {\"index\": 54, \"value\": \"1782.5 - 1830.5\", \"contribution\": -0.006350541368206063, \"mean\": 0.0, \"frequency\": 0.018059701492537314, \"feature\": \"Rotational speed [rpm]\", \"score_label\": \"-0.6\"}, {\"index\": 55, \"value\": \"1830.5 - 1896.5\", \"contribution\": -0.0063557703322848005, \"mean\": 2.3296483139675417e-16, \"frequency\": 0.018208955223880597, \"feature\": \"Rotational speed [rpm]\", \"score_label\": \"-0.6\"}, {\"index\": 56, \"value\": \"1896.5 - 1995.5\", \"contribution\": -0.006360960863349827, \"mean\": 2.888385104715855e-17, \"frequency\": 0.01835820895522388, \"feature\": \"Rotational speed [rpm]\", \"score_label\": \"-0.6\"}, {\"index\": 57, \"value\": \"1995.5 - 2129.5\", \"contribution\": -0.0011048047522601969, \"mean\": 0.028985507246376916, \"frequency\": 0.010298507462686568, \"feature\": \"Rotational speed [rpm]\", \"score_label\": \"-0.1\"}, {\"index\": 58, \"value\": \"2129.5 - inf\", \"contribution\": 0.18793631396920304, \"mean\": 0.25, \"frequency\": 0.01373134328358209, \"feature\": \"Rotational speed [rpm]\", \"score_label\": \"18.8\"}, {\"index\": 0, \"value\": \"-inf - 17.3\", \"contribution\": 0.21219547506440975, \"mean\": 0.2804878048780488, \"frequency\": 0.012238805970149255, \"feature\": \"Torque [Nm]\", \"score_label\": \"21.2\"}, {\"index\": 1, \"value\": \"17.3 - 19.85\", \"contribution\": -0.001104804752260319, \"mean\": 0.028985507246376194, \"frequency\": 0.010298507462686568, \"feature\": \"Torque [Nm]\", \"score_label\": \"-0.1\"}, {\"index\": 2, \"value\": \"19.85 - 23.15\", \"contribution\": -0.006585475482301772, \"mean\": -2.0417894705750005e-17, \"frequency\": 0.025970149253731343, \"feature\": \"Torque [Nm]\", \"score_label\": \"-0.7\"}, {\"index\": 3, \"value\": \"23.15 - 25.45\", \"contribution\": -0.00657786653018865, \"mean\": 1.6588797519108444e-16, \"frequency\": 0.025671641791044777, \"feature\": \"Torque [Nm]\", \"score_label\": \"-0.7\"}, {\"index\": 4, \"value\": \"25.45 - 27.45\", \"contribution\": -0.00559193230873478, \"mean\": 0.005494505494505514, \"frequency\": 0.02716417910447761, \"feature\": \"Torque [Nm]\", \"score_label\": \"-0.6\"}, {\"index\": 5, \"value\": \"27.45 - 28.85\", \"contribution\": -0.006604158921048499, \"mean\": -1.5878049961119558e-16, \"frequency\": 0.02671641791044776, \"feature\": \"Torque [Nm]\", \"score_label\": \"-0.7\"}, {\"index\": 6, \"value\": \"28.85 - 30.75\", \"contribution\": -0.0038318427143125906, \"mean\": 0.016025641025641024, \"frequency\": 0.046567164179104475, \"feature\": \"Torque [Nm]\", \"score_label\": \"-0.4\"}, {\"index\": 7, \"value\": \"30.75 - 32.15\", \"contribution\": -0.00615387029188261, \"mean\": 0.0037313432835820895, \"frequency\": 0.04, \"feature\": \"Torque [Nm]\", \"score_label\": \"-0.6\"}, {\"index\": 8, \"value\": \"32.15 - 33.35\", \"contribution\": -0.006002994965522995, \"mean\": 0.00416666666666667, \"frequency\": 0.03582089552238806, \"feature\": \"Torque [Nm]\", \"score_label\": \"-0.6\"}, {\"index\": 9, \"value\": \"33.35 - 34.35\", \"contribution\": -0.006744836705787005, \"mean\": 3.215125501176924e-17, \"frequency\": 0.032985074626865674, \"feature\": \"Torque [Nm]\", \"score_label\": \"-0.7\"}, {\"index\": 10, \"value\": \"34.35 - 35.15\", \"contribution\": -0.004315351082721666, \"mean\": 0.012121212121212116, \"frequency\": 0.024626865671641792, \"feature\": \"Torque [Nm]\", \"score_label\": \"-0.4\"}, {\"index\": 11, \"value\": \"35.15 - 35.95\", \"contribution\": -0.006625968779532142, \"mean\": 7.681543089298381e-17, \"frequency\": 0.027611940298507463, \"feature\": \"Torque [Nm]\", \"score_label\": \"-0.7\"}, {\"index\": 12, \"value\": \"35.95 - 36.65\", \"contribution\": -0.005529275017364775, \"mean\": 0.005714285714285714, \"frequency\": 0.026119402985074626, \"feature\": \"Torque [Nm]\", \"score_label\": \"-0.6\"}, {\"index\": 13, \"value\": \"36.65 - 37.25\", \"contribution\": -0.006513953773025318, \"mean\": -4.554761126667309e-17, \"frequency\": 0.023283582089552238, \"feature\": \"Torque [Nm]\", \"score_label\": \"-0.7\"}, {\"index\": 14, \"value\": \"37.25 - 50.85\", \"contribution\": -0.0041254026861466874, \"mean\": 0.018879798615481436, \"frequency\": 0.47432835820895525, \"feature\": \"Torque [Nm]\", \"score_label\": \"-0.4\"}, {\"index\": 15, \"value\": \"50.85 - 51.25\", \"contribution\": 0.05275543433270608, \"mean\": 0.09722222222222222, \"frequency\": 0.010746268656716417, \"feature\": \"Torque [Nm]\", \"score_label\": \"5.3\"}, {\"index\": 16, \"value\": \"51.25 - 51.95\", \"contribution\": 0.014708242700012504, \"mean\": 0.05263157894736842, \"frequency\": 0.011343283582089553, \"feature\": \"Torque [Nm]\", \"score_label\": \"1.5\"}, {\"index\": 17, \"value\": \"51.95 - 52.95\", \"contribution\": 0.03655218821382395, \"mean\": 0.07575757575757576, \"frequency\": 0.019701492537313434, \"feature\": \"Torque [Nm]\", \"score_label\": \"3.7\"}, {\"index\": 18, \"value\": \"52.95 - 53.55\", \"contribution\": -0.0037458558868574353, \"mean\": 0.013513513513513514, \"frequency\": 0.011044776119402985, \"feature\": \"Torque [Nm]\", \"score_label\": \"-0.4\"}, {\"index\": 19, \"value\": \"53.55 - 54.45\", \"contribution\": 0.07270823717240307, \"mean\": 0.11764705882352941, \"frequency\": 0.015223880597014926, \"feature\": \"Torque [Nm]\", \"score_label\": \"7.3\"}, {\"index\": 20, \"value\": \"54.45 - 55.35\", \"contribution\": 0.05729289797854896, \"mean\": 0.10112359550561797, \"frequency\": 0.01328358208955224, \"feature\": \"Torque [Nm]\", \"score_label\": \"5.7\"}, {\"index\": 21, \"value\": \"55.35 - 57.25\", \"contribution\": 0.10198128111874506, \"mean\": 0.1487603305785124, \"frequency\": 0.018059701492537314, \"feature\": \"Torque [Nm]\", \"score_label\": \"10.2\"}, {\"index\": 22, \"value\": \"57.25 - 59.05\", \"contribution\": 0.06016704203332091, \"mean\": 0.10465116279069785, \"frequency\": 0.012835820895522388, \"feature\": \"Torque [Nm]\", \"score_label\": \"6.0\"}, {\"index\": 23, \"value\": \"59.05 - 60.95\", \"contribution\": 0.1598976161282816, \"mean\": 0.22388059701492538, \"frequency\": 0.01, \"feature\": \"Torque [Nm]\", \"score_label\": \"16.0\"}, {\"index\": 24, \"value\": \"60.95 - inf\", \"contribution\": 0.38598896096181423, \"mean\": 0.4634146341463415, \"frequency\": 0.01835820895522388, \"feature\": \"Torque [Nm]\", \"score_label\": \"38.6\"}, {\"index\": 0, \"value\": \"-inf - 199.5\", \"contribution\": -0.0030256242051104106, \"mean\": 0.02410223228728567, \"frequency\": 0.9226865671641791, \"feature\": \"Tool wear [min]\", \"score_label\": \"-0.3\"}, {\"index\": 1, \"value\": \"199.5 - 204.5\", \"contribution\": 0.07197585101144952, \"mean\": 0.11428571428571428, \"frequency\": 0.020895522388059702, \"feature\": \"Tool wear [min]\", \"score_label\": \"7.2\"}, {\"index\": 2, \"value\": \"204.5 - 207.5\", \"contribution\": 0.11475134523169861, \"mean\": 0.16883116883116883, \"frequency\": 0.011492537313432836, \"feature\": \"Tool wear [min]\", \"score_label\": \"11.5\"}, {\"index\": 3, \"value\": \"207.5 - 210.5\", \"contribution\": 0.1260062610351174, \"mean\": 0.18309859154929578, \"frequency\": 0.010597014925373134, \"feature\": \"Tool wear [min]\", \"score_label\": \"12.6\"}, {\"index\": 4, \"value\": \"210.5 - 215.5\", \"contribution\": 0.09925140437281516, \"mean\": 0.14942528735632185, \"frequency\": 0.012985074626865671, \"feature\": \"Tool wear [min]\", \"score_label\": \"9.9\"}, {\"index\": 5, \"value\": \"215.5 - 221.5\", \"contribution\": 0.13455726491936212, \"mean\": 0.19402985074626863, \"frequency\": 0.01, \"feature\": \"Tool wear [min]\", \"score_label\": \"13.5\"}, {\"index\": 6, \"value\": \"221.5 - inf\", \"contribution\": 0.20700264622749473, \"mean\": 0.27631578947368424, \"frequency\": 0.011343283582089553, \"feature\": \"Tool wear [min]\", \"score_label\": \"20.7\"}]}}, {\"mode\": \"vega-lite\"});\n",
       "</script>"
      ],
      "text/plain": [
       "alt.HConcatChart(...)"
      ]
     },
     "execution_count": 100,
     "metadata": {},
     "output_type": "execute_result"
    }
   ],
   "source": [
    "model.explain()"
   ]
  },
  {
   "cell_type": "markdown",
   "id": "485dc680-c743-40c0-bd02-88413c833356",
   "metadata": {},
   "source": [
    "In this snapshot, we demonstrate the impact of hyperparameter tuning on model interpretability. By adjusting max_depth and min_info_gain, we refine the feature wise explainability and information criterion, respectively, which in turn recalibrates feature score contributions. These scores, essential in understanding feature contributions to model predictions, are visualized before and after parameter adjustment, illustrating the model's internal logic shifts. This process is critical for enhancing transparency and aids in pinpointing influential features, fostering the development of interpretable and trustworthy machine learning models."
   ]
  },
  {
   "cell_type": "markdown",
   "id": "227c2573-0f0d-4cbc-afc8-df145442f425",
   "metadata": {},
   "source": [
    "# Persisting to Xplainable Cloud"
   ]
  },
  {
   "cell_type": "markdown",
   "id": "5170c404-1dc9-4aa7-8ae7-826259f9e7e0",
   "metadata": {},
   "source": [
    "## Instantiate Xplainable Cloud\n",
    "\n",
    "Initialise the xplainable cloud using an API key from:\n",
    "https://beta.xplainable.io/\n",
    "\n",
    "This allows you to save and collaborate on models, create deployments, create shareable reports."
   ]
  },
  {
   "cell_type": "code",
   "execution_count": 101,
   "id": "3de369f4-7544-425a-8ce7-f0ea47676a6e",
   "metadata": {},
   "outputs": [
    {
     "data": {
      "text/plain": [
       "{'xplainable version': '1.0.18',\n",
       " 'python version': '3.10.13',\n",
       " 'user': 'tuppackj',\n",
       " 'organisation': 'Testing Organisation',\n",
       " 'team': 'Sandbox'}"
      ]
     },
     "execution_count": 101,
     "metadata": {},
     "output_type": "execute_result"
    }
   ],
   "source": [
    "xp.initialise(\n",
    "    api_key=\"\", #<-- Add you API key here\n",
    ")"
   ]
  },
  {
   "cell_type": "markdown",
   "id": "388eae28-0585-49d1-9b6a-d66bd0daef25",
   "metadata": {},
   "source": [
    "## 5. Model Persisting\n",
    "In this step, we first create a unique identifier for our churn prediction model using `xp.client.create_model_id`. This identifier, shown as `model_id`, represents the newly instantiated model which predicts the likelihood of customers leaving within the next month. Following this, we generate a specific version of the model with `xp.client.create_model_version`, passing in our training data. The output `version_id` represents this particular iteration of our model, allowing us to track and manage different versions systematically.\n"
   ]
  },
  {
   "cell_type": "code",
   "execution_count": 102,
   "id": "0237c298-b01f-47c7-8016-ad8525748333",
   "metadata": {},
   "outputs": [
    {
     "data": {
      "text/plain": [
       "'ikAJOqfN35NouU8S'"
      ]
     },
     "execution_count": 102,
     "metadata": {},
     "output_type": "execute_result"
    }
   ],
   "source": [
    "model_id = xp.client.create_model_id(\n",
    "    model,\n",
    "    model_name=\"Asset Failure Prediction\",\n",
    "    model_description=\"Using machine metadata to predict asset failures\"\n",
    ")\n",
    "model_id"
   ]
  },
  {
   "cell_type": "code",
   "execution_count": 103,
   "id": "5132a286-b4bb-4c47-8dc5-242bc4fd841a",
   "metadata": {},
   "outputs": [
    {
     "data": {
      "application/vnd.jupyter.widget-view+json": {
       "model_id": "437cb843a5c14af884c38d35016a109e",
       "version_major": 2,
       "version_minor": 0
      },
      "text/plain": [
       "  0%|          | 0/6 [00:00<?, ?it/s]"
      ]
     },
     "metadata": {},
     "output_type": "display_data"
    },
    {
     "data": {
      "text/plain": [
       "'Z2eG6hSRakAlJRxx'"
      ]
     },
     "execution_count": 103,
     "metadata": {},
     "output_type": "execute_result"
    }
   ],
   "source": [
    "version_id = xp.client.create_model_version(\n",
    "    model,\n",
    "    model_id,\n",
    "    X_train,\n",
    "    y_train\n",
    ")\n",
    "version_id"
   ]
  },
  {
   "cell_type": "markdown",
   "id": "803430e6-8402-4fa0-b9cc-772804763b1d",
   "metadata": {},
   "source": [
    "## 6. Model Deployment"
   ]
  },
  {
   "cell_type": "markdown",
   "id": "62f65099-510a-4636-aea0-0632941fc0d5",
   "metadata": {},
   "source": [
    "The code block illustrates the deployment of our churn prediction model using the `xp.client.deploy` function. The deployment process involves specifying the `hostname` of the server where the model will be hosted, as well as the unique `model_id` and `version_id` that we obtained in the previous steps. This step effectively activates the model's endpoint, allowing it to receive and process prediction requests. The output confirms the deployment with a `deployment_id`, indicating the model's current `status` as 'inactive', its `location`, and the `endpoint` URL where it can be accessed for xplainable deployments."
   ]
  },
  {
   "cell_type": "code",
   "execution_count": 110,
   "id": "86e391f8-3007-4170-8089-f8fc14401d52",
   "metadata": {},
   "outputs": [],
   "source": [
    "deployment = xp.client.deploy(\n",
    "    hostname=\"https://inference.xplainable.io\", \n",
    "    model_id=model_id, #<- Use model id produced above\n",
    "    version_id=version_id #<- Use version id produced above\n",
    ")"
   ]
  },
  {
   "cell_type": "markdown",
   "id": "ea300063-0fee-4d3a-a107-aa8264f288c8",
   "metadata": {},
   "source": [
    "### Testing the Deployment programatically\n",
    "This section demonstrates the steps taken to programmatically test a deployed model. These steps are essential for validating that the model's deployment is functional and ready to process incoming prediction requests.\n"
   ]
  },
  {
   "cell_type": "markdown",
   "id": "7ed6fed3-91f5-4173-ab08-4971e6c4f65a",
   "metadata": {},
   "source": [
    "1. **Activating the Deployment:**\n",
    "   The model deployment is activated using `xp.client.activate_deployment`, which changes the deployment status to active, allowing it to accept prediction requests."
   ]
  },
  {
   "cell_type": "code",
   "execution_count": 111,
   "id": "f361569c-9f6e-4218-b2fc-49439a42d7bd",
   "metadata": {},
   "outputs": [
    {
     "data": {
      "text/plain": [
       "{'message': 'activated deployment'}"
      ]
     },
     "execution_count": 111,
     "metadata": {},
     "output_type": "execute_result"
    }
   ],
   "source": [
    "xp.client.activate_deployment(deployment['deployment_id'])"
   ]
  },
  {
   "cell_type": "markdown",
   "id": "a5092f55-1cfd-4162-8056-2b6c150f20fd",
   "metadata": {},
   "source": [
    "2. **Creating a Deployment Key:**\n",
    "   A deployment key is generated with `xp.client.generate_deploy_key`. This key is required to authenticate and make secure requests to the deployed model."
   ]
  },
  {
   "cell_type": "code",
   "execution_count": 112,
   "id": "15f4d541-2e7b-43da-b9b1-fc7cbc518d91",
   "metadata": {},
   "outputs": [],
   "source": [
    "deploy_key = xp.client.generate_deploy_key('for testing', deployment['deployment_id'], 7, clipboard=False)"
   ]
  },
  {
   "cell_type": "markdown",
   "id": "34a8ec84-df55-4d97-b8f3-f4b8199ddac3",
   "metadata": {},
   "source": [
    "3. **Generating Example Payload:**\n",
    "   An example payload for a deployment request is generated by `xp.client.generate_example_deployment_payload`. This payload mimics the input data structure the model expects when making predictions."
   ]
  },
  {
   "cell_type": "code",
   "execution_count": 113,
   "id": "a92aabc4-3f1e-47a0-a4db-35eaadca9197",
   "metadata": {},
   "outputs": [],
   "source": [
    "#Set the option to highlight multiple ways of creating data\n",
    "option = 1"
   ]
  },
  {
   "cell_type": "code",
   "execution_count": 114,
   "id": "f05fab0b-5da5-4644-9814-247898ac8961",
   "metadata": {},
   "outputs": [],
   "source": [
    "if option == 1:\n",
    "    body = xp.client.generate_example_deployment_payload(deployment['deployment_id'])\n",
    "else:\n",
    "    body = json.loads(df_transformed.drop(columns=[\"Churn Label\"]).sample(1).to_json(orient=\"records\"))"
   ]
  },
  {
   "cell_type": "code",
   "execution_count": 115,
   "id": "3bc5dd63-7aa5-452a-9c02-52f87d30cfc6",
   "metadata": {},
   "outputs": [
    {
     "data": {
      "text/plain": [
       "[{'Type': 'L',\n",
       "  'Air temperature [K]': 302.85,\n",
       "  'Process temperature [K]': None,\n",
       "  'Rotational speed [rpm]': 1516.0,\n",
       "  'Torque [Nm]': 36.95,\n",
       "  'Tool wear [min]': 221.5}]"
      ]
     },
     "execution_count": 115,
     "metadata": {},
     "output_type": "execute_result"
    }
   ],
   "source": [
    "body"
   ]
  },
  {
   "cell_type": "markdown",
   "id": "be6ead2d-bc5c-498e-88b6-362247938a94",
   "metadata": {},
   "source": [
    "4. **Making a Prediction Request:**\n",
    "   A POST request is made to the model's prediction endpoint with the example payload. The model processes the input data and returns a prediction response, which includes the predicted class (e.g., 'No' for no churn) and the prediction probabilities for each class."
   ]
  },
  {
   "cell_type": "code",
   "execution_count": 116,
   "id": "0e0dd6f2-c8a9-4a2e-9501-9800310b3594",
   "metadata": {},
   "outputs": [
    {
     "data": {
      "text/plain": [
       "[{'index': 0,\n",
       "  'id': None,\n",
       "  'partition': '__dataset__',\n",
       "  'score': 0.16746322358939475,\n",
       "  'proba': 0.037779424684117505,\n",
       "  'pred': '0',\n",
       "  'support': 428,\n",
       "  'breakdown': {'base_value': 0.035522388059701496,\n",
       "   'Type': 0.002941960364459947,\n",
       "   'Air temperature [K]': 0.0047721098391504055,\n",
       "   'Process temperature [K]': 0.0,\n",
       "   'Rotational speed [rpm]': -0.0038165458202539227,\n",
       "   'Torque [Nm]': -0.006513953773025318,\n",
       "   'Tool wear [min]': 0.13455726491936212}}]"
      ]
     },
     "execution_count": 116,
     "metadata": {},
     "output_type": "execute_result"
    }
   ],
   "source": [
    "response = requests.post(\n",
    "    url=\"https://inference.xplainable.io/v1/predict\",\n",
    "    headers={'api_key': deploy_key['deploy_key']},\n",
    "    json=body\n",
    ")\n",
    "\n",
    "value = response.json()\n",
    "value"
   ]
  }
 ],
 "metadata": {
  "kernelspec": {
   "display_name": "Python 3 (ipykernel)",
   "language": "python",
   "name": "python3"
  },
  "language_info": {
   "codemirror_mode": {
    "name": "ipython",
    "version": 3
   },
   "file_extension": ".py",
   "mimetype": "text/x-python",
   "name": "python",
   "nbconvert_exporter": "python",
   "pygments_lexer": "ipython3",
   "version": "3.10.13"
  }
 },
 "nbformat": 4,
 "nbformat_minor": 5
}
